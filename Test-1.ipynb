{
 "cells": [
  {
   "cell_type": "markdown",
   "metadata": {},
   "source": [
    "def meetup_schedule(s,e):\n"
   ]
  },
  {
   "cell_type": "code",
   "execution_count": null,
   "metadata": {},
   "outputs": [],
   "source": [
    "def meetup_schedule(s,e):\n",
    "    first_arr = s \n",
    "    last_arr = e \n",
    "    first_available = {}\n",
    "    for i in first_arr:\n",
    "        first_available[i] = first_available.get(i,0) + 1\n",
    "    first_available_len = len(first_available)\n",
    "    last_available = {}\n",
    "    for i in last_arr:\n",
    "        last_available[i] = last_available.get(i,0) + 1\n",
    "    last_day_counter = 0\n",
    "    for key in last_available:\n",
    "        if key not in first_available:\n",
    "            last_day_counter += 1\n",
    "    return first_available_len + last_day_counter\n",
    "\n",
    "# s = [1, 10, 11]\n",
    "# e = [11, 10, 11]\n",
    "s = [1, 2, 1, 2, 2]\n",
    "e = [3, 2, 1, 3, 3]\n",
    "\n",
    "meetup_schedule(s,e)"
   ]
  },
  {
   "cell_type": "code",
   "execution_count": null,
   "metadata": {},
   "outputs": [],
   "source": []
  },
  {
   "cell_type": "code",
   "execution_count": 7,
   "metadata": {},
   "outputs": [
    {
     "name": "stdout",
     "output_type": "stream",
     "text": [
      "3 2\n"
     ]
    },
    {
     "ename": "ValueError",
     "evalue": "min() arg is an empty sequence",
     "output_type": "error",
     "traceback": [
      "\u001b[0;31m---------------------------------------------------------------------------\u001b[0m",
      "\u001b[0;31mValueError\u001b[0m                                Traceback (most recent call last)",
      "\u001b[0;32m<ipython-input-7-5ad5f4d30227>\u001b[0m in \u001b[0;36m<module>\u001b[0;34m\u001b[0m\n\u001b[1;32m     39\u001b[0m \u001b[0;34m\u001b[0m\u001b[0m\n\u001b[1;32m     40\u001b[0m \u001b[0mlst\u001b[0m \u001b[0;34m=\u001b[0m \u001b[0;34m[\u001b[0m\u001b[0;36m1\u001b[0m\u001b[0;34m,\u001b[0m\u001b[0;36m3\u001b[0m\u001b[0;34m,\u001b[0m\u001b[0;36m2\u001b[0m\u001b[0;34m]\u001b[0m\u001b[0;34m\u001b[0m\u001b[0;34m\u001b[0m\u001b[0m\n\u001b[0;32m---> 41\u001b[0;31m \u001b[0mclosest_number\u001b[0m\u001b[0;34m(\u001b[0m\u001b[0mlst\u001b[0m\u001b[0;34m)\u001b[0m\u001b[0;34m\u001b[0m\u001b[0;34m\u001b[0m\u001b[0m\n\u001b[0m",
      "\u001b[0;32m<ipython-input-7-5ad5f4d30227>\u001b[0m in \u001b[0;36mclosest_number\u001b[0;34m(lst)\u001b[0m\n\u001b[1;32m     35\u001b[0m     \u001b[0mnew_min_l\u001b[0m \u001b[0;34m=\u001b[0m \u001b[0mmin\u001b[0m\u001b[0;34m(\u001b[0m\u001b[0mdiff_l\u001b[0m\u001b[0;34m)\u001b[0m\u001b[0;34m\u001b[0m\u001b[0;34m\u001b[0m\u001b[0m\n\u001b[1;32m     36\u001b[0m     \u001b[0mprint\u001b[0m\u001b[0;34m(\u001b[0m\u001b[0mdiff_l\u001b[0m\u001b[0;34m[\u001b[0m\u001b[0mnew_min_l\u001b[0m\u001b[0;34m]\u001b[0m\u001b[0;34m)\u001b[0m\u001b[0;34m\u001b[0m\u001b[0;34m\u001b[0m\u001b[0m\n\u001b[0;32m---> 37\u001b[0;31m     \u001b[0mnew_min_r\u001b[0m \u001b[0;34m=\u001b[0m \u001b[0mmin\u001b[0m\u001b[0;34m(\u001b[0m\u001b[0mdiff_r\u001b[0m\u001b[0;34m)\u001b[0m\u001b[0;34m\u001b[0m\u001b[0;34m\u001b[0m\u001b[0m\n\u001b[0m\u001b[1;32m     38\u001b[0m     \u001b[0mprint\u001b[0m\u001b[0;34m(\u001b[0m\u001b[0mdiff_l\u001b[0m\u001b[0;34m[\u001b[0m\u001b[0mnew_min_r\u001b[0m\u001b[0;34m]\u001b[0m\u001b[0;34m)\u001b[0m\u001b[0;34m\u001b[0m\u001b[0;34m\u001b[0m\u001b[0m\n\u001b[1;32m     39\u001b[0m \u001b[0;34m\u001b[0m\u001b[0m\n",
      "\u001b[0;31mValueError\u001b[0m: min() arg is an empty sequence"
     ]
    }
   ],
   "source": [
    "def _closest_number(lst):\n",
    "    # sort list\n",
    "    # set two pointers starting at the end , i and j\n",
    "    s = lst\n",
    "    n = len(s)\n",
    "    diff_l = {}\n",
    "    diff_r = {}\n",
    "\n",
    "    left = 0\n",
    "    right = n-1\n",
    "    min_val_l = max(s) # min has to be the min difference between first two\n",
    "    min_val_r = max(s) # min has to be the min difference of last two\n",
    "    while left < right:\n",
    "        diff_left = abs(s[left] - s[left+1])\n",
    "        if diff_left < min_val_l:\n",
    "            min_val_l = diff_left\n",
    "            diff_l[min_val_l] = (str(s[left]) + \" \" + str(s[left+1]))\n",
    "            left +=1 \n",
    "            continue\n",
    "        diff_right = abs(s[right] - s[right-1])\n",
    "        print(diff_right)\n",
    "        if diff_right < min_val_r:\n",
    "            min_val_r = diff_right\n",
    "            diff_r[min_val_r] = (str(s[right]) + \" \" + str(s[right-1]))\n",
    "            right +=1 \n",
    "            continue\n",
    "#         if diff_left == min(diff_l):\n",
    "#             print(str(s[left]) + \" \" + str(s[left+1]))\n",
    "#         if diff_right == min(diff_r):\n",
    "#             print(str(s[right]) + \" \" + str(s[right-1]))\n",
    "        \n",
    "\n",
    "#     print(diff_l)\n",
    "#     print(diff_r)\n",
    "    new_min_l = min(diff_l)\n",
    "    print(diff_l[new_min_l])\n",
    "    new_min_r = min(diff_r)\n",
    "    print(diff_l[new_min_r])\n",
    "\n",
    "lst = [1,3,2]\n",
    "closest_number(lst)"
   ]
  },
  {
   "cell_type": "code",
   "execution_count": null,
   "metadata": {},
   "outputs": [],
   "source": [
    "def closest_number(lst): \n",
    "    min = abs(lst[0]-lst[1])\n",
    "    for i in range(len(lst)-1):\n",
    "        if abs(lst[i]-lst[i+1]) < min:\n",
    "            min = abs(lst[i]-lst[i+1])\n",
    "    for j in range(len(lst)-1,0,-1):\n",
    "        if abs(lst[j]-lst[j-1]) < min:\n",
    "            min = abs(lst[j]-lst[j-1])\n",
    "    left = 0\n",
    "    right = len(lst)-1 \n",
    "    while left <= right:\n",
    "#         diff_left = abs(lst[left] - lst[left+1])\n",
    "#         diff_right = abs(lst[right] - lst[right-1])\n",
    "#         if diff_left == min:\n",
    "#             print(str(lst[left]) + \" \" + str(lst[left+1]))\n",
    "#         elif diff_left < min:\n",
    "#             left += 1\n",
    "#         elif diff_right == min:\n",
    "#             print(str(lst[right]) + \" \" + str(lst[right-1]))\n",
    "#         elif diff_right > min:\n",
    "#             right -= 1    \n",
    "        diff_left = abs(lst[left] - lst[left+1])\n",
    "        diff_right = abs(lst[right] - lst[right-1])\n",
    "        if diff_left == min and diff_right == min:\n",
    "            print(str(lst[left]) + \" \" + str(lst[left+1]))\n",
    "            print(str(lst[right]) + \" \" + str(lst[right-1]))\n",
    "        elif diff_left < min:\n",
    "            left += 1\n",
    "        elif diff_right == min:\n",
    "            print(str(lst[right]) + \" \" + str(lst[right-1]))\n",
    "        elif diff_right > min:\n",
    "            right -= 1    \n",
    "lst = [1,3,1]\n",
    "closest_number(lst)"
   ]
  },
  {
   "cell_type": "code",
   "execution_count": null,
   "metadata": {},
   "outputs": [],
   "source": [
    "lst = [1,3,2,2]\n",
    "lst.sort()\n",
    "print(lst)"
   ]
  },
  {
   "cell_type": "code",
   "execution_count": 69,
   "metadata": {},
   "outputs": [],
   "source": [
    "LCP_TEST_CASES = [\n",
    "    (,),\n",
    "    (,),\n",
    "]"
   ]
  },
  {
   "cell_type": "code",
   "execution_count": 70,
   "metadata": {},
   "outputs": [],
   "source": [
    "def test_longestCommonPrefix(fn, test_cases):\n",
    "    passed = 0\n",
    "    total = len(test_cases)   \n",
    "    for lst,expected in test_cases:\n",
    "        got = fn(lst)\n",
    "        if got == expected:\n",
    "            print(True)\n",
    "            passed += 1\n",
    "        else:\n",
    "            print('input : {}, expected : {} got : {}'.format(\n",
    "                 lst, expected, got))\n",
    "    print(\"passed {} of {} tests.\".format(passed,total))"
   ]
  },
  {
   "cell_type": "code",
   "execution_count": 71,
   "metadata": {},
   "outputs": [
    {
     "name": "stdout",
     "output_type": "stream",
     "text": [
      "True\n",
      "True\n",
      "passed 2 of 2 tests.\n"
     ]
    }
   ],
   "source": [
    "test_longestCommonPrefix(longestCommonPrefix, LCP_TEST_CASES)"
   ]
  },
  {
   "cell_type": "code",
   "execution_count": null,
   "metadata": {},
   "outputs": [],
   "source": []
  }
 ],
 "metadata": {
  "kernelspec": {
   "display_name": "Python 3",
   "language": "python",
   "name": "python3"
  },
  "language_info": {
   "codemirror_mode": {
    "name": "ipython",
    "version": 3
   },
   "file_extension": ".py",
   "mimetype": "text/x-python",
   "name": "python",
   "nbconvert_exporter": "python",
   "pygments_lexer": "ipython3",
   "version": "3.7.1"
  }
 },
 "nbformat": 4,
 "nbformat_minor": 2
}
