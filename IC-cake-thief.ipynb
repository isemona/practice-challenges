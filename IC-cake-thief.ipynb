{
 "cells": [
  {
   "cell_type": "code",
   "execution_count": null,
   "metadata": {},
   "outputs": [],
   "source": [
    "\n",
    "def say_hello():\n",
    "    print('Hello, World')\n",
    "\n",
    "for i in range(5):\n",
    "    say_hello()\n",
    "\n",
    "\"\"\"\n",
    "[(7, 160), (3, 90), (2, 10)]\n",
    "capacity = 20\n",
    "\n",
    "[(20, 100), (1, 90)]\n",
    "capacity = 20\n",
    "  -> value=100\n",
    "  value = 20 * 90 -> 1800\n",
    "\n",
    "[(20, 100), (1, 1)]\n",
    "capacity = 20\n",
    "  -> value=100 (optimal)\n",
    "\n",
    "\"Knapsack Problem\": classic dynamic programming questions\n",
    "\n",
    "            A         B        C\n",
    "items = [(7, 160), (3, 90), (2, 10)]\n",
    "\n",
    "Choice1: Use item A\n",
    "  capacity =- A.capacity\n",
    "\n",
    "Choice2: Don't use item A\n",
    "  items.remove(A)\n",
    "\n",
    "\"\"\"\n",
    "\n",
    "knapsack([], 20) -> 0\n",
    "\n",
    "knapsack([(7, 20), ...],  0) -> 0\n",
    "\n",
    "# recursive\n",
    "def knapsack(items, capacity):\n",
    "    if not items or capacity == 0:\n",
    "        return 0\n",
    "    \n",
    "    # Choice1: use first item (A)\n",
    "    val_choice1 = knapsack(capacity - items[0][0], items)\n",
    "    \n",
    "    # Choice2: don't use the first item (A)\n",
    "    val_choice2 = knapsack(capacity, items[1:])\n",
    "    \n",
    "    return max(val_choice1, val_choice2)\n",
    "\n",
    "# dynamic programming: \"bottom-up\" recursion\n",
    "# recusion: \"top-down\""
   ]
  }
 ],
 "metadata": {
  "kernelspec": {
   "display_name": "Python 3",
   "language": "python",
   "name": "python3"
  },
  "language_info": {
   "codemirror_mode": {
    "name": "ipython",
    "version": 3
   },
   "file_extension": ".py",
   "mimetype": "text/x-python",
   "name": "python",
   "nbconvert_exporter": "python",
   "pygments_lexer": "ipython3",
   "version": "3.7.1"
  }
 },
 "nbformat": 4,
 "nbformat_minor": 2
}
