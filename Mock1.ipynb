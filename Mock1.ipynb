{
 "cells": [
  {
   "cell_type": "markdown",
   "metadata": {},
   "source": [
    "Your company built an in-house calendar tool called HiCal. You want to add a feature to see the times in a day when everyone is available.\n",
    "\n",
    "To do this, you’ll need to know when any team is having a meeting. In HiCal, a meeting is stored as a tuple ↴ of integers (start_time, end_time). These integers represent the number of 30-minute blocks past 9:00am.\n",
    "\n",
    "For example:\n",
    "\n",
    "  (2, 3)  # Meeting from 10:00 – 10:30 am\n",
    "(6, 9)  # Meeting from 12:00 – 1:30 pm\n",
    "\n",
    "Write a function merge_ranges() that takes a list of multiple meeting time ranges and returns a list of condensed ranges.\n",
    "\n",
    "For example, given:\n",
    "\n",
    "  [(0, 1), (3, 5), (4, 8), (10, 12), (9, 10)]\n",
    " \n",
    "your function would return:\n",
    "\n",
    "  [(0, 1), (3, 8), (9, 12)]\n",
    " \n",
    "Do not assume the meetings are in order. The meeting times are coming from multiple teams.\n",
    "\n",
    "Write a solution that's efficient even when we can't put a nice upper bound on the numbers representing our time ranges. Here we've simplified our times down to the number of 30-minute slots past 9:00 am. But we want the function to work even for very large numbers, like Unix timestamps. In any case, the spirit of the challenge is to merge meetings where start_time and end_time don't have an upper bound."
   ]
  },
  {
   "cell_type": "code",
   "execution_count": 1,
   "metadata": {},
   "outputs": [
    {
     "name": "stdout",
     "output_type": "stream",
     "text": [
      "an\n"
     ]
    }
   ],
   "source": [
    "# def reverse_string(word):\n",
    "#     reverse_word = list(word)\n",
    "#     new_word = [] # new list O(n) extra data structure in comparision to the size of the input (n) (new array with n-size)\n",
    "    \n",
    "#     for ch in range(len(reverse_word)): #O(n)\n",
    "#         new = reverse_word.pop() # O(1)\n",
    "#         new_word += new #O(n)\n",
    "    \n",
    "#     print(new_word)\n",
    "#     return ''.join(new_word) #O(n)\n",
    "\n",
    "# word = \"mona\" # -> anom\n",
    "\n",
    "# print(reverse_string(word))\n",
    "# show structured thinking\n",
    "# list[start], list[end] = list[end], list[start]\n",
    "\n",
    "# approach: \n",
    "# input = mona\n",
    "# 1. swap first and last => aonm word[0].swap(word[-1])\n",
    "# 2. first++, last-- swap => anom\n",
    "\n",
    "\n",
    "def reverse_string(word):\n",
    "    reverse_word = list(word)\n",
    "    new_word = \"\" \n",
    "    \n",
    "    for ch in reverse_word: #O(n)\n",
    "        new = reverse_word.pop() #O(1)\n",
    "        new_word += str(new) #O(n)\n",
    "\n",
    "    return new_word\n",
    "\n",
    "word = \"mona\" # -> anom\n",
    "\n",
    "print(reverse_string(word))\n",
    "\n",
    "\n",
    "# Given an array of integers arr [1, 2, 0, 0, 12, 0] \n",
    "# Move all the zeroes to the end, keeping the order of the nonzeros the same\n",
    "\n",
    "# approach:\n",
    "# input = [1, 2, 0, 0, 12, 0] -> [1, 2, 12, 0, 0, 0]\n",
    "\n",
    "\n",
    "# 1. array_nonzeros = []\n",
    "# 2. array_zeroes = []\n",
    "# 3. new_array = []\n",
    "\n",
    "#string manipulation\n",
    "#binary search\n",
    "#recursion\n",
    "#graphs\n",
    "#binary search tree (recursion)\n",
    "\n",
    "#1/2 -> basic data structures\n",
    "#3/4 -> leetcode problems (highest acceptance rates)\n",
    "#google -> shit ton of medium\n",
    "\n",
    "#sorting -> quick sort, merge sort, bubble, insertion\n",
    "\n",
    "#python, oop \n",
    "#reduce space = swap in place"
   ]
  },
  {
   "cell_type": "code",
   "execution_count": null,
   "metadata": {},
   "outputs": [],
   "source": []
  }
 ],
 "metadata": {
  "kernelspec": {
   "display_name": "Python 3",
   "language": "python",
   "name": "python3"
  },
  "language_info": {
   "codemirror_mode": {
    "name": "ipython",
    "version": 3
   },
   "file_extension": ".py",
   "mimetype": "text/x-python",
   "name": "python",
   "nbconvert_exporter": "python",
   "pygments_lexer": "ipython3",
   "version": "3.7.1"
  }
 },
 "nbformat": 4,
 "nbformat_minor": 2
}
