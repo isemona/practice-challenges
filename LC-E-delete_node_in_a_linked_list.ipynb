{
 "cells": [
  {
   "cell_type": "markdown",
   "metadata": {},
   "source": [
    "# Deleting"
   ]
  },
  {
   "cell_type": "code",
   "execution_count": null,
   "metadata": {},
   "outputs": [],
   "source": [
    "# Definition for singly-linked list.\n",
    "class ListNode:\n",
    "    def __init__(self, x):\n",
    "        self.val = x\n",
    "        self.next = None"
   ]
  },
  {
   "cell_type": "code",
   "execution_count": 16,
   "metadata": {},
   "outputs": [],
   "source": [
    "class LinkedList():\n",
    "    def __init__(self):\n",
    "        self.head = None\n",
    "        self.tail = None\n",
    "    \n",
    "    def append(self,data):\n",
    "        \"\"\"Append node with data to the end of the list.\"\"\"\n",
    "        \n",
    "        new_node = ListNode(data)\n",
    "        \n",
    "        if self.head is None:\n",
    "            self.head = new_node\n",
    "        \n",
    "        if self.tail is not None:\n",
    "            # Did list start as empty?\n",
    "            self.tail.next = new_node\n",
    "        \n",
    "        self.tail = new_node\n",
    "        \n",
    "my_ll = LinkedList()\n",
    "my_ll.append(\"apple\")\n",
    "my_ll.append(\"berry\")\n",
    "my_ll.append(\"cherry\")"
   ]
  },
  {
   "cell_type": "code",
   "execution_count": 5,
   "metadata": {},
   "outputs": [],
   "source": [
    "class Solution:\n",
    "    def deleteNode(self, head, node):\n",
    "        \"\"\"\n",
    "        :type node: ListNode\n",
    "        :rtype: void Do not return anything, modify node in-place instead.\n",
    "        \"\"\"\n",
    "        \n",
    "        \"\"\"\n",
    "        Goal - delete a given node\n",
    "        \n",
    "        Input - (sll, node), \n",
    "        \n",
    "        pointer = current\n",
    "        arr_visited = []\n",
    "        if matching node found reassign pointer to next.next\n",
    "        return?\n",
    "        \n",
    "        Assumptions - at least two elements, will not be just a tail\n",
    "        \"\"\"\n",
    "        \n",
    "        # remove head, make 2nd item (if any) the new .head\n",
    "        if self.head is not None and self.head == value:\n",
    "            self.head = self.head.next\n",
    "            if self.head is None:\n",
    "                self.tail = None\n",
    "            return\n",
    "        \n",
    "        # Removing something other than head \n",
    "        current = self.head\n",
    "        while current.next is None:\n",
    "            if current.next is None:\n",
    "                # If removing last item, update .tail\n",
    "                self.tail = current\n",
    "            else:\n",
    "                current = current.next"
   ]
  },
  {
   "cell_type": "code",
   "execution_count": 6,
   "metadata": {},
   "outputs": [
    {
     "ename": "NameError",
     "evalue": "name 'LinkedNode' is not defined",
     "output_type": "error",
     "traceback": [
      "\u001b[0;31m---------------------------------------------------------------------------\u001b[0m",
      "\u001b[0;31mNameError\u001b[0m                                 Traceback (most recent call last)",
      "\u001b[0;32m<ipython-input-6-826671ea1c47>\u001b[0m in \u001b[0;36m<module>\u001b[0;34m\u001b[0m\n\u001b[0;32m----> 1\u001b[0;31m \u001b[0mmy_ll\u001b[0m \u001b[0;34m=\u001b[0m \u001b[0mLinkedNode\u001b[0m\u001b[0;34m(\u001b[0m\u001b[0;34m)\u001b[0m\u001b[0;34m\u001b[0m\u001b[0;34m\u001b[0m\u001b[0m\n\u001b[0m\u001b[1;32m      2\u001b[0m \u001b[0mmy_ll\u001b[0m\u001b[0;34m.\u001b[0m\u001b[0mappend\u001b[0m\u001b[0;34m(\u001b[0m\u001b[0;34m\"apple\"\u001b[0m\u001b[0;34m)\u001b[0m\u001b[0;34m\u001b[0m\u001b[0;34m\u001b[0m\u001b[0m\n\u001b[1;32m      3\u001b[0m \u001b[0mmy_ll\u001b[0m\u001b[0;34m.\u001b[0m\u001b[0mappend\u001b[0m\u001b[0;34m(\u001b[0m\u001b[0;34m\"berry\"\u001b[0m\u001b[0;34m)\u001b[0m\u001b[0;34m\u001b[0m\u001b[0;34m\u001b[0m\u001b[0m\n\u001b[1;32m      4\u001b[0m \u001b[0mmy_ll\u001b[0m\u001b[0;34m.\u001b[0m\u001b[0mappend\u001b[0m\u001b[0;34m(\u001b[0m\u001b[0;34m\"cherry\"\u001b[0m\u001b[0;34m)\u001b[0m\u001b[0;34m\u001b[0m\u001b[0;34m\u001b[0m\u001b[0m\n",
      "\u001b[0;31mNameError\u001b[0m: name 'LinkedNode' is not defined"
     ]
    }
   ],
   "source": [
    "my_ll = LinkedNode()\n",
    "my_ll.append(\"apple\")\n",
    "my_ll.append(\"berry\")\n",
    "my_ll.append(\"cherry\")"
   ]
  },
  {
   "cell_type": "markdown",
   "metadata": {},
   "source": [
    "Advantages\n",
    "\n",
    "It’s a dynamic data structure in which insertion and deletion are simple as we don’t need to shift the elements. Just updating the next pointer will do the job for us.\n",
    "Stack and Queue data structures can be easily implemented using linked lists.\n",
    "Disadvantages\n",
    "\n",
    "Additional memory is used up by the next pointers.\n",
    "Random access is not possible. You must traverse the linked list from the beginning to get to a particular node."
   ]
  },
  {
   "cell_type": "code",
   "execution_count": null,
   "metadata": {},
   "outputs": [],
   "source": []
  }
 ],
 "metadata": {
  "kernelspec": {
   "display_name": "Python 3",
   "language": "python",
   "name": "python3"
  },
  "language_info": {
   "codemirror_mode": {
    "name": "ipython",
    "version": 3
   },
   "file_extension": ".py",
   "mimetype": "text/x-python",
   "name": "python",
   "nbconvert_exporter": "python",
   "pygments_lexer": "ipython3",
   "version": "3.7.1"
  }
 },
 "nbformat": 4,
 "nbformat_minor": 2
}
