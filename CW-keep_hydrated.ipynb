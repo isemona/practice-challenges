{
 "cells": [
  {
   "cell_type": "markdown",
   "metadata": {},
   "source": [
    "Nathan loves cycling.\n",
    "\n",
    "Because Nathan knows it is important to stay hydrated, he drinks 0.5 litres of water per hour of cycling.\n",
    "\n",
    "You get given the time in hours and you need to return the number of litres Nathan will drink, rounded to the smallest value.\n",
    "\n",
    "For example:\n",
    "\n",
    "time = 3 ----> litres = 1\n",
    "\n",
    "time = 6.7---> litres = 3\n",
    "\n",
    "time = 11.8--> litres = 5"
   ]
  },
  {
   "cell_type": "code",
   "execution_count": 21,
   "metadata": {},
   "outputs": [],
   "source": [
    "def convertTimetoLiters(time):\n",
    "    return round(time%0.5)"
   ]
  },
  {
   "cell_type": "code",
   "execution_count": null,
   "metadata": {},
   "outputs": [],
   "source": [
    "test.describe('Fixed tests')\n",
    "test.it('Tests')\n",
    "test.assert_equals(litres(2), 1, 'should return 1 litre');\n",
    "test.assert_equals(litres(1.4), 0, 'should return 0 litres');\n",
    "test.assert_equals(litres(12.3), 6, 'should return 6 litres');\n",
    "test.assert_equals(litres(0.82), 0, 'should return 0 litres');\n",
    "test.assert_equals(litres(11.8), 5, 'should return 5 litres');\n",
    "test.assert_equals(litres(1787), 893, 'should return 893 litres');\n",
    "test.assert_equals(litres(0), 0, 'should return 0 litres');"
   ]
  },
  {
   "cell_type": "code",
   "execution_count": 22,
   "metadata": {},
   "outputs": [],
   "source": [
    "CTL_TEST_CASES = [\n",
    "    (2, 1),\n",
    "    (1.4, 0),\n",
    "    (12.3, 6),\n",
    "    (0.82, 0),\n",
    "    (11.8, 5),\n",
    "    (1787, 893),\n",
    "    (0, 0),\n",
    "]"
   ]
  },
  {
   "cell_type": "code",
   "execution_count": 23,
   "metadata": {},
   "outputs": [],
   "source": [
    "def test_convertTimetoLiters(fn, test_cases):\n",
    "    passed = 0\n",
    "    total = len(test_cases)   \n",
    "    for num, expected in test_cases:\n",
    "        got = fn(num)\n",
    "        if got == expected:\n",
    "            print(True)\n",
    "            passed += 1\n",
    "        else:\n",
    "            print('input : {}, expected : {} got : {}'.format(\n",
    "                 num, expected, got))\n",
    "    print(\"passed {} of {} tests.\".format(passed,total))"
   ]
  },
  {
   "cell_type": "code",
   "execution_count": 24,
   "metadata": {},
   "outputs": [
    {
     "name": "stdout",
     "output_type": "stream",
     "text": [
      "input : 2, expected : 1 got : 0\n",
      "True\n",
      "input : 12.3, expected : 6 got : 0\n",
      "True\n",
      "input : 11.8, expected : 5 got : 0\n",
      "input : 1787, expected : 893 got : 0\n",
      "True\n",
      "passed 3 of 7 tests.\n"
     ]
    }
   ],
   "source": [
    "test_convertTimetoLiters(convertTimetoLiters, CTL_TEST_CASES)"
   ]
  },
  {
   "cell_type": "code",
   "execution_count": null,
   "metadata": {},
   "outputs": [],
   "source": []
  }
 ],
 "metadata": {
  "kernelspec": {
   "display_name": "Python 3",
   "language": "python",
   "name": "python3"
  },
  "language_info": {
   "codemirror_mode": {
    "name": "ipython",
    "version": 3
   },
   "file_extension": ".py",
   "mimetype": "text/x-python",
   "name": "python",
   "nbconvert_exporter": "python",
   "pygments_lexer": "ipython3",
   "version": "3.7.1"
  }
 },
 "nbformat": 4,
 "nbformat_minor": 2
}
