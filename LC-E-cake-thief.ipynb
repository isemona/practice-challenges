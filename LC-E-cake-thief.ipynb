{
 "cells": [
  {
   "cell_type": "markdown",
   "metadata": {},
   "source": [
    "You are a renowned thief who has recently switched from stealing precious metals to stealing \n",
    "cakes because of the insane profit margins. You end up hitting the jackpot, breaking into the \n",
    "world's largest privately owned stock of cakes—the vault of the Queen of England.\n",
    "\n",
    "While Queen Elizabeth has a limited number of types of cake, she has an unlimited supply of \n",
    "each type.\n",
    "\n",
    "Each type of cake has a weight and a value, stored in a tuple with two indices:\n",
    "\n",
    "An integer representing the weight of the cake in kilograms\n",
    "An integer representing the monetary value of the cake in British shillings\n",
    "For example:\n",
    "\n",
    "//Weighs 7 kilograms and has a value of 160 shillings\n",
    "(7, 160)\n",
    "\n",
    "//Weighs 3 kilograms and has a value of 90 shillings\n",
    "(3, 90)\n",
    "\n",
    "You brought a duffel bag that can hold limited weight, and you want to make off with the \n",
    "most valuable haul possible.\n",
    "\n",
    "Write a function max_duffel_bag_value() that takes a list of cake type tuples and a \n",
    "weight capacity, and returns the maximum monetary value the duffel bag can hold.\n",
    "\n",
    "For example:\n",
    "\n",
    "cake_tuples = [(7, 160), (3, 90), (2, 15)]\n",
    "capacity    = 20\n",
    "\n",
    "//Returns 555 (6 of the middle type of cake and 1 of the last type of cake)\n",
    "max_duffel_bag_value(cake_tuples, capacity)\n",
    " \n",
    "Weights and values may be any non-negative integer. Yes, it's weird to think about cakes \n",
    "that weigh nothing or duffel bags that can't hold anything. But we're not just super mastermind criminals—we're also meticulous about keeping our algorithms flexible and comprehensive."
   ]
  },
  {
   "cell_type": "code",
   "execution_count": 1,
   "metadata": {},
   "outputs": [
    {
     "ename": "SyntaxError",
     "evalue": "invalid syntax (<ipython-input-1-d360cc14c3c2>, line 33)",
     "output_type": "error",
     "traceback": [
      "\u001b[0;36m  File \u001b[0;32m\"<ipython-input-1-d360cc14c3c2>\"\u001b[0;36m, line \u001b[0;32m33\u001b[0m\n\u001b[0;31m    knapsack([], 20) -> 0\u001b[0m\n\u001b[0m                      ^\u001b[0m\n\u001b[0;31mSyntaxError\u001b[0m\u001b[0;31m:\u001b[0m invalid syntax\n"
     ]
    }
   ],
   "source": [
    "def say_hello():\n",
    "    print('Hello, World')\n",
    "\n",
    "for i in range(5):\n",
    "    say_hello()\n",
    "\n",
    "\"\"\"\n",
    "[(7, 160), (3, 90), (2, 10)]\n",
    "capacity = 20\n",
    "\n",
    "[(20, 100), (1, 90)]\n",
    "capacity = 20\n",
    "  -> value=100\n",
    "  value = 20 * 90 -> 1800\n",
    "\n",
    "[(20, 100), (1, 1)]\n",
    "capacity = 20\n",
    "  -> value=100 (optimal)\n",
    "\n",
    "\"Knapsack Problem\": classic dynamic programming questions\n",
    "\n",
    "            A         B        C\n",
    "items = [(7, 160), (3, 90), (2, 10)]\n",
    "\n",
    "Choice1: Use item A\n",
    "  capacity =- A.capacity\n",
    "\n",
    "Choice2: Don't use item A\n",
    "  items.remove(A)\n",
    "\n",
    "\"\"\"\n",
    "\n",
    "knapsack([], 20) -> 0\n",
    "\n",
    "knapsack([(7, 20), ...],  0) -> 0\n",
    "\n",
    "# recursive\n",
    "def knapsack(items, capacity):\n",
    "    if not items or capacity == 0:\n",
    "        return 0\n",
    "    \n",
    "    # Choice1: use first item (A)\n",
    "    val_choice1 = knapsack(capacity - items[0][0], items)\n",
    "    \n",
    "    # Choice2: don't use the first item (A)\n",
    "    val_choice2 = knapsack(capacity, items[1:])\n",
    "    \n",
    "    return max(val_choice1, val_choice2)\n",
    "\n",
    "# dynamic programming: \"bottom-up\" recursion\n",
    "# recusion: \"top-down\""
   ]
  },
  {
   "cell_type": "code",
   "execution_count": null,
   "metadata": {},
   "outputs": [],
   "source": []
  }
 ],
 "metadata": {
  "kernelspec": {
   "display_name": "Python 3",
   "language": "python",
   "name": "python3"
  },
  "language_info": {
   "codemirror_mode": {
    "name": "ipython",
    "version": 3
   },
   "file_extension": ".py",
   "mimetype": "text/x-python",
   "name": "python",
   "nbconvert_exporter": "python",
   "pygments_lexer": "ipython3",
   "version": "3.7.1"
  }
 },
 "nbformat": 4,
 "nbformat_minor": 2
}
