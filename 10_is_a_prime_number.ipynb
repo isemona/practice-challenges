{
 "cells": [
  {
   "cell_type": "markdown",
   "metadata": {},
   "source": [
    "Write a function the returns True or False, depending on whether the integer passed into it is a prime number.\n"
   ]
  },
  {
   "cell_type": "code",
   "execution_count": 24,
   "metadata": {},
   "outputs": [],
   "source": [
    "def _is_prime(num):\n",
    "    \"\"\"Is a number a prime number?\"\"\"\n",
    "    if num<1:\n",
    "        return False\n",
    "    m=num%2\n",
    "    while num%(m-1)==0:\n",
    "        m=num%2\n",
    "        return True\n",
    "    return False"
   ]
  },
  {
   "cell_type": "code",
   "execution_count": 39,
   "metadata": {},
   "outputs": [],
   "source": [
    "def is_prime(num):\n",
    "    \"\"\"Is a number a prime number?\"\"\"\n",
    "    if num<2:\n",
    "        return False\n",
    "    for n in range(2,num):\n",
    "        if num%n==0:\n",
    "            return False\n",
    "    return True"
   ]
  },
  {
   "cell_type": "code",
   "execution_count": 40,
   "metadata": {},
   "outputs": [],
   "source": [
    "TEST_CASES = [\n",
    "    (0, False),\n",
    "    (1, False),\n",
    "    (2, True),\n",
    "    (3, True),\n",
    "    (11, True),\n",
    "    (999, False),\n",
    "]"
   ]
  },
  {
   "cell_type": "code",
   "execution_count": 41,
   "metadata": {},
   "outputs": [],
   "source": [
    "def test_is_prime(test_cases):\n",
    "    passed = 0\n",
    "    total = len(test_cases)   \n",
    "    for test_input,expected in test_cases:\n",
    "        got = is_prime(test_input)\n",
    "        if got == expected:\n",
    "            print(True)\n",
    "            passed += 1\n",
    "        else:\n",
    "            print('input : {} expected : {} got : {}'.format(\n",
    "                test_input, expected, got))\n",
    "    print(\"passed {} of {} tests.\".format(passed,total))"
   ]
  },
  {
   "cell_type": "code",
   "execution_count": 42,
   "metadata": {},
   "outputs": [
    {
     "name": "stdout",
     "output_type": "stream",
     "text": [
      "True\n",
      "True\n",
      "True\n",
      "True\n",
      "True\n",
      "True\n",
      "passed 6 of 6 tests.\n"
     ]
    }
   ],
   "source": [
    "test_is_prime(TEST_CASES)"
   ]
  },
  {
   "cell_type": "code",
   "execution_count": null,
   "metadata": {},
   "outputs": [],
   "source": []
  },
  {
   "cell_type": "code",
   "execution_count": null,
   "metadata": {},
   "outputs": [],
   "source": []
  }
 ],
 "metadata": {
  "kernelspec": {
   "display_name": "Python 3",
   "language": "python",
   "name": "python3"
  },
  "language_info": {
   "codemirror_mode": {
    "name": "ipython",
    "version": 3
   },
   "file_extension": ".py",
   "mimetype": "text/x-python",
   "name": "python",
   "nbconvert_exporter": "python",
   "pygments_lexer": "ipython3",
   "version": "3.7.1"
  }
 },
 "nbformat": 4,
 "nbformat_minor": 2
}
