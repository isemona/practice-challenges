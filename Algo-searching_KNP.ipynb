{
 "cells": [
  {
   "cell_type": "markdown",
   "metadata": {},
   "source": [
    "Write a function called linearSearch which accepts an array and a value, and returns the index at which the value exists. If the value does not exist in the array, return -1.\n",
    "Don't use indexOf to implement this function!"
   ]
  },
  {
   "cell_type": "code",
   "execution_count": 68,
   "metadata": {},
   "outputs": [],
   "source": [
    "def linearSearch(lst,n):\n",
    "    return index else -1\n",
    "    "
   ]
  },
  {
   "cell_type": "code",
   "execution_count": 69,
   "metadata": {},
   "outputs": [],
   "source": [
    "LS_TEST_CASES = [\n",
    "    (([10, 15, 20, 25, 30], 15), 1),\n",
    "    (([9, 8, 7, 6, 5, 4, 3, 2, 1, 0], 4), 5),\n",
    "    (([100], 100), 0),\n",
    "    (([1,2,3,4,5], 6), -1),\n",
    "    (([9, 8, 7, 6, 5, 4, 3, 2, 1, 0], 10), -1),\n",
    "    (([100], 200), -1)\n",
    "]"
   ]
  },
  {
   "cell_type": "code",
   "execution_count": 70,
   "metadata": {},
   "outputs": [],
   "source": [
    "def test_linearSearch(fn, test_cases):\n",
    "    passed = 0\n",
    "    total = len(test_cases)   \n",
    "    for n,expected in test_cases:\n",
    "        got = fn(n)\n",
    "        if got == expected:\n",
    "            print(True)\n",
    "            passed += 1\n",
    "        else:\n",
    "            print('input : {}, expected : {} got : {}'.format(\n",
    "                 n, expected, got))\n",
    "    print(\"passed {} of {} tests.\".format(passed,total))"
   ]
  },
  {
   "cell_type": "code",
   "execution_count": 1,
   "metadata": {},
   "outputs": [
    {
     "ename": "NameError",
     "evalue": "name 'test_linearSearch' is not defined",
     "output_type": "error",
     "traceback": [
      "\u001b[0;31m---------------------------------------------------------------------------\u001b[0m",
      "\u001b[0;31mNameError\u001b[0m                                 Traceback (most recent call last)",
      "\u001b[0;32m<ipython-input-1-4dada4d7320c>\u001b[0m in \u001b[0;36m<module>\u001b[0;34m\u001b[0m\n\u001b[0;32m----> 1\u001b[0;31m \u001b[0mtest_linearSearch\u001b[0m\u001b[0;34m(\u001b[0m\u001b[0mlinearSearch\u001b[0m\u001b[0;34m,\u001b[0m \u001b[0mLS_TEST_CASES\u001b[0m\u001b[0;34m)\u001b[0m\u001b[0;34m\u001b[0m\u001b[0;34m\u001b[0m\u001b[0m\n\u001b[0m",
      "\u001b[0;31mNameError\u001b[0m: name 'test_linearSearch' is not defined"
     ]
    }
   ],
   "source": [
    "test_linearSearch(linearSearch, LS_TEST_CASES)"
   ]
  },
  {
   "cell_type": "code",
   "execution_count": null,
   "metadata": {},
   "outputs": [],
   "source": []
  },
  {
   "cell_type": "code",
   "execution_count": null,
   "metadata": {},
   "outputs": [],
   "source": []
  }
 ],
 "metadata": {
  "kernelspec": {
   "display_name": "Python 3",
   "language": "python",
   "name": "python3"
  },
  "language_info": {
   "codemirror_mode": {
    "name": "ipython",
    "version": 3
   },
   "file_extension": ".py",
   "mimetype": "text/x-python",
   "name": "python",
   "nbconvert_exporter": "python",
   "pygments_lexer": "ipython3",
   "version": "3.7.1"
  }
 },
 "nbformat": 4,
 "nbformat_minor": 2
}
