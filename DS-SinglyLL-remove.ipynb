{
 "cells": [
  {
   "cell_type": "markdown",
   "metadata": {},
   "source": [
    "# Deleting"
   ]
  },
  {
   "cell_type": "code",
   "execution_count": 20,
   "metadata": {},
   "outputs": [
    {
     "name": "stdout",
     "output_type": "stream",
     "text": [
      "Created Linked List: \n",
      " 2\n",
      " 3\n",
      " 1\n",
      " 7\n",
      "\n",
      "Linked List after Deletion of 1:\n",
      " 2\n",
      " 3\n",
      " 7\n"
     ]
    }
   ],
   "source": [
    "# Python program to delete a node from linked list \n",
    "\n",
    "# Node class \n",
    "class Node: \n",
    "\n",
    "\t# Constructor to initialize the node object \n",
    "\tdef __init__(self, data): \n",
    "\t\tself.data = data \n",
    "\t\tself.next = None\n",
    "\n",
    "class LinkedList: \n",
    "\n",
    "\t# Function to initialize head \n",
    "\tdef __init__(self): \n",
    "\t\tself.head = None\n",
    "\n",
    "\t# Function to insert a new node at the beginning \n",
    "\tdef push(self, new_data): \n",
    "\t\tnew_node = Node(new_data) \n",
    "\t\tnew_node.next = self.head \n",
    "\t\tself.head = new_node \n",
    "\n",
    "\t# Given a reference to the head of a list and a key, \n",
    "\t# delete the first occurence of key in linked list \n",
    "\tdef deleteNode(self, key): \n",
    "\t\t\n",
    "\t\t# Store head node \n",
    "\t\ttemp = self.head \n",
    "\n",
    "\t\t# If head node itself holds the key to be deleted \n",
    "\t\tif (temp is not None): \n",
    "\t\t\tif (temp.data == key): \n",
    "\t\t\t\tself.head = temp.next\n",
    "\t\t\t\ttemp = None\n",
    "\t\t\t\treturn\n",
    "\n",
    "\t\t# Search for the key to be deleted, keep track of the \n",
    "\t\t# previous node as we need to change 'prev.next' \n",
    "\t\twhile(temp is not None): \n",
    "\t\t\tif temp.data == key: \n",
    "\t\t\t\tbreak\n",
    "\t\t\tprev = temp \n",
    "\t\t\ttemp = temp.next\n",
    "\n",
    "\t\t# if key was not present in linked list \n",
    "\t\tif(temp == None): \n",
    "\t\t\treturn\n",
    "\n",
    "\t\t# Unlink the node from linked list \n",
    "\t\tprev.next = temp.next\n",
    "\n",
    "\t\ttemp = None\n",
    "\n",
    "\n",
    "\t# Utility function to print the linked LinkedList \n",
    "\tdef printList(self): \n",
    "\t\ttemp = self.head \n",
    "\t\twhile(temp): \n",
    "\t\t\tprint(\" %d\" %(temp.data),) \n",
    "\t\t\ttemp = temp.next\n",
    "\n",
    "\n",
    "# Driver program \n",
    "llist = LinkedList() \n",
    "llist.push(7) \n",
    "llist.push(1) \n",
    "llist.push(3) \n",
    "llist.push(2) \n",
    "\n",
    "print(\"Created Linked List: \")\n",
    "llist.printList() \n",
    "llist.deleteNode(1) \n",
    "print(\"\\nLinked List after Deletion of 1:\")\n",
    "llist.printList() \n",
    "\n",
    "# This code is contributed by Nikhil Kumar Singh (nickzuck_007) \n"
   ]
  },
  {
   "cell_type": "markdown",
   "metadata": {},
   "source": [
    "Advantages\n",
    "\n",
    "It’s a dynamic data structure in which insertion and deletion are simple as we don’t need to shift the elements. Just updating the next pointer will do the job for us.\n",
    "Stack and Queue data structures can be easily implemented using linked lists.\n",
    "\n",
    "Disadvantages\n",
    "\n",
    "Additional memory is used up by the next pointers.\n",
    "Random access is not possible. You must traverse the linked list from the beginning to get to a particular node."
   ]
  },
  {
   "cell_type": "code",
   "execution_count": null,
   "metadata": {},
   "outputs": [],
   "source": []
  }
 ],
 "metadata": {
  "kernelspec": {
   "display_name": "Python 3",
   "language": "python",
   "name": "python3"
  },
  "language_info": {
   "codemirror_mode": {
    "name": "ipython",
    "version": 3
   },
   "file_extension": ".py",
   "mimetype": "text/x-python",
   "name": "python",
   "nbconvert_exporter": "python",
   "pygments_lexer": "ipython3",
   "version": "3.7.1"
  }
 },
 "nbformat": 4,
 "nbformat_minor": 2
}
