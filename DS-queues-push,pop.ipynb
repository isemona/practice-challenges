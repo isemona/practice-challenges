{
 "cells": [
  {
   "cell_type": "markdown",
   "metadata": {},
   "source": [
    "Queue using arrays"
   ]
  },
  {
   "cell_type": "code",
   "execution_count": 2,
   "metadata": {},
   "outputs": [
    {
     "data": {
      "text/plain": [
       "['there']"
      ]
     },
     "execution_count": 2,
     "metadata": {},
     "output_type": "execute_result"
    }
   ],
   "source": [
    "stacks = []\n",
    "stacks.append(\"hello\")\n",
    "stacks.append(\"there\")\n",
    "stacks.pop(0)\n",
    "stacks"
   ]
  },
  {
   "cell_type": "markdown",
   "metadata": {},
   "source": [
    "Queues using LinkedList\n",
    "\n",
    "Enqueue Pseudocode\n",
    "This function accepts some value\n",
    "Create a new node using that value passed to the function\n",
    "If there are no nodes in the queue, set this node to be the first and last property of the queue\n",
    "Otherwise, set the next property on the current last to be that node, and then set the last property of the queue to be that node\n",
    "Increment the size of the queue by 1\n",
    "\n",
    "\n",
    "Dequeue pseudocode\n",
    "If there is no first property, just return null\n",
    "Store the first property in a variable\n",
    "See if the first is the same as the last (check if there is only 1 node). If so, set the first and last to be null\n",
    "If there is more than 1 node, set the first property to be the next property of first \n",
    "Decrement the size by 1\n",
    "Return the value of the node dequeued"
   ]
  },
  {
   "cell_type": "code",
   "execution_count": null,
   "metadata": {},
   "outputs": [],
   "source": [
    "class Node {\n",
    "    constructor(value){\n",
    "        this.value = value;\n",
    "        this.next = null;\n",
    "    }\n",
    "}\n",
    "\n",
    "class Queue {\n",
    "    constructor(){\n",
    "        this.first = null;\n",
    "        this.last = null;\n",
    "        this.size = 0;\n",
    "    }\n",
    "    enqueue(val){\n",
    "        var newNode = new Node(val);\n",
    "        if(!this.first){\n",
    "            this.first = newNode;\n",
    "            this.last = newNode;\n",
    "        } else {\n",
    "            this.last.next = newNode;\n",
    "            this.last = newNode;\n",
    "        }\n",
    "        return ++this.size;\n",
    "    }\n",
    "\n",
    "    dequeue(){\n",
    "        if(!this.first) return null;\n",
    "\n",
    "        var temp = this.first;\n",
    "        if(this.first === this.last) {\n",
    "            this.last = null;\n",
    "        }\n",
    "        this.first = this.first.next;\n",
    "        this.size--;\n",
    "        return temp.value;\n",
    "    }\n",
    "}"
   ]
  }
 ],
 "metadata": {
  "kernelspec": {
   "display_name": "Python 3",
   "language": "python",
   "name": "python3"
  },
  "language_info": {
   "codemirror_mode": {
    "name": "ipython",
    "version": 3
   },
   "file_extension": ".py",
   "mimetype": "text/x-python",
   "name": "python",
   "nbconvert_exporter": "python",
   "pygments_lexer": "ipython3",
   "version": "3.7.1"
  }
 },
 "nbformat": 4,
 "nbformat_minor": 2
}
