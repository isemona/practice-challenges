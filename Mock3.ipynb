{
 "cells": [
  {
   "cell_type": "markdown",
   "metadata": {},
   "source": [
    "Given the string 'hello' reverse the vowels in the string."
   ]
  },
  {
   "cell_type": "code",
   "execution_count": 66,
   "metadata": {},
   "outputs": [
    {
     "data": {
      "text/plain": [
       "'holle'"
      ]
     },
     "execution_count": 66,
     "metadata": {},
     "output_type": "execute_result"
    }
   ],
   "source": [
    "def v1_vowels_reversed(word):\n",
    "    lst_of_vowels = []\n",
    "    for ch in word:\n",
    "        if ch in 'a,e,i,o,u':\n",
    "            lst_of_vowels.append(ch)\n",
    "    reversed_lst_of_vowels = lst_of_vowels[::-1]\n",
    "    vowels_dict = dict(zip(lst_of_vowels,reversed_lst_of_vowels))\n",
    "    new_word = ''\n",
    "    for ch in word:\n",
    "        if ch in vowels_dict:\n",
    "            new_word += vowels_dict[ch]\n",
    "            continue\n",
    "        new_word += ch\n",
    "    return new_word"
   ]
  },
  {
   "cell_type": "code",
   "execution_count": 116,
   "metadata": {},
   "outputs": [],
   "source": [
    "def leet_ans_vowels_reversed(word):\n",
    "    s = list(word)\n",
    "    n = len(s)\n",
    "    left = 0\n",
    "    right = n-1\n",
    "    while left <= right:\n",
    "        if s[left] not in 'aeiouAEIOU':\n",
    "            left += 1\n",
    "            continue\n",
    "        if s[right] not in 'aeiouAEIOU':\n",
    "            right -= 1\n",
    "            continue\n",
    "        if s[left] in 'aeiouAEIOU' and s[right] in 'aeiouAEIOU':\n",
    "            s[left], s[right] = s[right], s[left]\n",
    "            left += 1\n",
    "            right -= 1\n",
    "            continue\n",
    "    return ''.join(s)"
   ]
  },
  {
   "cell_type": "code",
   "execution_count": 141,
   "metadata": {},
   "outputs": [
    {
     "name": "stdout",
     "output_type": "stream",
     "text": [
      "hollE\n"
     ]
    }
   ],
   "source": [
    "def vowels_reversed(word):\n",
    "    vowels = 'aeiouAEIOU'\n",
    "    word = list(word) # needs to \n",
    "    i = 0\n",
    "    j = len(word)-1\n",
    "    while i <= j:\n",
    "        if word[i] not in vowels:\n",
    "            i += 1\n",
    "            continue\n",
    "        if word[j] not in vowels:\n",
    "            j -= 1\n",
    "            continue\n",
    "        if word[i] in vowels and word[j] in vowels:\n",
    "            word[i],word[j] = word[j],word[i]\n",
    "            i += 1\n",
    "            j -= 1\n",
    "            continue\n",
    "    return ''.join(word)\n",
    "word = 'hEllo'\n",
    "print(vowels_reversed(word))"
   ]
  },
  {
   "cell_type": "code",
   "execution_count": 117,
   "metadata": {},
   "outputs": [
    {
     "data": {
      "text/plain": [
       "(2, 1)"
      ]
     },
     "execution_count": 117,
     "metadata": {},
     "output_type": "execute_result"
    }
   ],
   "source": [
    "def swap(a,b):\n",
    "    return b,a\n",
    "swap(1,2)"
   ]
  },
  {
   "cell_type": "code",
   "execution_count": 131,
   "metadata": {},
   "outputs": [],
   "source": [
    "VR_TEST_CASES = [\n",
    "    ('',''),\n",
    "    ('hello', 'holle'),\n",
    "]"
   ]
  },
  {
   "cell_type": "code",
   "execution_count": 132,
   "metadata": {},
   "outputs": [],
   "source": [
    "def test_vowels_reversed(fn, test_cases):\n",
    "    passed = 0\n",
    "    total = len(test_cases)   \n",
    "    for word,expected in test_cases:\n",
    "        got = fn(word)\n",
    "        if got == expected:\n",
    "            print(True)\n",
    "            passed += 1\n",
    "        else:\n",
    "            print('input : {}, expected : {} got : {}'.format(\n",
    "                 word, expected, got))\n",
    "    print(\"passed {} of {} tests.\".format(passed,total))"
   ]
  },
  {
   "cell_type": "code",
   "execution_count": 133,
   "metadata": {},
   "outputs": [
    {
     "name": "stdout",
     "output_type": "stream",
     "text": [
      "True\n",
      "input : hello, expected : holle got : \n",
      "passed 1 of 2 tests.\n"
     ]
    }
   ],
   "source": [
    "test_vowels_reversed(vowels_reversed, VR_TEST_CASES)"
   ]
  },
  {
   "cell_type": "code",
   "execution_count": null,
   "metadata": {},
   "outputs": [],
   "source": []
  },
  {
   "cell_type": "code",
   "execution_count": null,
   "metadata": {},
   "outputs": [],
   "source": []
  },
  {
   "cell_type": "code",
   "execution_count": null,
   "metadata": {},
   "outputs": [],
   "source": []
  }
 ],
 "metadata": {
  "kernelspec": {
   "display_name": "Python 3",
   "language": "python",
   "name": "python3"
  },
  "language_info": {
   "codemirror_mode": {
    "name": "ipython",
    "version": 3
   },
   "file_extension": ".py",
   "mimetype": "text/x-python",
   "name": "python",
   "nbconvert_exporter": "python",
   "pygments_lexer": "ipython3",
   "version": "3.7.1"
  }
 },
 "nbformat": 4,
 "nbformat_minor": 2
}
