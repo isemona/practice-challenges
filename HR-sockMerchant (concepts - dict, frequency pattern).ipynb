{
 "cells": [
  {
   "cell_type": "markdown",
   "metadata": {},
   "source": [
    "John works at a clothing store. He has a large pile of socks that he must pair by color for sale. Given an array of integers representing the color of each sock, determine how many pairs of socks with matching colors there are.\n",
    "\n",
    "For example, there are  socks with colors . There is one pair of color  and one of color . There are three odd socks left, one of each color. The number of pairs is."
   ]
  },
  {
   "cell_type": "code",
   "execution_count": 1,
   "metadata": {},
   "outputs": [
    {
     "name": "stdout",
     "output_type": "stream",
     "text": [
      "{1: 4, 3: 5, 2: 1}\n",
      "2\n",
      "4\n",
      "4\n"
     ]
    },
    {
     "data": {
      "text/plain": [
       "4"
      ]
     },
     "execution_count": 1,
     "metadata": {},
     "output_type": "execute_result"
    }
   ],
   "source": [
    "def sockMerchant(n, ar):\n",
    "    sock_dict = {}\n",
    "    for i in ar:\n",
    "        sock_dict[i] = sock_dict.get(i,0) + 1\n",
    "    print(sock_dict)\n",
    "    counter = 0\n",
    "    for key in sock_dict:\n",
    "        counter += sock_dict[key]//2\n",
    "        print(counter)\n",
    "    return counter\n",
    "\n",
    "n = 9\n",
    "# ar = [10, 20, 20, 10, 10, 30, 50, 10, 20]\n",
    "ar = [1, 1, 3, 1, 2, 1, 3, 3, 3, 3]\n",
    "\n",
    "sockMerchant(n, ar)"
   ]
  },
  {
   "cell_type": "code",
   "execution_count": 2,
   "metadata": {},
   "outputs": [],
   "source": [
    "validAnagram_TEST_CASES = [\n",
    "(('', ''), True),\n",
    "(('aaz', 'zza'), False),\n",
    "(('anagram', 'nagaram'), True),\n",
    "((\"rat\",\"car\"), False),\n",
    "(('awesome', 'awesom'), False),\n",
    "(('amanaplanacanalpanama', 'acanalmanplanpamana'), False),\n",
    "(('qwerty', 'qeywrt'), True),\n",
    "(('texttwisttime', 'timetwisttext'), True)\n",
    "]"
   ]
  },
  {
   "cell_type": "code",
   "execution_count": 3,
   "metadata": {},
   "outputs": [],
   "source": [
    "def test_vaildAnagram(fn, test_cases):\n",
    "    passed = 0\n",
    "    total = len(test_cases)   \n",
    "    for (arr1,arr2),expected in test_cases:\n",
    "        got = fn(arr1,arr2)\n",
    "        if got == expected:\n",
    "            print(True)\n",
    "            passed += 1\n",
    "        else:\n",
    "            print('input : {}, expected : {} got : {}'.format(\n",
    "                 (arr1,arr2), expected, got))\n",
    "    print(\"passed {} of {} tests.\".format(passed,total))"
   ]
  },
  {
   "cell_type": "code",
   "execution_count": 4,
   "metadata": {},
   "outputs": [
    {
     "ename": "NameError",
     "evalue": "name 'validAnagram' is not defined",
     "output_type": "error",
     "traceback": [
      "\u001b[0;31m---------------------------------------------------------------------------\u001b[0m",
      "\u001b[0;31mNameError\u001b[0m                                 Traceback (most recent call last)",
      "\u001b[0;32m<ipython-input-4-a65efab90f61>\u001b[0m in \u001b[0;36m<module>\u001b[0;34m\u001b[0m\n\u001b[0;32m----> 1\u001b[0;31m \u001b[0mtest_vaildAnagram\u001b[0m\u001b[0;34m(\u001b[0m\u001b[0mvalidAnagram\u001b[0m\u001b[0;34m,\u001b[0m \u001b[0mvalidAnagram_TEST_CASES\u001b[0m\u001b[0;34m)\u001b[0m\u001b[0;34m\u001b[0m\u001b[0;34m\u001b[0m\u001b[0m\n\u001b[0m",
      "\u001b[0;31mNameError\u001b[0m: name 'validAnagram' is not defined"
     ]
    }
   ],
   "source": [
    "test_vaildAnagram(validAnagram, validAnagram_TEST_CASES)"
   ]
  },
  {
   "cell_type": "code",
   "execution_count": null,
   "metadata": {},
   "outputs": [],
   "source": []
  }
 ],
 "metadata": {
  "kernelspec": {
   "display_name": "Python 3",
   "language": "python",
   "name": "python3"
  },
  "language_info": {
   "codemirror_mode": {
    "name": "ipython",
    "version": 3
   },
   "file_extension": ".py",
   "mimetype": "text/x-python",
   "name": "python",
   "nbconvert_exporter": "python",
   "pygments_lexer": "ipython3",
   "version": "3.7.1"
  }
 },
 "nbformat": 4,
 "nbformat_minor": 2
}
