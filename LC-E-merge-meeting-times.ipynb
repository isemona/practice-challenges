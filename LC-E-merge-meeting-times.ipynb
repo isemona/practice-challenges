{
 "cells": [
  {
   "cell_type": "markdown",
   "metadata": {},
   "source": [
    "Your company built an in-house calendar tool called HiCal. You want to add a feature to see \n",
    "the times in a day when everyone is available.\n",
    "\n",
    "To do this, you’ll need to know when any team is having a meeting. In HiCal, a meeting is \n",
    "stored as a tuple ↴ of integers (start_time, end_time). These integers represent the number \n",
    "of 30-minute blocks past 9:00am.\n",
    "\n",
    "For example:\n",
    "\n",
    "(2, 3)  # Meeting from 10:00 – 10:30 am\n",
    "(6, 9)  # Meeting from 12:00 – 1:30 pm\n",
    "\n",
    "Write a function merge_ranges() that takes a list of multiple meeting time ranges and returns a list of condensed ranges.\n",
    "\n",
    "For example, given:\n",
    "\n",
    "  [(0, 1), (3, 5), (4, 8), (10, 12), (9, 10)]\n",
    " \n",
    "your function would return:\n",
    "\n",
    "  [(0, 1), (3, 8), (9, 12)]\n",
    " \n",
    "Do not assume the meetings are in order. The meeting times are coming from multiple teams.\n",
    "\n",
    "Write a solution that's efficient even when we can't put a nice upper bound on the numbers \n",
    "representing our time ranges. Here we've simplified our times down to the number of 30-minute \n",
    "slots past 9:00 am. But we want the function to work even for very large numbers, like Unix \n",
    "timestamps. In any case, the spirit of the challenge is to merge meetings where start_time and \n",
    "end_time don't have an upper bound."
   ]
  },
  {
   "cell_type": "code",
   "execution_count": 1,
   "metadata": {},
   "outputs": [
    {
     "ename": "SyntaxError",
     "evalue": "invalid syntax (<ipython-input-1-2e2fefd22334>, line 15)",
     "output_type": "error",
     "traceback": [
      "\u001b[0;36m  File \u001b[0;32m\"<ipython-input-1-2e2fefd22334>\"\u001b[0;36m, line \u001b[0;32m15\u001b[0m\n\u001b[0;31m    if lst[i]item[i][1] >= lst[i+1]item[0]:\u001b[0m\n\u001b[0m                ^\u001b[0m\n\u001b[0;31mSyntaxError\u001b[0m\u001b[0;31m:\u001b[0m invalid syntax\n"
     ]
    }
   ],
   "source": [
    "import unittest\n",
    "\n",
    "\n",
    "def merge_ranges(meetings):\n",
    "\n",
    "    # Merge meeting ranges\n",
    "    # array of items (tuples of start and end times of the meeting)\n",
    "    # data structure to store new list of items\n",
    "    # output is a list of merged tuples\n",
    "    \n",
    "    # sorted_list = [(0, 1), (3, 5), (4, 8), (10, 12), (9, 10)].sorted\n",
    "    # sorted_list = [(0, 1), (3, 5), (4, 8), (9, 10), (10, 12)]\n",
    "    \n",
    "    for item in lst:\n",
    "        if lst[i]item[i][1] >= lst[i+1]item[0]:\n",
    "            merge\n",
    "    \n",
    "    \n",
    "    \n",
    "    return []"
   ]
  },
  {
   "cell_type": "code",
   "execution_count": null,
   "metadata": {},
   "outputs": [],
   "source": []
  }
 ],
 "metadata": {
  "kernelspec": {
   "display_name": "Python 3",
   "language": "python",
   "name": "python3"
  },
  "language_info": {
   "codemirror_mode": {
    "name": "ipython",
    "version": 3
   },
   "file_extension": ".py",
   "mimetype": "text/x-python",
   "name": "python",
   "nbconvert_exporter": "python",
   "pygments_lexer": "ipython3",
   "version": "3.7.1"
  }
 },
 "nbformat": 4,
 "nbformat_minor": 2
}
