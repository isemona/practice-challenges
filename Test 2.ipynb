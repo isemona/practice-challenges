{
 "cells": [
  {
   "cell_type": "markdown",
   "metadata": {},
   "source": [
    "# 1. Given an array of codes and phone numbers find all the phone numbers that have the matching code. The code can be placed anywhere with the a given phone number. Both inputs and outputs are arrays of strings, output must be sorted."
   ]
  },
  {
   "cell_type": "code",
   "execution_count": 29,
   "metadata": {
    "scrolled": true
   },
   "outputs": [
    {
     "name": "stdout",
     "output_type": "stream",
     "text": [
      "['T', 'W', 'L', 'O']\n",
      "5689\n",
      "+14157088956\n"
     ]
    }
   ],
   "source": [
    "def vanity(codes, numbers):\n",
    "    # Create a dictionary to map letters to numbers\n",
    "    # Loop through code and numbers to find a match\n",
    "    # If there is a match return all numbers \n",
    "    # Both inputs and outputs are arrays of strings, output must be sorted\n",
    "    # https://www.twilio.com/docs/glossary/what-e164\n",
    "\n",
    "    \n",
    "#     vanity_dict = { '2': ['A','B','C'],\n",
    "#                     '3': ['D','E','F'],\n",
    "#                     '4': ['G','H','I'],\n",
    "#                     '5': ['J','K','L'],\n",
    "#                     '6': ['M','N','O'],\n",
    "#                     '7': ['P','Q','R','S'],\n",
    "#                     '8': ['T','U','V'],\n",
    "#                     '9': ['W','X','Y','Z'],\n",
    "#                     }\n",
    "\n",
    "    vanity_dict = { 'A': '2',\n",
    "                    'B': '2',\n",
    "                    'C': '2',\n",
    "                    'D': '3',\n",
    "                    'E': '3',\n",
    "                    'F': '3', \n",
    "                    'G': '4',\n",
    "                    'H': '4',\n",
    "                    'I': '4',\n",
    "                    'J': '5',\n",
    "                    'L': '5',\n",
    "                    'M': '6',\n",
    "                    'N': '6',\n",
    "                    'O': '6',\n",
    "                    'P': '7',\n",
    "                    'Q': '7',\n",
    "                    'R': '7',\n",
    "                    'S': '7',\n",
    "                    'T': '8',\n",
    "                    'U': '8',\n",
    "                    'V': '8',\n",
    "                    'W': '9',\n",
    "                    'X': '9',\n",
    "                    'Y': '9',\n",
    "                    'Z': '9',\n",
    "                    }\n",
    "    arr=[]\n",
    "    for code in codes:\n",
    "        for ch in code:\n",
    "            arr.append(ch)\n",
    "    print(arr)\n",
    "    num_arr = []\n",
    "    for keys,values in vanity_dict.items(): # not retaining order\n",
    "        for key in keys:\n",
    "            for value in values:\n",
    "                if key in arr:\n",
    "                    num_arr.append(value)\n",
    "    num_str = ''.join(num_arr)\n",
    "    print(num_str)\n",
    "    \n",
    "    for num in numbers:\n",
    "        print(num)\n",
    "        if num in num_str:\n",
    "            print(numbers)\n",
    "        \n",
    "\n",
    "codes = ['TWLO']\n",
    "numbers = ['+14157088956']\n",
    "vanity(codes, numbers)"
   ]
  },
  {
   "cell_type": "code",
   "execution_count": 3,
   "metadata": {},
   "outputs": [],
   "source": [
    "vanity_TEST_CASES = [\n",
    "    (([''],['']),['']),\n",
    "    ((['TWLO'],['+14157088956']),['+14157088956']),\n",
    "    ((['TWLO','CODE','HTCH'],['+17474824380','+14157088956','+919810155555','+15109926333','+1415123456']), ['+1415123456','+15109926333','+17474824380']),\n",
    "]"
   ]
  },
  {
   "cell_type": "code",
   "execution_count": 4,
   "metadata": {},
   "outputs": [],
   "source": [
    "def test_vanity(fn, test_cases):\n",
    "    passed = 0\n",
    "    total = len(test_cases)   \n",
    "    for (codes, numbers),expected in test_cases:\n",
    "        got = fn(codes, numbers)\n",
    "        if got == expected:\n",
    "            print(True)\n",
    "            passed += 1\n",
    "        else:\n",
    "            print('input : {}, expected : {} got : {}'.format(\n",
    "                 (codes, numbers), expected, got))\n",
    "    print(\"passed {} of {} tests.\".format(passed,total))"
   ]
  },
  {
   "cell_type": "code",
   "execution_count": 5,
   "metadata": {},
   "outputs": [
    {
     "name": "stdout",
     "output_type": "stream",
     "text": [
      "input : ([''], ['']), expected : [''] got : None\n",
      "input : (['TWLO'], ['+14157088956']), expected : ['+14157088956'] got : 5\n",
      "input : (['TWLO', 'CODE', 'HTCH'], ['+17474824380', '+14157088956', '+919810155555', '+15109926333', '+1415123456']), expected : ['+1415123456', '+15109926333', '+17474824380'] got : 2\n",
      "passed 0 of 3 tests.\n"
     ]
    }
   ],
   "source": [
    "test_vanity(vanity, vanity_TEST_CASES)"
   ]
  },
  {
   "cell_type": "markdown",
   "metadata": {},
   "source": [
    "# Discussion\n",
    "- What is the time complexity of your working solution?\n",
    "- How can you improve your code?\n",
    "- When the optimized solution would be necessary?"
   ]
  },
  {
   "cell_type": "markdown",
   "metadata": {},
   "source": [
    "# 2. Given an array of phone numbers and phone numbers find all the phone numbers that have the matching code. The code can be placed anywhere with the a given phone number. Both inputs and outputs are arrays of strings, output must be sorted."
   ]
  },
  {
   "cell_type": "code",
   "execution_count": 7,
   "metadata": {},
   "outputs": [
    {
     "ename": "NameError",
     "evalue": "name 'codes' is not defined",
     "output_type": "error",
     "traceback": [
      "\u001b[0;31m---------------------------------------------------------------------------\u001b[0m",
      "\u001b[0;31mNameError\u001b[0m                                 Traceback (most recent call last)",
      "\u001b[0;32mcell_name\u001b[0m in \u001b[0;36masync-def-wrapper\u001b[0;34m()\u001b[0m\n",
      "\u001b[0;31mNameError\u001b[0m: name 'codes' is not defined"
     ]
    }
   ],
   "source": [
    "def longestprefix(codes, numbers):\n",
    "    # Create a dictionary to map letters to numbers\n",
    "    # Loop through code and numbers to find a match\n",
    "    # If there is a match return all numbers \n",
    "    # Both inputs and outputs are arrays of strings, output must be sorted\n",
    "    # https://www.twilio.com/docs/glossary/what-e164\n",
    "\n",
    "    \n",
    "#     vanity_dict = { '2': ['A','B','C'],\n",
    "#                     '3': ['D','E','F'],\n",
    "#                     '4': ['G','H','I'],\n",
    "#                     '5': ['J','K','L'],\n",
    "#                     '6': ['M','N','O'],\n",
    "#                     '7': ['P','Q','R','S'],\n",
    "#                     '8': ['T','U','V'],\n",
    "#                     '9': ['W','X','Y','Z'],\n",
    "#                     }\n",
    "    \n",
    "      \n",
    "\n",
    "code_dict = {}\n",
    "for key in range(len(codes)):\n",
    "    code_dict[key] = codes[key]\n",
    "    \n",
    "for keys,values in vanity_dict.items():\n",
    "    for k,v in code_dict.items():\n",
    "        for ch in v:\n",
    "            for value in values:\n",
    "                if ch == value:\n",
    "                    return keys"
   ]
  },
  {
   "cell_type": "code",
   "execution_count": 81,
   "metadata": {},
   "outputs": [],
   "source": [
    "longestprefix_TEST_CASES = [\n",
    "    (([''],['']),None),\n",
    "    ((['+415123'],['+9990']), None),\n",
    "    ((['+1415123','+1415000','+1412','+1510','+1','+44'], ['+14151234567','+9990','+14151224983']), ['+1415123', None ,'+1'])\n",
    "]"
   ]
  },
  {
   "cell_type": "code",
   "execution_count": 82,
   "metadata": {},
   "outputs": [],
   "source": [
    "def test_longestprefix(fn, test_cases):\n",
    "    passed = 0\n",
    "    total = len(test_cases)   \n",
    "    for (codes, numbers),expected in test_cases:\n",
    "        got = fn(codes, numbers)\n",
    "        if got == expected:\n",
    "            print(True)\n",
    "            passed += 1\n",
    "        else:\n",
    "            print('input : {}, expected : {} got : {}'.format(\n",
    "                 (codes, numbers), expected, got))\n",
    "    print(\"passed {} of {} tests.\".format(passed,total))"
   ]
  },
  {
   "cell_type": "code",
   "execution_count": 83,
   "metadata": {},
   "outputs": [
    {
     "name": "stdout",
     "output_type": "stream",
     "text": [
      "True\n",
      "True\n",
      "input : (['+1415123', '+1415000', '+1412', '+1510', '+1', '+44'], ['+14151234567', '+9990', '+14151224983']), expected : ['+1415123', None, '+1'] got : None\n",
      "passed 2 of 3 tests.\n"
     ]
    }
   ],
   "source": [
    "test_longestprefix(longestprefix, longestprefix_TEST_CASES)"
   ]
  },
  {
   "cell_type": "markdown",
   "metadata": {},
   "source": [
    "# Discussion\n",
    "- What is the time complexity of your working solution?\n",
    "- How can you improve your code?\n",
    "- When the optimized solution would be necessary?"
   ]
  },
  {
   "cell_type": "code",
   "execution_count": null,
   "metadata": {},
   "outputs": [],
   "source": []
  }
 ],
 "metadata": {
  "kernelspec": {
   "display_name": "Python 3",
   "language": "python",
   "name": "python3"
  },
  "language_info": {
   "codemirror_mode": {
    "name": "ipython",
    "version": 3
   },
   "file_extension": ".py",
   "mimetype": "text/x-python",
   "name": "python",
   "nbconvert_exporter": "python",
   "pygments_lexer": "ipython3",
   "version": "3.7.1"
  }
 },
 "nbformat": 4,
 "nbformat_minor": 2
}
