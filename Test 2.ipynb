{
 "cells": [
  {
   "cell_type": "markdown",
   "metadata": {},
   "source": [
    "# 1. Given an array of codes and phone numbers find all the phone numbers that have the matching code. The code can be placed anywhere with the a given phone number. Both inputs and outputs are arrays of strings, output must be sorted."
   ]
  },
  {
   "cell_type": "code",
   "execution_count": 17,
   "metadata": {
    "scrolled": true
   },
   "outputs": [
    {
     "name": "stdout",
     "output_type": "stream",
     "text": [
      "TWLO\n",
      "['T', 'W', 'L', 'O']\n"
     ]
    },
    {
     "data": {
      "text/plain": [
       "[]"
      ]
     },
     "execution_count": 17,
     "metadata": {},
     "output_type": "execute_result"
    }
   ],
   "source": [
    "def vanity(codes, numbers):\n",
    "    # Create a dictionary to map letters to numbers\n",
    "    # Loop through code and numbers to find a match\n",
    "    # If there is a match return all numbers \n",
    "    # Both inputs and outputs are arrays of strings, output must be sorted\n",
    "    # https://www.twilio.com/docs/glossary/what-e164\n",
    "\n",
    "    \n",
    "#     vanity_dict = { '2': ['A','B','C'],\n",
    "#                     '3': ['D','E','F'],\n",
    "#                     '4': ['G','H','I'],\n",
    "#                     '5': ['J','K','L'],\n",
    "#                     '6': ['M','N','O'],\n",
    "#                     '7': ['P','Q','R','S'],\n",
    "#                     '8': ['T','U','V'],\n",
    "#                     '9': ['W','X','Y','Z'],\n",
    "#                     }\n",
    "\n",
    "    vanity_dict = { 'A': '2',\n",
    "                    'B': '2',\n",
    "                    'C': '2',\n",
    "                    'D': '3',\n",
    "                    'E': '3',\n",
    "                    'F': '3', \n",
    "                    'G': '4',\n",
    "                    'H': '4',\n",
    "                    'I': '4',\n",
    "                    'J': '5',\n",
    "                    'L': '5',\n",
    "                    'M': '6',\n",
    "                    'N': '6',\n",
    "                    'O': '6',\n",
    "                    'P': '7',\n",
    "                    'Q': '7',\n",
    "                    'R': '7',\n",
    "                    'S': '7',\n",
    "                    'T': '8',\n",
    "                    'U': '8',\n",
    "                    'V': '8',\n",
    "                    'W': '9',\n",
    "                    'X': '9',\n",
    "                    'Y': '9',\n",
    "                    'Z': '9',\n",
    "                    }\n",
    "    arr=[]\n",
    "    for code in codes:\n",
    "        print(code)\n",
    "        for ch in code:\n",
    "            arr.append(ch)\n",
    "            \n",
    "    \n",
    "    print(arr)\n",
    "    \n",
    "    \n",
    "#     num_arr = []\n",
    "#     for keys,values in vanity_dict.items(): # not retaining order\n",
    "#         for key in keys:\n",
    "#             for value in values:\n",
    "#                 if key in arr:\n",
    "#                     num_arr.append(value)\n",
    "#     print(num_arr)\n",
    "    \n",
    "    # for num in number and for vanity_dic[key] in vanity_dict\n",
    "    # if num == vanity_dic[key] return num\n",
    "    \n",
    "    num_arr = []\n",
    "    \n",
    "    for ch in arr: # key match\n",
    "        for num in numbers: # value match\n",
    "            for key,value in vanity_dict.items(): \n",
    "                if ch == key and num == value:\n",
    "                    num_arr.append(num)\n",
    "#         print(num)\n",
    "        # if letter == value\n",
    "        # value = num in numbers\n",
    "        # return num\n",
    "#         for key,value in vanity_dict.items():\n",
    "#             print(value)\n",
    "#             if num == value:\n",
    "#                 num.append(num)\n",
    "    return num_arr\n",
    "#     num_str = ''.join(num_arr)\n",
    "#     print(num_str)\n",
    "    \n",
    "#     for num in numbers:\n",
    "#         print(num)\n",
    "#         if num in num_str:\n",
    "#             print(numbers)\n",
    "        \n",
    "\n",
    "codes =           ['TWLO'] \n",
    "numbers = ['+14157088956']\n",
    "vanity(codes, numbers)"
   ]
  },
  {
   "cell_type": "code",
   "execution_count": null,
   "metadata": {},
   "outputs": [],
   "source": [
    "debugging using pdb\n",
    "\n",
    "Python 3.7.4 (default, Jul  9 2019, 00:06:43)\n",
    "[GCC 6.3.0 20170516] on linux\n",
    "TWLO\n",
    "['T', 'W', 'L', 'O']\n",
    "> /home/runner/main.py(60)vanity()\n",
    "-> for value in values:\n",
    "(Pdb) l\n",
    " 55\n",
    " 56         for keys,values in vanity_dict.items(): # not retaining order\n",
    " 57             for key in keys:\n",
    " 58                 if key == 'T':\n",
    " 59                     pdb.set_trace()\n",
    " 60  ->             for value in values:\n",
    " 61                     if key in arr:\n",
    " 62                         num_arr.append(value)\n",
    " 63         print(num_arr)\n",
    " 64     #     num_str = ''.join(num_arr)\n",
    " 65     #     print(num_str)\n",
    "(Pdb) p key\n",
    "'T'\n",
    "(Pdb) p values\n",
    "'8'\n",
    "(Pdb) n\n",
    "> /home/runner/main.py(61)vanity()\n",
    "-> if key in arr:\n",
    "(Pdb) l\n",
    " 56         for keys,values in vanity_dict.items(): # not retaining order\n",
    " 57             for key in keys:\n",
    " 58                 if key == 'T':\n",
    " 59                     pdb.set_trace()\n",
    " 60                 for value in values:\n",
    " 61  ->                 if key in arr:\n",
    " 62                         num_arr.append(value)\n",
    " 63         print(num_arr)\n",
    " 64     #     num_str = ''.join(num_arr)\n",
    " 65     #     print(num_str)\n",
    " 66\n",
    "(Pdb) p arr\n",
    "['T', 'W', 'L', 'O']\n",
    "(Pdb) p num_arr\n",
    "['5', '6']\n",
    "(Pdb) c\n",
    "['5', '6', '8', '9']"
   ]
  },
  {
   "cell_type": "code",
   "execution_count": 3,
   "metadata": {},
   "outputs": [],
   "source": [
    "vanity_TEST_CASES = [\n",
    "    (([''],['']),['']),\n",
    "    ((['TWLO'],['+14157088956']),['+14157088956']),\n",
    "    ((['TWLO','CODE','HTCH'],['+17474824380','+14157088956','+919810155555','+15109926333','+1415123456']), ['+1415123456','+15109926333','+17474824380']),\n",
    "]"
   ]
  },
  {
   "cell_type": "code",
   "execution_count": 4,
   "metadata": {},
   "outputs": [],
   "source": [
    "def test_vanity(fn, test_cases):\n",
    "    passed = 0\n",
    "    total = len(test_cases)   \n",
    "    for (codes, numbers),expected in test_cases:\n",
    "        got = fn(codes, numbers)\n",
    "        if got == expected:\n",
    "            print(True)\n",
    "            passed += 1\n",
    "        else:\n",
    "            print('input : {}, expected : {} got : {}'.format(\n",
    "                 (codes, numbers), expected, got))\n",
    "    print(\"passed {} of {} tests.\".format(passed,total))"
   ]
  },
  {
   "cell_type": "code",
   "execution_count": 5,
   "metadata": {},
   "outputs": [
    {
     "name": "stdout",
     "output_type": "stream",
     "text": [
      "input : ([''], ['']), expected : [''] got : None\n",
      "input : (['TWLO'], ['+14157088956']), expected : ['+14157088956'] got : 5\n",
      "input : (['TWLO', 'CODE', 'HTCH'], ['+17474824380', '+14157088956', '+919810155555', '+15109926333', '+1415123456']), expected : ['+1415123456', '+15109926333', '+17474824380'] got : 2\n",
      "passed 0 of 3 tests.\n"
     ]
    }
   ],
   "source": [
    "test_vanity(vanity, vanity_TEST_CASES)"
   ]
  },
  {
   "cell_type": "markdown",
   "metadata": {},
   "source": [
    "# Discussion\n",
    "- What is the time complexity of your working solution?\n",
    "- How can you improve your code?\n",
    "- When the optimized solution would be necessary?"
   ]
  },
  {
   "cell_type": "markdown",
   "metadata": {},
   "source": [
    "# 2. Given an array of phone numbers and phone numbers find all the phone numbers that have the matching code. The code can be placed anywhere with the a given phone number. Both inputs and outputs are arrays of strings, output must be sorted."
   ]
  },
  {
   "cell_type": "code",
   "execution_count": 40,
   "metadata": {},
   "outputs": [],
   "source": [
    "def longestprefix(prefix, numbers):\n",
    "    '''\n",
    "    Goal - find the longest prefix given a list of prefixes and numbers both in arrays\n",
    "    \n",
    "    Input/output - an array of prefixes and numbers and output the number with the matching prefix\n",
    "    \n",
    "    Assumptions - no match = null (in python it is none)\n",
    "    \n",
    "    '''\n",
    "\n",
    "    # A python3 Program to find the longest  \n",
    "    # common prefix \n",
    "\n",
    "    # A Utility Function to find the common  \n",
    "    # prefix between strings- str1 and str2 \n",
    "     \n",
    "\n",
    "    result = '' \n",
    "    n1 = len(str1) \n",
    "    n2 = len(str2) \n",
    "\n",
    "    # Compare str1 and str2 \n",
    "    i = 0\n",
    "    j = 0\n",
    "    while i <= n1 - 1 and j <= n2 - 1: \n",
    "\n",
    "        if (str1[i] != str2[j]): \n",
    "            break\n",
    "\n",
    "        result += str1[i] \n",
    "        i += 1\n",
    "        j += 1\n",
    "\n",
    "    return result \n",
    "\n",
    "# A Function that returns the longest  \n",
    "# common prefix from the array of strings \n",
    "def commonPrefix (arr, n): \n",
    "\n",
    "    prefix = arr[0] \n",
    "\n",
    "    for i in range (1, n): \n",
    "        prefix = commonPrefixUtil(prefix, arr[i]) \n",
    "\n",
    "    return (prefix)"
   ]
  },
  {
   "cell_type": "code",
   "execution_count": 41,
   "metadata": {},
   "outputs": [],
   "source": [
    "longestprefix_TEST_CASES = [\n",
    "#     (([''],['']),None),\n",
    "    ((['+415123'],['+9990']), None),\n",
    "    ((['+1415123','+1415000','+1412','+1510','+1','+44'], ['+14151234567','+9990','+14151224983']), ['+1415123', None ,'+1'])\n",
    "]"
   ]
  },
  {
   "cell_type": "code",
   "execution_count": 42,
   "metadata": {},
   "outputs": [],
   "source": [
    "def test_longestprefix(fn, test_cases):\n",
    "    passed = 0\n",
    "    total = len(test_cases)   \n",
    "    for (codes, numbers),expected in test_cases:\n",
    "        got = fn(codes, numbers)\n",
    "        if got == expected:\n",
    "            print(True)\n",
    "            passed += 1\n",
    "        else:\n",
    "            print('input : {}, expected : {} got : {}'.format(\n",
    "                 (codes, numbers), expected, got))\n",
    "    print(\"passed {} of {} tests.\".format(passed,total))"
   ]
  },
  {
   "cell_type": "code",
   "execution_count": 43,
   "metadata": {},
   "outputs": [
    {
     "name": "stdout",
     "output_type": "stream",
     "text": [
      "True\n",
      "input : (['+1415123', '+1415000', '+1412', '+1510', '+1', '+44'], ['+14151234567', '+9990', '+14151224983']), expected : ['+1415123', None, '+1'] got : None\n",
      "passed 1 of 2 tests.\n"
     ]
    }
   ],
   "source": [
    "test_longestprefix(longestprefix, longestprefix_TEST_CASES)"
   ]
  },
  {
   "cell_type": "markdown",
   "metadata": {},
   "source": [
    "# Discussion\n",
    "- What is the time complexity of your working solution?\n",
    "- How can you improve your code?\n",
    "- When the optimized solution would be necessary?"
   ]
  },
  {
   "cell_type": "code",
   "execution_count": null,
   "metadata": {},
   "outputs": [],
   "source": []
  }
 ],
 "metadata": {
  "kernelspec": {
   "display_name": "Python 3",
   "language": "python",
   "name": "python3"
  },
  "language_info": {
   "codemirror_mode": {
    "name": "ipython",
    "version": 3
   },
   "file_extension": ".py",
   "mimetype": "text/x-python",
   "name": "python",
   "nbconvert_exporter": "python",
   "pygments_lexer": "ipython3",
   "version": "3.7.1"
  }
 },
 "nbformat": 4,
 "nbformat_minor": 2
}
