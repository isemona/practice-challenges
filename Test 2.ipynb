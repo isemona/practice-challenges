{
 "cells": [
  {
   "cell_type": "code",
   "execution_count": 49,
   "metadata": {},
   "outputs": [
    {
     "data": {
      "text/plain": [
       "'2'"
      ]
     },
     "execution_count": 49,
     "metadata": {},
     "output_type": "execute_result"
    }
   ],
   "source": [
    "def vanity(codes, numbers):\n",
    "    # Create a dictionary to map letters to numbers\n",
    "    # Loop through code and numbers to find a match\n",
    "    # If there is a match return all numbers \n",
    "    # Both inputs and outputs are arrays of strings, output must be sorted\n",
    "\n",
    "    vanity_dict = { '2': ['A','B','C'],\n",
    "                    '3': ['D','E','F'],\n",
    "                    '4': ['G','H','I'],\n",
    "                    '5': ['J','K','L'],\n",
    "                    '6': ['M','N','O'],\n",
    "                    '7': ['P','Q','R','S'],\n",
    "                    '8': ['T','U','V'],\n",
    "                    '9': ['W','X','Y','Z'],\n",
    "                    }\n",
    "    \n",
    "    \n",
    "\n",
    "    \n",
    "    code_arr = []\n",
    "    for code in codes:\n",
    "        for ch in code:\n",
    "            code_arr.append(ch)\n",
    "            \n",
    "    for keys,values in vanity_dict.items():\n",
    "        for value in values:\n",
    "            if value in code_arr:\n",
    "                return keys\n",
    "    \n",
    "codes = ['TWLO','CODE','HTCH']\n",
    "numbers = ['+17474824380','+14157088956','+919810155555','+15109926333','+1415123456']\n",
    "vanity(codes, numbers)"
   ]
  },
  {
   "cell_type": "code",
   "execution_count": null,
   "metadata": {},
   "outputs": [],
   "source": []
  }
 ],
 "metadata": {
  "kernelspec": {
   "display_name": "Python 3",
   "language": "python",
   "name": "python3"
  },
  "language_info": {
   "codemirror_mode": {
    "name": "ipython",
    "version": 3
   },
   "file_extension": ".py",
   "mimetype": "text/x-python",
   "name": "python",
   "nbconvert_exporter": "python",
   "pygments_lexer": "ipython3",
   "version": "3.7.1"
  }
 },
 "nbformat": 4,
 "nbformat_minor": 2
}
