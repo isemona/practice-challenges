{
 "cells": [
  {
   "cell_type": "code",
   "execution_count": 1,
   "metadata": {},
   "outputs": [],
   "source": [
    "def concat_lists(list1, list2):\n",
    "    \"\"\"Combine lists.\n",
    "\n",
    "    >>> concat_lists([], [1, 2])\n",
    "    [1, 2]\n",
    "\n",
    "    >>> concat_lists([1, 2], [])\n",
    "    [1, 2]\n",
    "    \n",
    "    >>> concat_lists([], [])\n",
    "    []\n",
    "\n",
    "    >>> concat_lists([1,2,3],[4,5])\n",
    "    [1, 2, 3, 4, 5]\n",
    "    \"\"\"\n",
    "\n",
    "    return list1 + list2\n",
    "\n",
    "\n",
    "if __name__ == \"__main__\":\n",
    "    import doctest\n",
    "    doctest.testmod()\n",
    "\n",
    "\n",
    "# for testing using verbose use python3 -m doctest -v 27-concatenate_lists.py"
   ]
  },
  {
   "cell_type": "code",
   "execution_count": null,
   "metadata": {},
   "outputs": [],
   "source": []
  }
 ],
 "metadata": {
  "kernelspec": {
   "display_name": "Python 3",
   "language": "python",
   "name": "python3"
  },
  "language_info": {
   "codemirror_mode": {
    "name": "ipython",
    "version": 3
   },
   "file_extension": ".py",
   "mimetype": "text/x-python",
   "name": "python",
   "nbconvert_exporter": "python",
   "pygments_lexer": "ipython3",
   "version": "3.7.1"
  }
 },
 "nbformat": 4,
 "nbformat_minor": 2
}
