{
 "cells": [
  {
   "cell_type": "code",
   "execution_count": 20,
   "metadata": {},
   "outputs": [],
   "source": [
    "def romanToInt(s) -> int:\n",
    "        #range 1-3999\n",
    "        #while i<5 = i = \"I\"\n",
    "        #if i=5 = i-1 + \"V\" and i = \"V\"\n",
    "        #continue\n",
    "        #while i>5 and i<9 \n",
    "            #i += \"I\"\n",
    "        #if i=50 = i-1  \n",
    "        \n",
    "        \n",
    "        # if i = 4 return \"IV\"\n",
    "        # if i = 5 return \"V\"\n",
    "        # if i = 9 return \"IX\"\n",
    "        # if i = 40 return \"XL\"\n",
    "        # if i = 50 return \"L\"\n",
    "        # if i = 90 return \"XC\"\n",
    "        # if i = 400 return \"CD\"\n",
    "        # if i = 500 return \"D\"\n",
    "        # if i = 900 return \"CM\"\n",
    "        \n",
    "        ht = {\"I\":1, \"IV\":4, \"V\":5, \"IX\":9, \"X\":10, \"XL\":40, \"L\":50, \"XC\":90, \"C\":100, \"CD\":400, \"D\":500, \"CM\":900, \"M\":1000}\n",
    "        \n",
    "        total = 0 \n",
    "        while s:\n",
    "            if s[:2] in ht:\n",
    "                total += ht[s[:2]]\n",
    "                s = s[2:]\n",
    "            elif s[:1] in ht:\n",
    "                total += ht[s[:1]]\n",
    "                s= s[1:]\n",
    "            else:\n",
    "                return None \n",
    "        return total\n",
    "            "
   ]
  },
  {
   "cell_type": "code",
   "execution_count": 23,
   "metadata": {},
   "outputs": [
    {
     "data": {
      "text/plain": [
       "42"
      ]
     },
     "execution_count": 23,
     "metadata": {},
     "output_type": "execute_result"
    }
   ],
   "source": [
    "romanToInt(\"XLII\")"
   ]
  },
  {
   "cell_type": "code",
   "execution_count": null,
   "metadata": {},
   "outputs": [],
   "source": []
  }
 ],
 "metadata": {
  "kernelspec": {
   "display_name": "Python 3",
   "language": "python",
   "name": "python3"
  },
  "language_info": {
   "codemirror_mode": {
    "name": "ipython",
    "version": 3
   },
   "file_extension": ".py",
   "mimetype": "text/x-python",
   "name": "python",
   "nbconvert_exporter": "python",
   "pygments_lexer": "ipython3",
   "version": "3.7.1"
  }
 },
 "nbformat": 4,
 "nbformat_minor": 2
}
