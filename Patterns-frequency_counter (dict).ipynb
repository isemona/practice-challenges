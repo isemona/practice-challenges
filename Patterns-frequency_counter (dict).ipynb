{
 "cells": [
  {
   "cell_type": "markdown",
   "metadata": {},
   "source": [
    "Given two strings, write a function to determine if the second string is an anagram of the first. An anagram is a word, phrase, or name formed by rearranging the letters of another, such as cinema, formed from iceman."
   ]
  },
  {
   "cell_type": "code",
   "execution_count": 6,
   "metadata": {},
   "outputs": [
    {
     "name": "stdout",
     "output_type": "stream",
     "text": [
      "{1: 1, 2: 2, 3: 1, 5: 1}\n",
      "{9: 1, 1: 1, 4: 2, 11: 1}\n"
     ]
    }
   ],
   "source": [
    "def _validAnagram(arr1,arr2): \n",
    "    if len(arr1) != len(arr2):\n",
    "        return false\n",
    "    \n",
    "    frequencyCounter1 = {}\n",
    "    frequencyCounter2 = {}\n",
    "    \n",
    "    for item in arr1:\n",
    "        frequencyCounter1[item] = frequencyCounter1.get(item, 0) + 1\n",
    "    \n",
    "    for item in arr2:\n",
    "        frequencyCounter2[item] = frequencyCounter2.get(item, 0) + 1\n",
    "    \n",
    "    print(frequencyCounter1)\n",
    "    print(frequencyCounter2)\n",
    "    \n",
    "_validAnagram([1,2,3,2,5], [9,1,4,4,11])"
   ]
  },
  {
   "cell_type": "code",
   "execution_count": 161,
   "metadata": {},
   "outputs": [],
   "source": [
    "def _validAnagram(arr1,arr2): # Colt's way\n",
    "    if len(arr1) != len(arr2): \n",
    "        return False\n",
    "    if arr1 == \"\" and arr2 == \"\":\n",
    "        return True\n",
    "    \n",
    "    frequencyCounter1 = {}\n",
    "    \n",
    "    for item in arr1:\n",
    "        frequencyCounter1[item] = frequencyCounter1.get(item, 0) + 1\n",
    "    \n",
    "    for key in arr2:\n",
    "        if key not in frequencyCounter1:\n",
    "            return False\n",
    "        else:\n",
    "            frequencyCounter1[key] -= 1\n",
    "    \n",
    "    for value in frequencyCounter1.values():\n",
    "        if value == -1:\n",
    "            return False\n",
    "    return True"
   ]
  },
  {
   "cell_type": "code",
   "execution_count": 108,
   "metadata": {},
   "outputs": [],
   "source": [
    "def validAnagram(arr1,arr2): \n",
    "    if len(arr1) != len(arr2): # fail safe\n",
    "        return False\n",
    "    if arr1 == \"\" and arr2 == \"\":\n",
    "        return True\n",
    "    \n",
    "    frequencyCounter1 = {}\n",
    "    frequencyCounter2 = {}\n",
    "    \n",
    "    for item in arr1:\n",
    "        frequencyCounter1[item] = frequencyCounter1.get(item, 0) + 1\n",
    "    \n",
    "    for item in arr2:\n",
    "        frequencyCounter2[item] = frequencyCounter2.get(item, 0) + 1\n",
    "    \n",
    "    for key in frequencyCounter1:\n",
    "        if key not in frequencyCounter2:\n",
    "            return False\n",
    "        if frequencyCounter2[key] != frequencyCounter1[key]:\n",
    "            return False\n",
    "    return True"
   ]
  },
  {
   "cell_type": "code",
   "execution_count": 162,
   "metadata": {},
   "outputs": [],
   "source": [
    "validAnagram_TEST_CASES = [\n",
    "(('', ''), True),\n",
    "(('aaz', 'zza'), False),\n",
    "(('anagram', 'nagaram'), True),\n",
    "((\"rat\",\"car\"), False),\n",
    "(('awesome', 'awesom'), False),\n",
    "(('amanaplanacanalpanama', 'acanalmanplanpamana'), False),\n",
    "(('qwerty', 'qeywrt'), True),\n",
    "(('texttwisttime', 'timetwisttext'), True)\n",
    "]"
   ]
  },
  {
   "cell_type": "code",
   "execution_count": 163,
   "metadata": {},
   "outputs": [],
   "source": [
    "def test_vaildAnagram(fn, test_cases):\n",
    "    passed = 0\n",
    "    total = len(test_cases)   \n",
    "    for (arr1,arr2),expected in test_cases:\n",
    "        got = fn(arr1,arr2)\n",
    "        if got == expected:\n",
    "            print(True)\n",
    "            passed += 1\n",
    "        else:\n",
    "            print('input : {}, expected : {} got : {}'.format(\n",
    "                 (arr1,arr2), expected, got))\n",
    "    print(\"passed {} of {} tests.\".format(passed,total))"
   ]
  },
  {
   "cell_type": "code",
   "execution_count": 164,
   "metadata": {},
   "outputs": [
    {
     "name": "stdout",
     "output_type": "stream",
     "text": [
      "True\n",
      "True\n",
      "True\n",
      "True\n",
      "True\n",
      "True\n",
      "True\n",
      "True\n",
      "passed 8 of 8 tests.\n"
     ]
    }
   ],
   "source": [
    "test_vaildAnagram(validAnagram, validAnagram_TEST_CASES)"
   ]
  },
  {
   "cell_type": "code",
   "execution_count": null,
   "metadata": {},
   "outputs": [],
   "source": []
  },
  {
   "cell_type": "code",
   "execution_count": null,
   "metadata": {},
   "outputs": [],
   "source": []
  }
 ],
 "metadata": {
  "kernelspec": {
   "display_name": "Python 3",
   "language": "python",
   "name": "python3"
  },
  "language_info": {
   "codemirror_mode": {
    "name": "ipython",
    "version": 3
   },
   "file_extension": ".py",
   "mimetype": "text/x-python",
   "name": "python",
   "nbconvert_exporter": "python",
   "pygments_lexer": "ipython3",
   "version": "3.7.1"
  }
 },
 "nbformat": 4,
 "nbformat_minor": 2
}
