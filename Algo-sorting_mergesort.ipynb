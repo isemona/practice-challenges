{
 "cells": [
  {
   "cell_type": "markdown",
   "metadata": {},
   "source": [
    "Write a function to merge two sorted arrays."
   ]
  },
  {
   "cell_type": "code",
   "execution_count": null,
   "metadata": {},
   "outputs": [],
   "source": [
    "// Merge function from earlier\n",
    "function merge(arr1, arr2){\n",
    "    let results = [];\n",
    "    let i = 0;\n",
    "    let j = 0;\n",
    "    while(i < arr1.length && j < arr2.length){\n",
    "        if(arr2[j] > arr1[i]){\n",
    "            results.push(arr1[i]);\n",
    "            i++;\n",
    "        } else {\n",
    "            results.push(arr2[j])\n",
    "            j++;\n",
    "        }\n",
    "    }\n",
    "    while(i < arr1.length) {\n",
    "        results.push(arr1[i])\n",
    "        i++;\n",
    "    }\n",
    "    while(j < arr2.length) {\n",
    "        results.push(arr2[j])\n",
    "        j++;\n",
    "    }\n",
    "    return results;\n",
    "}\n",
    "\n",
    "// Recrusive Merge Sort\n",
    "function mergeSort(arr){\n",
    "    if(arr.length <= 1) return arr;\n",
    "    let mid = Math.floor(arr.length/2);\n",
    "    let left = mergeSort(arr.slice(0,mid));\n",
    "    let right = mergeSort(arr.slice(mid));\n",
    "    return merge(left, sright);\n",
    "}\n",
    "\n",
    "mergeSort([10,24,76,73])\n"
   ]
  },
  {
   "cell_type": "code",
   "execution_count": 17,
   "metadata": {},
   "outputs": [],
   "source": [
    "def merge(arr1, arr2):\n",
    "    results = []\n",
    "    i = 0\n",
    "    j = 0\n",
    "    while i < len(arr1) and j < len(arr2):\n",
    "        if arr2[j] > arr1[i]:\n",
    "            results.append(arr1[i])\n",
    "        else:\n",
    "            results.append(arr2[j])\n",
    "    while i < len(arr1):\n",
    "        results.append(arr1[i])\n",
    "    while j < len(arr2):\n",
    "        results.append(arr2[j])\n",
    "    return results\n",
    "           \n",
    "def mergeSort(arr):\n",
    "    if len(arr) <= 1: return arr\n",
    "    mid = len(arr)//2\n",
    "    left = mergeSort(arr[0:mid])\n",
    "    right = mergeSort(arr[mid:])\n",
    "    return merge(left, right)"
   ]
  },
  {
   "cell_type": "code",
   "execution_count": null,
   "metadata": {},
   "outputs": [],
   "source": [
    "MS_TEST_CASES = [\n",
    "    ([],[]),\n",
    "    ([10,24,76,73],[10,24,73,76]),\n",
    "    ([100,10,24,76,73],[10,24,73,76,100])\n",
    "]"
   ]
  },
  {
   "cell_type": "code",
   "execution_count": null,
   "metadata": {},
   "outputs": [],
   "source": [
    "def test_mergeSort(fn, test_cases):\n",
    "    passed = 0\n",
    "    total = len(test_cases)   \n",
    "    for lst,expected in test_cases:\n",
    "        got = fn(lst)\n",
    "        if got == expected:\n",
    "            print(True)\n",
    "            passed += 1\n",
    "        else:\n",
    "            print('input : {}, expected : {} got : {}'.format(\n",
    "                 lst, expected, got))\n",
    "    print(\"passed {} of {} tests.\".format(passed,total))"
   ]
  },
  {
   "cell_type": "code",
   "execution_count": null,
   "metadata": {},
   "outputs": [],
   "source": [
    "test_mergeSort(mergeSort, MS_TEST_CASES)"
   ]
  },
  {
   "cell_type": "code",
   "execution_count": null,
   "metadata": {},
   "outputs": [],
   "source": []
  }
 ],
 "metadata": {
  "kernelspec": {
   "display_name": "Python 3",
   "language": "python",
   "name": "python3"
  },
  "language_info": {
   "codemirror_mode": {
    "name": "ipython",
    "version": 3
   },
   "file_extension": ".py",
   "mimetype": "text/x-python",
   "name": "python",
   "nbconvert_exporter": "python",
   "pygments_lexer": "ipython3",
   "version": "3.7.1"
  }
 },
 "nbformat": 4,
 "nbformat_minor": 2
}
