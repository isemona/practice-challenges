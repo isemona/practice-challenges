{
 "cells": [
  {
   "cell_type": "markdown",
   "metadata": {},
   "source": [
    "You will be given a list of integers, some even and some odd:\n",
    ">>> lst = [1, 2, 3, 4, 6, 8]\n",
    "\n",
    "Write a function that returns the indices (0-based, as usual in Python) of all the numbers which are even.\n",
    "\n",
    "So, for our list above, that would be:\n",
    ">>> show_evens(lst)\n",
    "[1, 3, 4, 5]"
   ]
  },
  {
   "cell_type": "code",
   "execution_count": 49,
   "metadata": {},
   "outputs": [],
   "source": [
    "def show_evens(nums):\n",
    "    \"\"\"Given list of ints, return list of *indices* of even numbers in list.\"\"\"\n",
    "    if nums == []:\n",
    "        return []\n",
    "    evens = []\n",
    "    for i in range(len(nums)):\n",
    "        if nums[i]%2==0:\n",
    "            evens.append(i)\n",
    "            continue\n",
    "    return evens\n"
   ]
  },
  {
   "cell_type": "code",
   "execution_count": null,
   "metadata": {},
   "outputs": [],
   "source": [
    "#You could also do this with the enumerate function, which allows you to iterate over a list getting both the current item and the index at once."
   ]
  },
  {
   "cell_type": "code",
   "execution_count": 50,
   "metadata": {},
   "outputs": [],
   "source": [
    "TEST_CASES = [\n",
    "    ([],[]),\n",
    "    ([1, 2, 3, 4, 6, 8],[1,3,4,5]),\n",
    "]"
   ]
  },
  {
   "cell_type": "code",
   "execution_count": 51,
   "metadata": {},
   "outputs": [],
   "source": [
    "def test_show_evens(test_cases):\n",
    "    passed = 0\n",
    "    total = len(test_cases)   \n",
    "    for test_input,expected in test_cases:\n",
    "        got = show_evens(test_input)\n",
    "        if got == expected:\n",
    "            print(True)\n",
    "            passed += 1\n",
    "        else:\n",
    "            print('input : {} expected : {} got : {}'.format(\n",
    "                test_input, expected, got))\n",
    "    print(\"passed {} of {} tests.\".format(passed,total))"
   ]
  },
  {
   "cell_type": "code",
   "execution_count": 52,
   "metadata": {},
   "outputs": [
    {
     "name": "stdout",
     "output_type": "stream",
     "text": [
      "True\n",
      "True\n",
      "passed 2 of 2 tests.\n"
     ]
    }
   ],
   "source": [
    "test_show_evens(TEST_CASES)"
   ]
  },
  {
   "cell_type": "code",
   "execution_count": null,
   "metadata": {},
   "outputs": [],
   "source": []
  },
  {
   "cell_type": "code",
   "execution_count": null,
   "metadata": {},
   "outputs": [],
   "source": []
  }
 ],
 "metadata": {
  "kernelspec": {
   "display_name": "Python 3",
   "language": "python",
   "name": "python3"
  },
  "language_info": {
   "codemirror_mode": {
    "name": "ipython",
    "version": 3
   },
   "file_extension": ".py",
   "mimetype": "text/x-python",
   "name": "python",
   "nbconvert_exporter": "python",
   "pygments_lexer": "ipython3",
   "version": "3.7.1"
  }
 },
 "nbformat": 4,
 "nbformat_minor": 2
}
