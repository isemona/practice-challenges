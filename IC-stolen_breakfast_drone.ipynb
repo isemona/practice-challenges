{
 "cells": [
  {
   "cell_type": "code",
   "execution_count": null,
   "metadata": {},
   "outputs": [],
   "source": [
    "import unittest\n",
    "\n",
    "\n",
    "def find_unique_delivery_id(delivery_ids):\n",
    "\n",
    "    # Find the one unique ID in the list\n",
    "    # create a dictionary of keys for each delivery id \n",
    "    \n",
    "    # iterate through each key/value to see\n",
    "    # if the id contains a value = 1 return that key\n",
    "    \n",
    "    ht = {}\n",
    "    \n",
    "    for num in delivery_ids:\n",
    "        if num in ht:\n",
    "            ht[num]=1\n",
    "        else:\n",
    "            ht[num]+=1\n",
    "    \n",
    "    for key,value in ht.items():\n",
    "        if value==1:\n",
    "            return key"
   ]
  }
 ],
 "metadata": {
  "kernelspec": {
   "display_name": "Python 3",
   "language": "python",
   "name": "python3"
  },
  "language_info": {
   "codemirror_mode": {
    "name": "ipython",
    "version": 3
   },
   "file_extension": ".py",
   "mimetype": "text/x-python",
   "name": "python",
   "nbconvert_exporter": "python",
   "pygments_lexer": "ipython3",
   "version": "3.7.1"
  }
 },
 "nbformat": 4,
 "nbformat_minor": 2
}
