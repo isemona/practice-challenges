{
 "cells": [
  {
   "cell_type": "markdown",
   "metadata": {},
   "source": [
    "Is the word an anagram of a palindrome?\n",
    "\n",
    "A palindrome is a word that reads the same forward and backwards (eg, “racecar”, “tacocat”). An anagram is a rescrambling of a word (eg for “racecar”, you could rescramble this as “arceace”).\n",
    "\n",
    "Determine if the given word is a re-scrambling of a palindrome.\n",
    "\n",
    "The word will only contain lowercase letters, a-z.\n",
    "\n"
   ]
  },
  {
   "cell_type": "code",
   "execution_count": 8,
   "metadata": {},
   "outputs": [],
   "source": [
    "def is_anagram_of_palindrome(word):\n",
    "    \"\"\"Is the word an anagram of a palindrome?\"\"\"\n",
    "    #if the length of the word is one it is true\n",
    "    if len(word) == 1:\n",
    "        return True\n",
    "    ht = {}\n",
    "    for ch in word:\n",
    "        if ch in {word}:\n",
    "            ht[ch] += 1\n",
    "        else:\n",
    "            ht[ch] = 1\n",
    "    for key,value in ht.items():\n",
    "        if value==2 or value==1:\n",
    "            return True\n",
    "    return False\n",
    "    #if the letter is in the set of words return True\n",
    "    #array of letters stored as a hash\n",
    "    #in the end if the value is equal to 2 or has an item = 1"
   ]
  },
  {
   "cell_type": "code",
   "execution_count": 9,
   "metadata": {},
   "outputs": [],
   "source": [
    "TEST_CASES = [\n",
    "    (\"a\",True),\n",
    "    (\"ab\", False),\n",
    "    (\"aab\", True),\n",
    "    (\"arceace\", True),\n",
    "    (\"arceaceb\", False),\n",
    "]"
   ]
  },
  {
   "cell_type": "code",
   "execution_count": 10,
   "metadata": {},
   "outputs": [],
   "source": [
    "def test_is_anagram_of_palindrome(test_cases):\n",
    "    passed = 0\n",
    "    total = len(test_cases)   \n",
    "    for test_input,expected in test_cases:\n",
    "        got = is_anagram_of_palindrome(test_input)\n",
    "        if got == expected:\n",
    "            print(True)\n",
    "            passed += 1\n",
    "        else:\n",
    "            print('input : {} expected : {} got : {}'.format(\n",
    "                test_input, expected, got))\n",
    "    print(\"passed {} of {} tests.\".format(passed,total))"
   ]
  },
  {
   "cell_type": "code",
   "execution_count": 11,
   "metadata": {},
   "outputs": [
    {
     "name": "stdout",
     "output_type": "stream",
     "text": [
      "True\n",
      "input : ab expected : False got : True\n",
      "True\n",
      "True\n",
      "input : arceaceb expected : False got : True\n",
      "passed 3 of 5 tests.\n"
     ]
    }
   ],
   "source": [
    "test_is_anagram_of_palindrome(TEST_CASES)"
   ]
  },
  {
   "cell_type": "code",
   "execution_count": null,
   "metadata": {},
   "outputs": [],
   "source": [
    "\"Let your life lightly dance on the edges of Time like dew on the tip of a leaf.\" -Rabindranath Tagore"
   ]
  }
 ],
 "metadata": {
  "kernelspec": {
   "display_name": "Python 3",
   "language": "python",
   "name": "python3"
  },
  "language_info": {
   "codemirror_mode": {
    "name": "ipython",
    "version": 3
   },
   "file_extension": ".py",
   "mimetype": "text/x-python",
   "name": "python",
   "nbconvert_exporter": "python",
   "pygments_lexer": "ipython3",
   "version": "3.7.1"
  }
 },
 "nbformat": 4,
 "nbformat_minor": 2
}
