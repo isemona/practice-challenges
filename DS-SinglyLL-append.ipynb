{
 "cells": [
  {
   "cell_type": "markdown",
   "metadata": {},
   "source": [
    "# Appending"
   ]
  },
  {
   "cell_type": "code",
   "execution_count": 8,
   "metadata": {},
   "outputs": [
    {
     "name": "stdout",
     "output_type": "stream",
     "text": [
      "apple\n",
      "berry\n",
      "cherry\n"
     ]
    }
   ],
   "source": [
    "# Definition for singly-linked list.\n",
    "class ListNode:\n",
    "    def __init__(self, x):\n",
    "        self.data = x\n",
    "        self.next = None\n",
    "        \n",
    "class LinkedList():\n",
    "    def __init__(self):\n",
    "        self.head = None\n",
    "        self.tail = None\n",
    "    \n",
    "    # Function to insert a new node at the end\n",
    "    def append(self,data):\n",
    "        \"\"\"Append node with data to the end of the list.\"\"\"\n",
    "        \n",
    "        new_node = ListNode(data)\n",
    "        \n",
    "        if self.head is None:\n",
    "            self.head = new_node\n",
    "        \n",
    "        if self.tail is not None:\n",
    "            # Did list start as empty?\n",
    "            self.tail.next = new_node\n",
    "        \n",
    "        self.tail = new_node\n",
    "        \n",
    "    # Utility function to print the linked LinkedList \n",
    "    def printList(self): \n",
    "        temp = self.head \n",
    "        while(temp): \n",
    "            print(temp.data) \n",
    "            temp = temp.next\n",
    "        \n",
    "my_ll = LinkedList()\n",
    "my_ll.append(\"apple\")\n",
    "my_ll.append(\"berry\")\n",
    "my_ll.append(\"cherry\")\n",
    "\n",
    "# https://www.geeksforgeeks.org/linked-list-set-3-deleting-node/\n",
    "my_ll.printList()"
   ]
  },
  {
   "cell_type": "markdown",
   "metadata": {},
   "source": [
    "Advantages\n",
    "\n",
    "It’s a dynamic data structure in which insertion and deletion are simple as we don’t need to shift the elements. Just updating the next pointer will do the job for us.\n",
    "Stack and Queue data structures can be easily implemented using linked lists.\n",
    "Disadvantages\n",
    "\n",
    "Additional memory is used up by the next pointers.\n",
    "Random access is not possible. You must traverse the linked list from the beginning to get to a particular node.\n",
    "\n",
    "https://www.pythoncentral.io/singly-linked-list-insert-node/"
   ]
  },
  {
   "cell_type": "code",
   "execution_count": null,
   "metadata": {},
   "outputs": [],
   "source": []
  }
 ],
 "metadata": {
  "kernelspec": {
   "display_name": "Python 3",
   "language": "python",
   "name": "python3"
  },
  "language_info": {
   "codemirror_mode": {
    "name": "ipython",
    "version": 3
   },
   "file_extension": ".py",
   "mimetype": "text/x-python",
   "name": "python",
   "nbconvert_exporter": "python",
   "pygments_lexer": "ipython3",
   "version": "3.7.1"
  }
 },
 "nbformat": 4,
 "nbformat_minor": 2
}
