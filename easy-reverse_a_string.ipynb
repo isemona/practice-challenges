{
 "cells": [
  {
   "cell_type": "markdown",
   "metadata": {},
   "source": [
    "Given a string, return the same string, reversed.\n",
    "\n",
    "For example, as “porcupine” would reverse to “enipucrop”:"
   ]
  },
  {
   "cell_type": "code",
   "execution_count": 33,
   "metadata": {},
   "outputs": [
    {
     "data": {
      "text/plain": [
       "'enipucrop'"
      ]
     },
     "execution_count": 33,
     "metadata": {},
     "output_type": "execute_result"
    }
   ],
   "source": [
    "def _rev_string(astring):\n",
    "    return astring[::-1] #O(n)\n",
    "    \n",
    "astring = \"porcupine\"\n",
    "\n",
    "rev_string(astring)"
   ]
  },
  {
   "cell_type": "code",
   "execution_count": 38,
   "metadata": {},
   "outputs": [
    {
     "name": "stdout",
     "output_type": "stream",
     "text": [
      "enipucrop\n"
     ]
    }
   ],
   "source": [
    "def xyz_rev_string(astring):\n",
    "    #using a stack\n",
    "    lst = list(astring)\n",
    "    new_lst = []\n",
    "\n",
    "    for letter in astring: #O(n)\n",
    "        ch = lst.pop()\n",
    "        new_lst.append(ch)\n",
    "    \n",
    "    return ''.join(new_lst)\n",
    "    \n",
    "astring = \"porcupine\"\n",
    "\n",
    "print(rev_string(astring))"
   ]
  },
  {
   "cell_type": "code",
   "execution_count": 34,
   "metadata": {},
   "outputs": [],
   "source": [
    "def rev_string(astring):\n",
    "    \"\"\"Return reverse of string.\n",
    "    #array slicing [start:stop:step] [::-1]\n",
    "    \n",
    "    You may NOT use the reversed() function!\n",
    "    \"\"\"\n",
    "    if astring == \"\":\n",
    "        return \"\"\n",
    "    \n",
    "    return astring[::-1]"
   ]
  },
  {
   "cell_type": "code",
   "execution_count": 35,
   "metadata": {},
   "outputs": [],
   "source": [
    "TEST_CASES = [\n",
    "    (\"\", \"\"),\n",
    "    (\"porcupine\", \"enipucrop\"),\n",
    "]"
   ]
  },
  {
   "cell_type": "code",
   "execution_count": 36,
   "metadata": {},
   "outputs": [],
   "source": [
    "def test_rev_string(test_cases):\n",
    "    passed = 0\n",
    "    total = len(test_cases)\n",
    "    for test_input,expected in test_cases:\n",
    "        got = rev_string(test_input)\n",
    "        if got == expected:\n",
    "            print(True)\n",
    "            passed += 1\n",
    "        else:\n",
    "            print(f'input : {test_input} expected : {expected} got : {got}.')\n",
    "    print(f\"passed {passed} of {total} tests.\")"
   ]
  },
  {
   "cell_type": "code",
   "execution_count": 37,
   "metadata": {},
   "outputs": [
    {
     "name": "stdout",
     "output_type": "stream",
     "text": [
      "True\n",
      "True\n",
      "passed 2 of 2 tests.\n"
     ]
    }
   ],
   "source": [
    "test_rev_string(TEST_CASES)"
   ]
  },
  {
   "cell_type": "code",
   "execution_count": 46,
   "metadata": {},
   "outputs": [],
   "source": [
    "def reverse_str(str1):\n",
    "    reversed_str = \"\"\n",
    "    stack = []\n",
    "    \n",
    "    for letter in str1:\n",
    "        stack.append(letter)\n",
    "    \n",
    "    for l in str1:\n",
    "        reversed_str += stack.pop()\n",
    "        \n",
    "    return reversed_str"
   ]
  },
  {
   "cell_type": "code",
   "execution_count": 47,
   "metadata": {},
   "outputs": [
    {
     "data": {
      "text/plain": [
       "'tac'"
      ]
     },
     "execution_count": 47,
     "metadata": {},
     "output_type": "execute_result"
    }
   ],
   "source": [
    "reverse_str(\"cat\")"
   ]
  },
  {
   "cell_type": "code",
   "execution_count": null,
   "metadata": {},
   "outputs": [],
   "source": []
  }
 ],
 "metadata": {
  "kernelspec": {
   "display_name": "Python 3",
   "language": "python",
   "name": "python3"
  },
  "language_info": {
   "codemirror_mode": {
    "name": "ipython",
    "version": 3
   },
   "file_extension": ".py",
   "mimetype": "text/x-python",
   "name": "python",
   "nbconvert_exporter": "python",
   "pygments_lexer": "ipython3",
   "version": "3.7.1"
  }
 },
 "nbformat": 4,
 "nbformat_minor": 2
}
