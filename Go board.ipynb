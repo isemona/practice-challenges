{
 "cells": [
  {
   "cell_type": "code",
   "execution_count": 20,
   "metadata": {},
   "outputs": [],
   "source": [
    "test_board = [\n",
    "             [0,0,0,0,0,0,0],\n",
    "             [0,0,1,0,0,0,0],\n",
    "             [0,1,2,1,0,0,0],\n",
    "             [0,0,1,0,0,0,0],\n",
    "             [0,0,0,0,0,0,0],\n",
    "             [0,0,0,0,0,0,0]\n",
    "            ]               "
   ]
  },
  {
   "cell_type": "code",
   "execution_count": 21,
   "metadata": {},
   "outputs": [],
   "source": [
    "def is_surrounded(x,y):\n",
    "    if test_board[x][y] == 2:\n",
    "        if test_board[x+1][y] == 1:\n",
    "            if test_board[x-1][y] == 1:\n",
    "                if test_board[x][y+1] == 1:\n",
    "                    if test_board[x][y-1] == 1:\n",
    "                        return True\n",
    "    return False    "
   ]
  },
  {
   "cell_type": "code",
   "execution_count": 22,
   "metadata": {},
   "outputs": [
    {
     "data": {
      "text/plain": [
       "True"
      ]
     },
     "execution_count": 22,
     "metadata": {},
     "output_type": "execute_result"
    }
   ],
   "source": [
    "is_surrounded(2,2)"
   ]
  },
  {
   "cell_type": "markdown",
   "metadata": {},
   "source": [
    "test for edgecases where index is out of range\n",
    "test fail fast\n",
    "test for connecting adjacent sharing a piece"
   ]
  },
  {
   "cell_type": "code",
   "execution_count": null,
   "metadata": {},
   "outputs": [],
   "source": []
  }
 ],
 "metadata": {
  "kernelspec": {
   "display_name": "Python 3",
   "language": "python",
   "name": "python3"
  },
  "language_info": {
   "codemirror_mode": {
    "name": "ipython",
    "version": 3
   },
   "file_extension": ".py",
   "mimetype": "text/x-python",
   "name": "python",
   "nbconvert_exporter": "python",
   "pygments_lexer": "ipython3",
   "version": "3.7.1"
  }
 },
 "nbformat": 4,
 "nbformat_minor": 2
}
