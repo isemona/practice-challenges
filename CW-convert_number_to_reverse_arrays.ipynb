{
 "cells": [
  {
   "cell_type": "markdown",
   "metadata": {},
   "source": [
    "Convert number to reversed array of digits\n",
    "Given a random number:\n",
    "\n",
    "C#: long;\n",
    "C++: unsigned long;\n",
    "You have to return the digits of this number within an array in reverse order.\n",
    "\n",
    "Example:\n",
    "348597 => [7,9,5,8,4,3]"
   ]
  },
  {
   "cell_type": "code",
   "execution_count": 58,
   "metadata": {},
   "outputs": [],
   "source": [
    "def digitize(num):\n",
    "    # create an empty list assign it to variable \n",
    "    # use stack data structure pop and append to new list\n",
    "    # return new_list\n",
    "    num_to_str = str(num)\n",
    "    if len(num_to_str) == 0:\n",
    "        return []\n",
    "    num_arr = [x for x in num_to_str]\n",
    "    new_list = []\n",
    "    for n in range(len(num_arr)): # T = O(n), S = O(n) \n",
    "        last_num = num_arr.pop() # T = O(1), S = O(1)\n",
    "        new_list.append(int(last_num)) \n",
    "    return new_list"
   ]
  },
  {
   "cell_type": "code",
   "execution_count": 59,
   "metadata": {},
   "outputs": [],
   "source": [
    "D_TEST_CASES = [\n",
    "    ('', []),\n",
    "    (1, [1]),\n",
    "    (35231,[1,3,2,5,3]),\n",
    "]"
   ]
  },
  {
   "cell_type": "code",
   "execution_count": 60,
   "metadata": {},
   "outputs": [],
   "source": [
    "def test_digitize(fn, test_cases):\n",
    "    passed = 0\n",
    "    total = len(test_cases)   \n",
    "    for num,expected in test_cases:\n",
    "        got = fn(num)\n",
    "        if got == expected:\n",
    "            print(True)\n",
    "            passed += 1\n",
    "        else:\n",
    "            print('input : {}, expected : {} got : {}'.format(\n",
    "                 num, expected, got))\n",
    "    print(\"passed {} of {} tests.\".format(passed,total))"
   ]
  },
  {
   "cell_type": "code",
   "execution_count": 61,
   "metadata": {},
   "outputs": [
    {
     "name": "stdout",
     "output_type": "stream",
     "text": [
      "True\n",
      "True\n",
      "True\n",
      "passed 3 of 3 tests.\n"
     ]
    }
   ],
   "source": [
    "test_digitize(digitize, D_TEST_CASES)"
   ]
  },
  {
   "cell_type": "markdown",
   "metadata": {},
   "source": [
    "Notes: warm up on this one\n",
    "1. know input and output - there was a lot of conversions here\n",
    "2. "
   ]
  },
  {
   "cell_type": "code",
   "execution_count": null,
   "metadata": {},
   "outputs": [],
   "source": []
  }
 ],
 "metadata": {
  "kernelspec": {
   "display_name": "Python 3",
   "language": "python",
   "name": "python3"
  },
  "language_info": {
   "codemirror_mode": {
    "name": "ipython",
    "version": 3
   },
   "file_extension": ".py",
   "mimetype": "text/x-python",
   "name": "python",
   "nbconvert_exporter": "python",
   "pygments_lexer": "ipython3",
   "version": "3.7.1"
  }
 },
 "nbformat": 4,
 "nbformat_minor": 2
}
