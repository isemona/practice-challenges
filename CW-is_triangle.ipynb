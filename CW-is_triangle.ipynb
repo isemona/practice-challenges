{
 "cells": [
  {
   "cell_type": "markdown",
   "metadata": {},
   "source": [
    "Implement a method that accepts 3 integer values a, b, c. The method should return true if a triangle can be built with the sides of given length and false in any other case.\n",
    "\n",
    "(In this case, all triangles must have surface greater than 0 to be accepted)."
   ]
  },
  {
   "cell_type": "code",
   "execution_count": 6,
   "metadata": {},
   "outputs": [],
   "source": [
    "def is_triangle(a, b, c):\n",
    "    return (a<b+c) and (b<a+c) and (c<a+b)"
   ]
  },
  {
   "cell_type": "code",
   "execution_count": 4,
   "metadata": {},
   "outputs": [
    {
     "ename": "NameError",
     "evalue": "name 'Test' is not defined",
     "output_type": "error",
     "traceback": [
      "\u001b[0;31m---------------------------------------------------------------------------\u001b[0m",
      "\u001b[0;31mNameError\u001b[0m                                 Traceback (most recent call last)",
      "\u001b[0;32m<ipython-input-4-8fb17ae75cbe>\u001b[0m in \u001b[0;36m<module>\u001b[0;34m\u001b[0m\n\u001b[0;32m----> 1\u001b[0;31m \u001b[0mTest\u001b[0m\u001b[0;34m.\u001b[0m\u001b[0mdescribe\u001b[0m\u001b[0;34m(\u001b[0m\u001b[0;34m'is_triangle'\u001b[0m\u001b[0;34m)\u001b[0m\u001b[0;34m\u001b[0m\u001b[0;34m\u001b[0m\u001b[0m\n\u001b[0m\u001b[1;32m      2\u001b[0m \u001b[0;34m\u001b[0m\u001b[0m\n\u001b[1;32m      3\u001b[0m \u001b[0mTest\u001b[0m\u001b[0;34m.\u001b[0m\u001b[0mit\u001b[0m\u001b[0;34m(\u001b[0m\u001b[0;34m\"works for some examples\"\u001b[0m\u001b[0;34m)\u001b[0m\u001b[0;34m\u001b[0m\u001b[0;34m\u001b[0m\u001b[0m\n\u001b[1;32m      4\u001b[0m \u001b[0mTest\u001b[0m\u001b[0;34m.\u001b[0m\u001b[0massert_equals\u001b[0m\u001b[0;34m(\u001b[0m\u001b[0mis_triangle\u001b[0m\u001b[0;34m(\u001b[0m\u001b[0;36m1\u001b[0m\u001b[0;34m,\u001b[0m \u001b[0;36m2\u001b[0m\u001b[0;34m,\u001b[0m \u001b[0;36m2\u001b[0m\u001b[0;34m)\u001b[0m\u001b[0;34m,\u001b[0m \u001b[0;32mTrue\u001b[0m\u001b[0;34m,\u001b[0m \u001b[0;34m\"didn't work when sides were 1, 2, 2\"\u001b[0m\u001b[0;34m)\u001b[0m\u001b[0;34m\u001b[0m\u001b[0;34m\u001b[0m\u001b[0m\n\u001b[1;32m      5\u001b[0m \u001b[0mTest\u001b[0m\u001b[0;34m.\u001b[0m\u001b[0massert_equals\u001b[0m\u001b[0;34m(\u001b[0m\u001b[0mis_triangle\u001b[0m\u001b[0;34m(\u001b[0m\u001b[0;36m7\u001b[0m\u001b[0;34m,\u001b[0m \u001b[0;36m2\u001b[0m\u001b[0;34m,\u001b[0m \u001b[0;36m2\u001b[0m\u001b[0;34m)\u001b[0m\u001b[0;34m,\u001b[0m \u001b[0;32mFalse\u001b[0m\u001b[0;34m,\u001b[0m \u001b[0;34m\"didn't work when sides were 7, 2, 2\"\u001b[0m\u001b[0;34m)\u001b[0m\u001b[0;34m\u001b[0m\u001b[0;34m\u001b[0m\u001b[0m\n",
      "\u001b[0;31mNameError\u001b[0m: name 'Test' is not defined"
     ]
    }
   ],
   "source": [
    "Test.describe('is_triangle')\n",
    "\n",
    "Test.it(\"works for some examples\")\n",
    "Test.assert_equals(is_triangle(1, 2, 2), True, \"didn't work when sides were 1, 2, 2\")\n",
    "Test.assert_equals(is_triangle(7, 2, 2), False, \"didn't work when sides were 7, 2, 2\")\n",
    "Test.assert_equals(is_triangle(1, 2, 3), False, \"didn't work when sides were 1, 2, 3\")\n",
    "Test.assert_equals(is_triangle(1, 3, 2), False, \"didn't work when sides were 1, 3, 2\")\n",
    "Test.assert_equals(is_triangle(3, 1, 2), False, \"didn't work when sides were 3, 1, 2\")\n",
    "Test.assert_equals(is_triangle(5, 1, 2), False, \"didn't work when sides were 5, 1, 2\")\n",
    "Test.assert_equals(is_triangle(1, 2, 5), False, \"didn't work when sides were 1, 2, 5\")\n",
    "Test.assert_equals(is_triangle(2, 5, 1), False, \"didn't work when sides were 2, 5, 1\")\n",
    "Test.assert_equals(is_triangle(4, 2, 3), True, \"didn't work when sides were 4, 2, 3\")\n",
    "Test.assert_equals(is_triangle(5, 1, 5), True, \"didn't work when sides were 5, 1, 5\")\n",
    "Test.assert_equals(is_triangle(2, 2, 2), True, \"didn't work when sides were 2, 2, 2\")\n",
    "Test.assert_equals(is_triangle(-1, 2, 3), False, \"didn't work when sides were -1, 2, 3\")\n",
    "Test.assert_equals(is_triangle(1, -2, 3), False, \"didn't work when sides were 1, -2, 3\")\n",
    "Test.assert_equals(is_triangle(1, 2, -3), False, \"didn't work when sides were 1, 2, -3\")\n",
    "Test.assert_equals(is_triangle(0, 2, 3), False, \"didn't work when sides were 0, 2, 3\")\n",
    "\n",
    "Test.it(\"works for random sides\")\n",
    "from random import randint\n",
    "\n",
    "def solution(a, b, c):\n",
    "    a, b, c = sorted([a, b, c])\n",
    "    return a + b > c\n",
    "\n",
    "for _ in range(40):\n",
    "    a, b, c = [randint(-2, 10) for i in range(3)]\n",
    "    Test.assert_equals(is_triangle(a, b, c), solution(a, b, c), \"didn't work when sides were {}, {}, {}\".format(a, b, c))"
   ]
  },
  {
   "cell_type": "code",
   "execution_count": 11,
   "metadata": {},
   "outputs": [],
   "source": [
    "IST_TEST_CASES = [\n",
    "    ((1, 2, 2), True),\n",
    "    ((7, 2, 2), False),\n",
    "    ((1, 2, 3), False),\n",
    "]"
   ]
  },
  {
   "cell_type": "code",
   "execution_count": 14,
   "metadata": {},
   "outputs": [],
   "source": [
    "def test_is_triangle(fn, test_cases):\n",
    "    passed = 0\n",
    "    total = len(test_cases)   \n",
    "    for (a,b,c),expected in test_cases:\n",
    "        got = fn(a,b,c)\n",
    "        if got == expected:\n",
    "            print(True)\n",
    "            passed += 1\n",
    "        else:\n",
    "            print('input : {}, expected : {} got : {}'.format(\n",
    "                 lst, expected, got))\n",
    "    print(\"passed {} of {} tests.\".format(passed,total))"
   ]
  },
  {
   "cell_type": "code",
   "execution_count": 15,
   "metadata": {},
   "outputs": [
    {
     "name": "stdout",
     "output_type": "stream",
     "text": [
      "True\n",
      "True\n",
      "True\n",
      "passed 3 of 3 tests.\n"
     ]
    }
   ],
   "source": [
    "test_is_triangle(is_triangle, IST_TEST_CASES)"
   ]
  },
  {
   "cell_type": "code",
   "execution_count": null,
   "metadata": {},
   "outputs": [],
   "source": []
  }
 ],
 "metadata": {
  "kernelspec": {
   "display_name": "Python 3",
   "language": "python",
   "name": "python3"
  },
  "language_info": {
   "codemirror_mode": {
    "name": "ipython",
    "version": 3
   },
   "file_extension": ".py",
   "mimetype": "text/x-python",
   "name": "python",
   "nbconvert_exporter": "python",
   "pygments_lexer": "ipython3",
   "version": "3.7.1"
  }
 },
 "nbformat": 4,
 "nbformat_minor": 2
}
