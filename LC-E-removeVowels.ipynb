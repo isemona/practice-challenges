{
 "cells": [
  {
   "cell_type": "code",
   "execution_count": null,
   "metadata": {},
   "outputs": [],
   "source": [
    "def removeVowels(self, S):\n",
    "        \"\"\"\n",
    "        \n",
    "        Goal - return string w/o vowels\n",
    "        \n",
    "        Input \n",
    "        :type S: str\n",
    "        :rtype: str\n",
    "        \n",
    "        Assumptions - valid inputs, no unicode, cap\n",
    "        \n",
    "        Game plan\n",
    "        # iterate over the string\n",
    "        # new_word\n",
    "        # return it\n",
    "        \n",
    "        \"\"\"\n",
    "        new_word = \"\"\n",
    "        for ch in S:\n",
    "            if ch not in 'aeiouAEIOU':# or ch.lower (more expensive to call a function)\n",
    "                new_word += ch\n",
    "        return new_word\n",
    "    \n",
    "        # ''.join([ch for ch in S if ch not in 'aeiouAEIOU'])\n",
    "        \n",
    "    # most expensive is allocation"
   ]
  }
 ],
 "metadata": {
  "kernelspec": {
   "display_name": "Python 3",
   "language": "python",
   "name": "python3"
  },
  "language_info": {
   "codemirror_mode": {
    "name": "ipython",
    "version": 3
   },
   "file_extension": ".py",
   "mimetype": "text/x-python",
   "name": "python",
   "nbconvert_exporter": "python",
   "pygments_lexer": "ipython3",
   "version": "3.7.1"
  }
 },
 "nbformat": 4,
 "nbformat_minor": 2
}
