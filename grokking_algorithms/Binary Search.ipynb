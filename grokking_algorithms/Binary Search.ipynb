{
 "cells": [
  {
   "cell_type": "code",
   "execution_count": 1,
   "metadata": {},
   "outputs": [],
   "source": [
    "def number_finder(x, item):\n",
    "    low = 0\n",
    "    \n",
    "    while low <= high:\n",
    "        mid = (low - high)/2\n",
    "        # does mid == item if so return found\n",
    "        # else make the new high = mid-1\n",
    "        # repeat the process else return none\n",
    "        \n",
    "# Testcases \n"
   ]
  },
  {
   "cell_type": "code",
   "execution_count": 20,
   "metadata": {},
   "outputs": [
    {
     "name": "stdout",
     "output_type": "stream",
     "text": [
      "1\n",
      "None\n"
     ]
    }
   ],
   "source": [
    "def binary_search(list, item): # function takes list or my_list\n",
    "    low = 0\n",
    "    high = len(list)-1 # to include the last number\n",
    "    \n",
    "    while low <= high:\n",
    "        mid = round((low + high) / 2)\n",
    "        guess = list[mid] # guess access the true number, mid tells us the position\n",
    "        if guess == item:\n",
    "            return mid\n",
    "        if guess > item:\n",
    "            high = mid - 1 # new high\n",
    "        else:\n",
    "            low = mid +1 # new low\n",
    "        \n",
    "    return None\n",
    "        \n",
    "# Testcases \n",
    "my_list = [1,3,5,7,10]\n",
    "\n",
    "print(binary_search(my_list, 3))\n",
    "print(binary_search(my_list, -1))"
   ]
  },
  {
   "cell_type": "code",
   "execution_count": null,
   "metadata": {},
   "outputs": [],
   "source": []
  }
 ],
 "metadata": {
  "kernelspec": {
   "display_name": "Python 3",
   "language": "python",
   "name": "python3"
  },
  "language_info": {
   "codemirror_mode": {
    "name": "ipython",
    "version": 3
   },
   "file_extension": ".py",
   "mimetype": "text/x-python",
   "name": "python",
   "nbconvert_exporter": "python",
   "pygments_lexer": "ipython3",
   "version": "3.7.1"
  }
 },
 "nbformat": 4,
 "nbformat_minor": 2
}
