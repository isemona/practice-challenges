{
 "cells": [
  {
   "cell_type": "code",
   "execution_count": 1,
   "metadata": {},
   "outputs": [],
   "source": [
    "def binary_search(lst,item):\n",
    "    # keep track of which part of the list you'll search in\n",
    "    low = 0\n",
    "    high = len(lst)-1\n",
    "    # while you have narrowed it down to one element\n",
    "    mid = (low+high)//2\n",
    "    guess = lst[mid]\n",
    "    if guess == item:\n",
    "        return mid\n",
    "    if guess > item:\n",
    "        high = mid-1\n",
    "    if guess < item:\n",
    "        low = mid + 1\n",
    "    return None\n",
    "lst = [1,3,4,5,7,2]\n",
    "item = 7\n",
    "binary_search(lst,item)"
   ]
  },
  {
   "cell_type": "code",
   "execution_count": 2,
   "metadata": {},
   "outputs": [],
   "source": [
    "binary_search(lst,item)"
   ]
  },
  {
   "cell_type": "code",
   "execution_count": null,
   "metadata": {},
   "outputs": [],
   "source": []
  }
 ],
 "metadata": {
  "kernelspec": {
   "display_name": "Python 3",
   "language": "python",
   "name": "python3"
  },
  "language_info": {
   "codemirror_mode": {
    "name": "ipython",
    "version": 3
   },
   "file_extension": ".py",
   "mimetype": "text/x-python",
   "name": "python",
   "nbconvert_exporter": "python",
   "pygments_lexer": "ipython3",
   "version": "3.7.1"
  }
 },
 "nbformat": 4,
 "nbformat_minor": 2
}
