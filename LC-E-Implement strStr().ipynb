{
 "cells": [
  {
   "cell_type": "markdown",
   "metadata": {},
   "source": [
    "Implement strStr().\n",
    "\n",
    "Return the index of the first occurrence of needle in haystack, or -1 if needle is not part \n",
    "of haystack.\n",
    "\n",
    "Example 1:\n",
    "\n",
    "Input: haystack = \"hello\", needle = \"ll\"\n",
    "Output: 2\n",
    "\n",
    "Example 2:\n",
    "\n",
    "Input: haystack = \"aaaaa\", needle = \"bba\"\n",
    "Output: -1\n",
    "\n",
    "Clarification:\n",
    "\n",
    "What should we return when needle is an empty string? This is a great question to ask \n",
    "during an interview.\n",
    "\n",
    "For the purpose of this problem, we will return 0 when needle is an empty string. \n",
    "This is consistent to C's strstr() and Java's indexOf()."
   ]
  },
  {
   "cell_type": "code",
   "execution_count": 182,
   "metadata": {},
   "outputs": [],
   "source": [
    "def _strStr(haystack, needle): \n",
    "    collectionOfletters = \"\"\n",
    "    for ch in haystack:\n",
    "        if ch in needle:\n",
    "            collectionOfletter += ch\n",
    "        continue\n",
    "    return collectionOfletters"
   ]
  },
  {
   "cell_type": "code",
   "execution_count": 323,
   "metadata": {},
   "outputs": [],
   "source": [
    "def _strStr(haystack, needle):\n",
    "    if needle == \"\":\n",
    "        return 0\n",
    "    indexOfLetter = []\n",
    "    for i in range(len(haystack)):\n",
    "        if haystack[i] in haystack and haystack[i] in needle:\n",
    "            indexOfLetter.append(i)\n",
    "        else:\n",
    "            return -1\n",
    "            break\n",
    "        #continue\n",
    "    return indexOfLetter[0]"
   ]
  },
  {
   "cell_type": "code",
   "execution_count": 181,
   "metadata": {},
   "outputs": [],
   "source": [
    "def _strStr(haystack, needle): #improved solution\n",
    "    if needle == \"\":\n",
    "        return 0\n",
    "    elif haystack == \"\" and needle != \"\":\n",
    "        return -1\n",
    "    indexOfLetter = []\n",
    "    counter = -1\n",
    "    for i in range(len(haystack)):\n",
    "        counter += 1\n",
    "        print(haystack[i],\"i_index\",i,counter)\n",
    "        if haystack[i] in haystack and haystack[i] in needle:\n",
    "            if i == counter:\n",
    "                print(i,counter)   \n",
    "            indexOfLetter.append(i)\n",
    "        continue\n",
    "    if indexOfLetter == []:\n",
    "        return -1\n",
    "    else:\n",
    "        return indexOfLetter[0]"
   ]
  },
  {
   "cell_type": "code",
   "execution_count": 256,
   "metadata": {},
   "outputs": [],
   "source": [
    "def strStr(haystack, needle): #improved solution, no spaces!\n",
    "    if needle==\"\":\n",
    "        return 0\n",
    "    elif haystack==\"\" and needle!=\"\":\n",
    "        return -1\n",
    "    indexOfLetter=[]\n",
    "    for i in range(len(haystack)):\n",
    "#         print(haystack[i],\"i_index\",i)\n",
    "        if haystack[i] in haystack and haystack[i] in needle:\n",
    "#             counter=-1\n",
    "            for j in range(len(needle)):\n",
    "#                 counter+=1\n",
    "#                 print(needle[j],\"j_index:\",j,\"counter:\",counter)\n",
    "                print(needle[j],\"j_index:\",j)\n",
    "                if haystack[i]==needle[j]:\n",
    "                    indexOfLetter.append(i)\n",
    "        continue\n",
    "    if indexOfLetter==[]:\n",
    "        return -1\n",
    "    else:\n",
    "        return indexOfLetter[0]"
   ]
  },
  {
   "cell_type": "code",
   "execution_count": 257,
   "metadata": {},
   "outputs": [],
   "source": [
    "TEST_CASES = [\n",
    "    ('','',0),\n",
    "    ('','a',-1),\n",
    "    ('hello','ll',2),\n",
    "    ('hello','llo',2),\n",
    "    ('aaaa','bba',-1),\n",
    "]"
   ]
  },
  {
   "cell_type": "code",
   "execution_count": 258,
   "metadata": {},
   "outputs": [],
   "source": [
    "def test_strStr(test_cases):\n",
    "    passed = 0\n",
    "    total = len(test_cases)   \n",
    "    for test_input_one, test_input_two, expected in test_cases:\n",
    "        got = strStr(test_input_one, test_input_two)\n",
    "        if got == expected:\n",
    "            print(True)\n",
    "            passed += 1\n",
    "        else:\n",
    "            print('input : {}, {} expected : {} got : {}'.format(\n",
    "                test_input_one, test_input_two, expected, got))\n",
    "    print(\"passed {} of {} tests.\".format(passed,total))"
   ]
  },
  {
   "cell_type": "code",
   "execution_count": 259,
   "metadata": {},
   "outputs": [
    {
     "name": "stdout",
     "output_type": "stream",
     "text": [
      "True\n",
      "True\n",
      "l j_index: 0\n",
      "l j_index: 1\n",
      "l j_index: 0\n",
      "l j_index: 1\n"
     ]
    },
    {
     "ename": "IndexError",
     "evalue": "string index out of range",
     "output_type": "error",
     "traceback": [
      "\u001b[0;31m---------------------------------------------------------------------------\u001b[0m",
      "\u001b[0;31mIndexError\u001b[0m                                Traceback (most recent call last)",
      "\u001b[0;32m<ipython-input-259-1a8696885f87>\u001b[0m in \u001b[0;36m<module>\u001b[0;34m\u001b[0m\n\u001b[0;32m----> 1\u001b[0;31m \u001b[0mtest_strStr\u001b[0m\u001b[0;34m(\u001b[0m\u001b[0mTEST_CASES\u001b[0m\u001b[0;34m)\u001b[0m\u001b[0;34m\u001b[0m\u001b[0;34m\u001b[0m\u001b[0m\n\u001b[0m",
      "\u001b[0;32m<ipython-input-258-c3b8a9f22e1d>\u001b[0m in \u001b[0;36mtest_strStr\u001b[0;34m(test_cases)\u001b[0m\n\u001b[1;32m      3\u001b[0m     \u001b[0mtotal\u001b[0m \u001b[0;34m=\u001b[0m \u001b[0mlen\u001b[0m\u001b[0;34m(\u001b[0m\u001b[0mtest_cases\u001b[0m\u001b[0;34m)\u001b[0m\u001b[0;34m\u001b[0m\u001b[0;34m\u001b[0m\u001b[0m\n\u001b[1;32m      4\u001b[0m     \u001b[0;32mfor\u001b[0m \u001b[0mtest_input_one\u001b[0m\u001b[0;34m,\u001b[0m \u001b[0mtest_input_two\u001b[0m\u001b[0;34m,\u001b[0m \u001b[0mexpected\u001b[0m \u001b[0;32min\u001b[0m \u001b[0mtest_cases\u001b[0m\u001b[0;34m:\u001b[0m\u001b[0;34m\u001b[0m\u001b[0;34m\u001b[0m\u001b[0m\n\u001b[0;32m----> 5\u001b[0;31m         \u001b[0mgot\u001b[0m \u001b[0;34m=\u001b[0m \u001b[0mstrStr\u001b[0m\u001b[0;34m(\u001b[0m\u001b[0mtest_input_one\u001b[0m\u001b[0;34m,\u001b[0m \u001b[0mtest_input_two\u001b[0m\u001b[0;34m)\u001b[0m\u001b[0;34m\u001b[0m\u001b[0;34m\u001b[0m\u001b[0m\n\u001b[0m\u001b[1;32m      6\u001b[0m         \u001b[0;32mif\u001b[0m \u001b[0mgot\u001b[0m \u001b[0;34m==\u001b[0m \u001b[0mexpected\u001b[0m\u001b[0;34m:\u001b[0m\u001b[0;34m\u001b[0m\u001b[0;34m\u001b[0m\u001b[0m\n\u001b[1;32m      7\u001b[0m             \u001b[0mprint\u001b[0m\u001b[0;34m(\u001b[0m\u001b[0;32mTrue\u001b[0m\u001b[0;34m)\u001b[0m\u001b[0;34m\u001b[0m\u001b[0;34m\u001b[0m\u001b[0m\n",
      "\u001b[0;32m<ipython-input-256-00b87d1c98bd>\u001b[0m in \u001b[0;36mstrStr\u001b[0;34m(haystack, needle)\u001b[0m\n\u001b[1;32m     12\u001b[0m \u001b[0;31m#                 counter+=1\u001b[0m\u001b[0;34m\u001b[0m\u001b[0;34m\u001b[0m\u001b[0;34m\u001b[0m\u001b[0m\n\u001b[1;32m     13\u001b[0m \u001b[0;31m#                 print(needle[j],\"j_index:\",j,\"counter:\",counter)\u001b[0m\u001b[0;34m\u001b[0m\u001b[0;34m\u001b[0m\u001b[0;34m\u001b[0m\u001b[0m\n\u001b[0;32m---> 14\u001b[0;31m                 \u001b[0mprint\u001b[0m\u001b[0;34m(\u001b[0m\u001b[0mneedle\u001b[0m\u001b[0;34m[\u001b[0m\u001b[0mj\u001b[0m\u001b[0;34m]\u001b[0m\u001b[0;34m,\u001b[0m\u001b[0;34m\"j_index:\"\u001b[0m\u001b[0;34m,\u001b[0m\u001b[0mj\u001b[0m\u001b[0;34m)\u001b[0m\u001b[0;34m\u001b[0m\u001b[0;34m\u001b[0m\u001b[0m\n\u001b[0m\u001b[1;32m     15\u001b[0m                 \u001b[0;32mif\u001b[0m \u001b[0mhaystack\u001b[0m\u001b[0;34m[\u001b[0m\u001b[0mi\u001b[0m\u001b[0;34m]\u001b[0m\u001b[0;34m==\u001b[0m\u001b[0mneedle\u001b[0m\u001b[0;34m[\u001b[0m\u001b[0mj\u001b[0m\u001b[0;34m]\u001b[0m\u001b[0;34m:\u001b[0m\u001b[0;34m\u001b[0m\u001b[0;34m\u001b[0m\u001b[0m\n\u001b[1;32m     16\u001b[0m                     \u001b[0mindexOfLetter\u001b[0m\u001b[0;34m.\u001b[0m\u001b[0mappend\u001b[0m\u001b[0;34m(\u001b[0m\u001b[0mi\u001b[0m\u001b[0;34m)\u001b[0m\u001b[0;34m\u001b[0m\u001b[0;34m\u001b[0m\u001b[0m\n",
      "\u001b[0;31mIndexError\u001b[0m: string index out of range"
     ]
    }
   ],
   "source": [
    "test_strStr(TEST_CASES)"
   ]
  },
  {
   "cell_type": "code",
   "execution_count": null,
   "metadata": {},
   "outputs": [],
   "source": []
  },
  {
   "cell_type": "code",
   "execution_count": null,
   "metadata": {},
   "outputs": [],
   "source": []
  },
  {
   "cell_type": "code",
   "execution_count": null,
   "metadata": {},
   "outputs": [],
   "source": []
  }
 ],
 "metadata": {
  "kernelspec": {
   "display_name": "Python 3",
   "language": "python",
   "name": "python3"
  },
  "language_info": {
   "codemirror_mode": {
    "name": "ipython",
    "version": 3
   },
   "file_extension": ".py",
   "mimetype": "text/x-python",
   "name": "python",
   "nbconvert_exporter": "python",
   "pygments_lexer": "ipython3",
   "version": "3.7.1"
  }
 },
 "nbformat": 4,
 "nbformat_minor": 2
}
