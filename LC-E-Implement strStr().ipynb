{
 "cells": [
  {
   "cell_type": "markdown",
   "metadata": {},
   "source": [
    "Implement strStr().\n",
    "\n",
    "Return the index of the first occurrence of needle in haystack, or -1 if needle is not part \n",
    "of haystack.\n",
    "\n",
    "Example 1:\n",
    "\n",
    "Input: haystack = \"hello\", needle = \"ll\"\n",
    "Output: 2\n",
    "\n",
    "Example 2:\n",
    "\n",
    "Input: haystack = \"aaaaa\", needle = \"bba\"\n",
    "Output: -1\n",
    "\n",
    "Clarification:\n",
    "\n",
    "What should we return when needle is an empty string? This is a great question to ask \n",
    "during an interview.\n",
    "\n",
    "For the purpose of this problem, we will return 0 when needle is an empty string. \n",
    "This is consistent to C's strstr() and Java's indexOf()."
   ]
  },
  {
   "cell_type": "code",
   "execution_count": 1,
   "metadata": {},
   "outputs": [],
   "source": [
    "def _strStr(haystack, needle): \n",
    "    collectionOfletters = \"\"\n",
    "    for ch in haystack:\n",
    "        if ch in needle:\n",
    "            collectionOfletter += ch\n",
    "        continue\n",
    "    return collectionOfletters"
   ]
  },
  {
   "cell_type": "code",
   "execution_count": 1,
   "metadata": {},
   "outputs": [],
   "source": [
    "def _strStr(haystack, needle):\n",
    "    if needle == \"\":\n",
    "        return 0\n",
    "    indexOfLetter = []\n",
    "    for i in range(len(haystack)):\n",
    "        if haystack[i] in haystack and haystack[i] in needle:\n",
    "            indexOfLetter.append(i)\n",
    "        else:\n",
    "            return -1\n",
    "            break\n",
    "        #continue\n",
    "    return indexOfLetter[0]"
   ]
  },
  {
   "cell_type": "code",
   "execution_count": 2,
   "metadata": {},
   "outputs": [],
   "source": [
    "def _strStr(haystack, needle): #improved solution\n",
    "    if needle == \"\":\n",
    "        return 0\n",
    "    elif haystack == \"\" and needle != \"\":\n",
    "        return -1\n",
    "    indexOfLetter = []\n",
    "    counter = -1\n",
    "    for i in range(len(haystack)):\n",
    "        counter += 1\n",
    "        print(haystack[i],\"i_index\",i,counter)\n",
    "        if haystack[i] in haystack and haystack[i] in needle:\n",
    "            if i == counter:\n",
    "                print(i,counter)   \n",
    "            indexOfLetter.append(i)\n",
    "        continue\n",
    "    if indexOfLetter == []:\n",
    "        return -1\n",
    "    else:\n",
    "        return indexOfLetter[0]"
   ]
  },
  {
   "cell_type": "code",
   "execution_count": 3,
   "metadata": {},
   "outputs": [],
   "source": [
    "def strStr(haystack, needle): #improved solution, no spaces!\n",
    "    if needle==\"\":\n",
    "        return 0\n",
    "    elif haystack==\"\" and needle!=\"\":\n",
    "        return -1\n",
    "    indexOfLetter=[]\n",
    "    for i in range(len(haystack)):\n",
    "        print(haystack[i],\"i_index\",i)\n",
    "        if haystack[i] in haystack and haystack[i] in needle:\n",
    "            counter=-1\n",
    "            for j in range(len(needle)):\n",
    "                counter+=1\n",
    "                print(needle[j],\"j_index:\",j,\"counter:\",counter)\n",
    "                if haystack[i]==needle[j] and j==counter:\n",
    "                    indexOfLetter.append(i)\n",
    "        continue\n",
    "    if indexOfLetter==[]:\n",
    "        return -1\n",
    "    else:\n",
    "        return indexOfLetter[0]"
   ]
  },
  {
   "cell_type": "code",
   "execution_count": 4,
   "metadata": {},
   "outputs": [],
   "source": [
    "TEST_CASES = [\n",
    "    ('','',0),\n",
    "    ('','a',-1),\n",
    "    ('hello','ll',2),\n",
    "    ('hello','llo',2),\n",
    "    ('aaaa','bba',-1),\n",
    "]"
   ]
  },
  {
   "cell_type": "code",
   "execution_count": 5,
   "metadata": {},
   "outputs": [],
   "source": [
    "def test_strStr(test_cases):\n",
    "    passed = 0\n",
    "    total = len(test_cases)   \n",
    "    for haystack, needle, expected in test_cases:\n",
    "        got = strStr(haystack, needle) #added this instead of test_input_one, test_input_two,\n",
    "        if got == expected:\n",
    "            print(True)\n",
    "            passed += 1\n",
    "        else:\n",
    "            print('input : {}, {} expected : {} got : {}'.format(\n",
    "                haystack, needle, expected, got))\n",
    "    print(\"passed {} of {} tests.\".format(passed,total))"
   ]
  },
  {
   "cell_type": "code",
   "execution_count": 2,
   "metadata": {},
   "outputs": [
    {
     "ename": "NameError",
     "evalue": "name '_test_strStr' is not defined",
     "output_type": "error",
     "traceback": [
      "\u001b[0;31m---------------------------------------------------------------------------\u001b[0m",
      "\u001b[0;31mNameError\u001b[0m                                 Traceback (most recent call last)",
      "\u001b[0;32m<ipython-input-2-2d796e518b3c>\u001b[0m in \u001b[0;36m<module>\u001b[0;34m\u001b[0m\n\u001b[0;32m----> 1\u001b[0;31m \u001b[0m_test_strStr\u001b[0m\u001b[0;34m(\u001b[0m\u001b[0mTEST_CASES\u001b[0m\u001b[0;34m)\u001b[0m\u001b[0;34m\u001b[0m\u001b[0;34m\u001b[0m\u001b[0m\n\u001b[0m",
      "\u001b[0;31mNameError\u001b[0m: name '_test_strStr' is not defined"
     ]
    }
   ],
   "source": [
    "_test_strStr(TEST_CASES)"
   ]
  },
  {
   "cell_type": "code",
   "execution_count": 65,
   "metadata": {},
   "outputs": [],
   "source": [
    "def _strStrPos(needle, haystack, pos):\n",
    "    if needle==\"\":\n",
    "        return False\n",
    "    elif haystack==\"\" and needle!=\"\":\n",
    "        return False\n",
    "    matches=0\n",
    "    index=[]\n",
    "    for i in range(len(haystack)):\n",
    "        if haystack[i] in needle:\n",
    "            matches+=1\n",
    "            index.append(i)\n",
    "    if len(needle)==matches and index[0]==pos:\n",
    "        return True\n",
    "    return False"
   ]
  },
  {
   "cell_type": "code",
   "execution_count": null,
   "metadata": {},
   "outputs": [],
   "source": [
    "def strStrPos(needle, haystack, pos):\n",
    "    if len(haystack) < pos + len(needle):\n",
    "        # needle can't fit in haystack starting at pos.\n",
    "        return False\n",
    "    for i in range(len(needle)):\n",
    "        if haystack[_____] != needle[_____]:\n",
    "            return _____\n",
    "    return _____"
   ]
  },
  {
   "cell_type": "code",
   "execution_count": 69,
   "metadata": {},
   "outputs": [],
   "source": [
    "TEST_CASES = [\n",
    "    ('','', 0, False),\n",
    "    ('','a', 0, False),\n",
    "    ('ll','hello', 2, True),\n",
    "    ('ll','hello', 0, False),\n",
    "    ('ll', 'hello', 3, False), # first occurence is at 2 not 3\n",
    "    ('llx', 'hello', 2, False), # doesn't quite match haystack letters\n",
    "    ('a', 'aaaa', 1, True), # however a test case like this doesn't pass\n",
    "]"
   ]
  },
  {
   "cell_type": "code",
   "execution_count": 70,
   "metadata": {},
   "outputs": [],
   "source": [
    "def test_strStrPos(test_cases):\n",
    "    passed = 0\n",
    "    total = len(test_cases)   \n",
    "    for needle, haystack, pos, expected in test_cases:\n",
    "        got = strStrPos(needle, haystack, pos) \n",
    "        if got == expected:\n",
    "            print(True)\n",
    "            passed += 1\n",
    "        else:\n",
    "            print('input : {}, {}, {} expected : {} got : {}'.format(\n",
    "                 needle, haystack, pos, expected, got))\n",
    "    print(\"passed {} of {} tests.\".format(passed,total))"
   ]
  },
  {
   "cell_type": "code",
   "execution_count": 71,
   "metadata": {},
   "outputs": [
    {
     "name": "stdout",
     "output_type": "stream",
     "text": [
      "True\n",
      "True\n",
      "True\n",
      "True\n",
      "True\n",
      "True\n",
      "input : a, aaaa, 1 expected : True got : False\n",
      "passed 6 of 7 tests.\n"
     ]
    }
   ],
   "source": [
    "test_strStrPos(TEST_CASES)"
   ]
  },
  {
   "cell_type": "code",
   "execution_count": null,
   "metadata": {},
   "outputs": [],
   "source": []
  },
  {
   "cell_type": "code",
   "execution_count": null,
   "metadata": {},
   "outputs": [],
   "source": []
  },
  {
   "cell_type": "code",
   "execution_count": null,
   "metadata": {},
   "outputs": [],
   "source": []
  }
 ],
 "metadata": {
  "kernelspec": {
   "display_name": "Python 3",
   "language": "python",
   "name": "python3"
  },
  "language_info": {
   "codemirror_mode": {
    "name": "ipython",
    "version": 3
   },
   "file_extension": ".py",
   "mimetype": "text/x-python",
   "name": "python",
   "nbconvert_exporter": "python",
   "pygments_lexer": "ipython3",
   "version": "3.7.1"
  }
 },
 "nbformat": 4,
 "nbformat_minor": 2
}
