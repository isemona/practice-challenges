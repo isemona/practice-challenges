{
 "cells": [
  {
   "cell_type": "code",
   "execution_count": null,
   "metadata": {},
   "outputs": [],
   "source": [
    "class Solution:\n",
    "    def strStr(self, haystack: str, needle: str) -> int:\n",
    "        # needle = \"\", return 0\n",
    "        # for loop needle in set haystack = str\n",
    "        # range, counter\n",
    "        \n",
    "        # inner/outer loop, reset index, running set of \n",
    "        \n",
    "        if needle = \"\":\n",
    "            return 0\n",
    "        \n",
    "        for ch in len(haystack):\n",
    "            if ch in needle:\n",
    "                return \n",
    "        "
   ]
  }
 ],
 "metadata": {
  "kernelspec": {
   "display_name": "Python 3",
   "language": "python",
   "name": "python3"
  },
  "language_info": {
   "codemirror_mode": {
    "name": "ipython",
    "version": 3
   },
   "file_extension": ".py",
   "mimetype": "text/x-python",
   "name": "python",
   "nbconvert_exporter": "python",
   "pygments_lexer": "ipython3",
   "version": "3.7.1"
  }
 },
 "nbformat": 4,
 "nbformat_minor": 2
}
