{
 "cells": [
  {
   "cell_type": "markdown",
   "metadata": {},
   "source": [
    "Implement strStr().\n",
    "\n",
    "Return the index of the first occurrence of needle in haystack, or -1 if needle is not part \n",
    "of haystack.\n",
    "\n",
    "Example 1:\n",
    "\n",
    "Input: haystack = \"hello\", needle = \"ll\"\n",
    "Output: 2\n",
    "\n",
    "Example 2:\n",
    "\n",
    "Input: haystack = \"aaaaa\", needle = \"bba\"\n",
    "Output: -1\n",
    "\n",
    "Clarification:\n",
    "\n",
    "What should we return when needle is an empty string? This is a great question to ask \n",
    "during an interview.\n",
    "\n",
    "For the purpose of this problem, we will return 0 when needle is an empty string. \n",
    "This is consistent to C's strstr() and Java's indexOf()."
   ]
  },
  {
   "cell_type": "code",
   "execution_count": 182,
   "metadata": {},
   "outputs": [],
   "source": [
    "def _strStr(haystack, needle): \n",
    "    collectionOfletters = \"\"\n",
    "    for ch in haystack:\n",
    "        if ch in needle:\n",
    "            collectionOfletter += ch\n",
    "        continue\n",
    "    return collectionOfletters"
   ]
  },
  {
   "cell_type": "code",
   "execution_count": 323,
   "metadata": {},
   "outputs": [],
   "source": [
    "def _strStr(haystack, needle):\n",
    "    if needle == \"\":\n",
    "        return 0\n",
    "    indexOfLetter = []\n",
    "    for i in range(len(haystack)):\n",
    "        if haystack[i] in haystack and haystack[i] in needle:\n",
    "            indexOfLetter.append(i)\n",
    "        else:\n",
    "            return -1\n",
    "            break\n",
    "        #continue\n",
    "    return indexOfLetter[0]"
   ]
  },
  {
   "cell_type": "code",
   "execution_count": 181,
   "metadata": {},
   "outputs": [],
   "source": [
    "def _strStr(haystack, needle): #improved solution\n",
    "    if needle == \"\":\n",
    "        return 0\n",
    "    elif haystack == \"\" and needle != \"\":\n",
    "        return -1\n",
    "    indexOfLetter = []\n",
    "    counter = -1\n",
    "    for i in range(len(haystack)):\n",
    "        counter += 1\n",
    "        print(haystack[i],\"i_index\",i,counter)\n",
    "        if haystack[i] in haystack and haystack[i] in needle:\n",
    "            if i == counter:\n",
    "                print(i,counter)   \n",
    "            indexOfLetter.append(i)\n",
    "        continue\n",
    "    if indexOfLetter == []:\n",
    "        return -1\n",
    "    else:\n",
    "        return indexOfLetter[0]"
   ]
  },
  {
   "cell_type": "code",
   "execution_count": 260,
   "metadata": {},
   "outputs": [],
   "source": [
    "def strStr(haystack, needle): #improved solution, no spaces!\n",
    "    if needle==\"\":\n",
    "        return 0\n",
    "    elif haystack==\"\" and needle!=\"\":\n",
    "        return -1\n",
    "    indexOfLetter=[]\n",
    "    for i in range(len(haystack)):\n",
    "        print(haystack[i],\"i_index\",i)\n",
    "        if haystack[i] in haystack and haystack[i] in needle:\n",
    "            counter=-1\n",
    "            for j in range(len(needle)):\n",
    "                counter+=1\n",
    "                print(needle[j],\"j_index:\",j,\"counter:\",counter)\n",
    "                if haystack[i]==needle[j] and j==counter:\n",
    "                    indexOfLetter.append(i)\n",
    "        continue\n",
    "    if indexOfLetter==[]:\n",
    "        return -1\n",
    "    else:\n",
    "        return indexOfLetter[0]"
   ]
  },
  {
   "cell_type": "code",
   "execution_count": 261,
   "metadata": {},
   "outputs": [],
   "source": [
    "TEST_CASES = [\n",
    "    ('','',0),\n",
    "    ('','a',-1),\n",
    "    ('hello','ll',2),\n",
    "    ('hello','llo',2),\n",
    "    ('aaaa','bba',-1),\n",
    "]"
   ]
  },
  {
   "cell_type": "code",
   "execution_count": 262,
   "metadata": {},
   "outputs": [],
   "source": [
    "def test_strStr(test_cases):\n",
    "    passed = 0\n",
    "    total = len(test_cases)   \n",
    "    for test_input_one, test_input_two, expected in test_cases:\n",
    "        got = strStr(test_input_one, test_input_two)\n",
    "        if got == expected:\n",
    "            print(True)\n",
    "            passed += 1\n",
    "        else:\n",
    "            print('input : {}, {} expected : {} got : {}'.format(\n",
    "                test_input_one, test_input_two, expected, got))\n",
    "    print(\"passed {} of {} tests.\".format(passed,total))"
   ]
  },
  {
   "cell_type": "code",
   "execution_count": 263,
   "metadata": {},
   "outputs": [
    {
     "name": "stdout",
     "output_type": "stream",
     "text": [
      "True\n",
      "True\n",
      "h i_index 0\n",
      "e i_index 1\n",
      "l i_index 2\n",
      "l j_index: 0 counter: 0\n",
      "l j_index: 1 counter: 1\n",
      "l i_index 3\n",
      "l j_index: 0 counter: 0\n",
      "l j_index: 1 counter: 1\n",
      "o i_index 4\n",
      "True\n",
      "h i_index 0\n",
      "e i_index 1\n",
      "l i_index 2\n",
      "l j_index: 0 counter: 0\n",
      "l j_index: 1 counter: 1\n",
      "o j_index: 2 counter: 2\n",
      "l i_index 3\n",
      "l j_index: 0 counter: 0\n",
      "l j_index: 1 counter: 1\n",
      "o j_index: 2 counter: 2\n",
      "o i_index 4\n",
      "l j_index: 0 counter: 0\n",
      "l j_index: 1 counter: 1\n",
      "o j_index: 2 counter: 2\n",
      "True\n",
      "a i_index 0\n",
      "b j_index: 0 counter: 0\n",
      "b j_index: 1 counter: 1\n",
      "a j_index: 2 counter: 2\n",
      "a i_index 1\n",
      "b j_index: 0 counter: 0\n",
      "b j_index: 1 counter: 1\n",
      "a j_index: 2 counter: 2\n",
      "a i_index 2\n",
      "b j_index: 0 counter: 0\n",
      "b j_index: 1 counter: 1\n",
      "a j_index: 2 counter: 2\n",
      "a i_index 3\n",
      "b j_index: 0 counter: 0\n",
      "b j_index: 1 counter: 1\n",
      "a j_index: 2 counter: 2\n",
      "input : aaaa, bba expected : -1 got : 0\n",
      "passed 4 of 5 tests.\n"
     ]
    }
   ],
   "source": [
    "test_strStr(TEST_CASES)"
   ]
  },
  {
   "cell_type": "code",
   "execution_count": null,
   "metadata": {},
   "outputs": [],
   "source": []
  },
  {
   "cell_type": "code",
   "execution_count": null,
   "metadata": {},
   "outputs": [],
   "source": []
  },
  {
   "cell_type": "code",
   "execution_count": null,
   "metadata": {},
   "outputs": [],
   "source": []
  }
 ],
 "metadata": {
  "kernelspec": {
   "display_name": "Python 3",
   "language": "python",
   "name": "python3"
  },
  "language_info": {
   "codemirror_mode": {
    "name": "ipython",
    "version": 3
   },
   "file_extension": ".py",
   "mimetype": "text/x-python",
   "name": "python",
   "nbconvert_exporter": "python",
   "pygments_lexer": "ipython3",
   "version": "3.7.1"
  }
 },
 "nbformat": 4,
 "nbformat_minor": 2
}
