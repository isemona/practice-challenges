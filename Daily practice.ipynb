{
 "cells": [
  {
   "cell_type": "code",
   "execution_count": null,
   "metadata": {},
   "outputs": [],
   "source": [
    "def _binary_search(arr,x):\n",
    "    # set pointers\n",
    "    # if you found mid return mid\n",
    "    # if x is greater disregard left\n",
    "    # if x is less disregard right\n",
    "    # if not found return -1\n",
    "    left=0\n",
    "    right=len(arr)\n",
    "    while left<=right:\n",
    "        mid=left+(right-left)//2\n",
    "        if arr[mid]==x:\n",
    "            return mid\n",
    "        elif arr[mid]<x:\n",
    "            left=mid+1\n",
    "        else:\n",
    "            right=mid-1\n",
    "    return -1\n",
    "arr = [1,3,4,5,7,2]\n",
    "x = 7\n",
    "binary_search(arr,x)"
   ]
  },
  {
   "cell_type": "code",
   "execution_count": null,
   "metadata": {},
   "outputs": [],
   "source": [
    "def binary_search(lst,item):\n",
    "    # keep track of which part of the list you'll search in\n",
    "    low = 0\n",
    "    high = len(lst)-1\n",
    "    # while you have narrowed it down to one element\n",
    "    mid = (low+high)//2\n",
    "    guess = lst[mid]\n",
    "    if guess == item:\n",
    "        return mid\n",
    "    if guess > item:\n",
    "        high = mid-1\n",
    "    if guess < item:\n",
    "        low = mid + 1\n",
    "    return None\n",
    "lst = [1,3,4,5,7,2]\n",
    "item = 7\n",
    "binary_search(lst,item)"
   ]
  },
  {
   "cell_type": "code",
   "execution_count": 2,
   "metadata": {},
   "outputs": [
    {
     "data": {
      "text/plain": [
       "{1: 1, 2: 2, 3: 3, 4: 2, 5: 1}"
      ]
     },
     "execution_count": 2,
     "metadata": {},
     "output_type": "execute_result"
    }
   ],
   "source": [
    "def dict_builder(arr):\n",
    "    dict_1 = {}\n",
    "    for i in arr:\n",
    "        dict_1[i] = dict_1.get(i,0) + 1\n",
    "    return dict_1\n",
    "arr = [1,2,3,4,2,3,4,3,5]\n",
    "dict_builder(arr)"
   ]
  },
  {
   "cell_type": "code",
   "execution_count": null,
   "metadata": {},
   "outputs": [],
   "source": []
  }
 ],
 "metadata": {
  "kernelspec": {
   "display_name": "Python 3",
   "language": "python",
   "name": "python3"
  },
  "language_info": {
   "codemirror_mode": {
    "name": "ipython",
    "version": 3
   },
   "file_extension": ".py",
   "mimetype": "text/x-python",
   "name": "python",
   "nbconvert_exporter": "python",
   "pygments_lexer": "ipython3",
   "version": "3.7.1"
  }
 },
 "nbformat": 4,
 "nbformat_minor": 2
}
