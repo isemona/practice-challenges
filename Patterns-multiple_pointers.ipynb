{
 "cells": [
  {
   "cell_type": "markdown",
   "metadata": {},
   "source": [
    "Write a function called sumZero which accepts a sorted array of integers. The function should find the first pair where the sum is 0. Return an array that includes both values that sum to zero or undefined if a pair does not exist. "
   ]
  },
  {
   "cell_type": "code",
   "execution_count": 26,
   "metadata": {},
   "outputs": [],
   "source": [
    "def sum_zero(arr): \n",
    "    # arr should be sorted \n",
    "    left = 0\n",
    "    right = len(arr)-1\n",
    "    while left < right: # fail safe for one 0=0 that is a false positive\n",
    "        sum = arr[left] + arr[right]\n",
    "        if sum == 0:\n",
    "            return [arr[left],arr[right]]\n",
    "        elif sum < 0:\n",
    "            left += 1\n",
    "        else:\n",
    "            right -= 1\n",
    "    return "
   ]
  },
  {
   "cell_type": "code",
   "execution_count": 27,
   "metadata": {},
   "outputs": [],
   "source": [
    "sum_zero_TEST_CASES = [\n",
    "    ([-3,-2,-1,0,1,2,3],[-3,3]),\n",
    "    ([-2,0,1,3], None),\n",
    "    ([1,2,3], None),\n",
    "]"
   ]
  },
  {
   "cell_type": "code",
   "execution_count": 28,
   "metadata": {},
   "outputs": [],
   "source": [
    "def test_sum_zero(fn, test_cases):\n",
    "    passed = 0\n",
    "    total = len(test_cases)   \n",
    "    for lst,expected in test_cases:\n",
    "        got = fn(lst)\n",
    "        if got == expected:\n",
    "            print(True)\n",
    "            passed += 1\n",
    "        else:\n",
    "            print('input : {}, expected : {} got : {}'.format(\n",
    "                 lst, expected, got))\n",
    "    print(\"passed {} of {} tests.\".format(passed,total))"
   ]
  },
  {
   "cell_type": "code",
   "execution_count": 29,
   "metadata": {},
   "outputs": [
    {
     "name": "stdout",
     "output_type": "stream",
     "text": [
      "True\n",
      "True\n",
      "True\n",
      "passed 3 of 3 tests.\n"
     ]
    }
   ],
   "source": [
    "test_sum_zero(sum_zero, sum_zero_TEST_CASES)"
   ]
  },
  {
   "cell_type": "markdown",
   "metadata": {},
   "source": [
    "Implement a function called count_unique_values, which accepts a sorted array, counts the unique values in the array. There can be negative numbers in the array, but it will always be sorted."
   ]
  },
  {
   "cell_type": "code",
   "execution_count": 33,
   "metadata": {},
   "outputs": [
    {
     "data": {
      "text/plain": [
       "7"
      ]
     },
     "execution_count": 33,
     "metadata": {},
     "output_type": "execute_result"
    }
   ],
   "source": [
    "def count_unique_values(arr): # Linear time because we are only looping once\n",
    "    if not arr: return 0 # short circuit\n",
    "#     counter = 1 # takes the first unique number into consideration\n",
    "    i = 0\n",
    "    for j in range(1,len(arr)): # j is our scout moving forward\n",
    "        if arr[i] != arr[j]: \n",
    "            i += 1\n",
    "            arr[i] = arr[j]\n",
    "    return i + 1 # we want to start at 1 when we are counting\n",
    "\n",
    "# when testing on a whiteboard use tables to demonstrate movement\n",
    "arr = [1, 2, 3, 4, 4, 4, 7, 7, 12, 12, 13]\n",
    "count_unique_values(arr)"
   ]
  },
  {
   "cell_type": "code",
   "execution_count": null,
   "metadata": {},
   "outputs": [],
   "source": [
    "def _count_unique_values(arr): \n",
    "    # you can alter the arr no rule say you cannot\n",
    "    i = 0\n",
    "    j = i + 1 # j is our scout moving forward\n",
    "    while left < right: # fail safe for one 0=0 that is a flase positive\n",
    "        sum = arr[left] + arr[right];\n",
    "        if sum == 0:\n",
    "            return [arr[left],arr[right]]\n",
    "        elif sum < 0:\n",
    "            left += 1\n",
    "        else:\n",
    "            right -= 1\n",
    "    return"
   ]
  },
  {
   "cell_type": "code",
   "execution_count": 34,
   "metadata": {},
   "outputs": [],
   "source": [
    "CUV_TEST_CASES = [\n",
    "    ([], 0),\n",
    "    ([1,1,1,1,1,2],2),\n",
    "    ([-2,-1,-1,0,1],4),\n",
    "    ([1,2,3,4,4,4,7,7,12,12,13], 7),\n",
    "]"
   ]
  },
  {
   "cell_type": "code",
   "execution_count": 35,
   "metadata": {},
   "outputs": [],
   "source": [
    "def test_count_unique_values(fn, test_cases):\n",
    "    passed = 0\n",
    "    total = len(test_cases)   \n",
    "    for lst,expected in test_cases:\n",
    "        got = fn(lst)\n",
    "        if got == expected:\n",
    "            print(True)\n",
    "            passed += 1\n",
    "        else:\n",
    "            print('input : {}, expected : {} got : {}'.format(\n",
    "                 lst, expected, got))\n",
    "    print(\"passed {} of {} tests.\".format(passed,total))"
   ]
  },
  {
   "cell_type": "code",
   "execution_count": 36,
   "metadata": {},
   "outputs": [
    {
     "name": "stdout",
     "output_type": "stream",
     "text": [
      "True\n",
      "True\n",
      "True\n",
      "True\n",
      "passed 4 of 4 tests.\n"
     ]
    }
   ],
   "source": [
    "test_count_unique_values(count_unique_values, CUV_TEST_CASES)"
   ]
  },
  {
   "cell_type": "code",
   "execution_count": null,
   "metadata": {},
   "outputs": [],
   "source": []
  }
 ],
 "metadata": {
  "kernelspec": {
   "display_name": "Python 3",
   "language": "python",
   "name": "python3"
  },
  "language_info": {
   "codemirror_mode": {
    "name": "ipython",
    "version": 3
   },
   "file_extension": ".py",
   "mimetype": "text/x-python",
   "name": "python",
   "nbconvert_exporter": "python",
   "pygments_lexer": "ipython3",
   "version": "3.7.1"
  }
 },
 "nbformat": 4,
 "nbformat_minor": 2
}
