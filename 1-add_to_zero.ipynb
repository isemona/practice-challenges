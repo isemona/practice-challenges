{
 "cells": [
  {
   "cell_type": "code",
   "execution_count": 1,
   "metadata": {},
   "outputs": [],
   "source": [
    "def add_to_zero(lst):\n",
    "    \"\"\"Given list of ints, return True if any two nums sum to 0.\n",
    "    >>> add_to_zero([])\n",
    "    False\n",
    "\n",
    "    >>> add_to_zero([1])\n",
    "    False\n",
    "\n",
    "    >>> add_to_zero([1, 2, 3])\n",
    "    False\n",
    "\n",
    "    >>> add_to_zero([1, 2, 3, -2])\n",
    "    True\n",
    "    \"\"\"\n",
    "\n",
    "    if lst == []:\n",
    "        return False\n",
    "\n",
    "    for i in lst:\n",
    "        if i and -i in lst:\n",
    "            return True\n",
    "\n",
    "    return False\n",
    "\n",
    "\n",
    "\n",
    "if __name__ == \"__main__\":\n",
    "    import doctest\n",
    "    doctest.testmod()\n",
    "    "
   ]
  },
  {
   "cell_type": "code",
   "execution_count": 2,
   "metadata": {},
   "outputs": [
    {
     "data": {
      "text/plain": [
       "True"
      ]
     },
     "execution_count": 2,
     "metadata": {},
     "output_type": "execute_result"
    }
   ],
   "source": [
    "add_to_zero([-2,2,0])"
   ]
  },
  {
   "cell_type": "code",
   "execution_count": null,
   "metadata": {},
   "outputs": [],
   "source": []
  }
 ],
 "metadata": {
  "kernelspec": {
   "display_name": "Python 3",
   "language": "python",
   "name": "python3"
  },
  "language_info": {
   "codemirror_mode": {
    "name": "ipython",
    "version": 3
   },
   "file_extension": ".py",
   "mimetype": "text/x-python",
   "name": "python",
   "nbconvert_exporter": "python",
   "pygments_lexer": "ipython3",
   "version": "3.7.1"
  }
 },
 "nbformat": 4,
 "nbformat_minor": 2
}
