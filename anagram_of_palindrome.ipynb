{
 "cells": [
  {
   "cell_type": "markdown",
   "metadata": {},
   "source": [
    "Is the word an anagram of a palindrome?\n",
    "\n",
    "A palindrome is a word that reads the same forward and backwards (eg, “racecar”, “tacocat”). An anagram is a rescrambling of a word (eg for “racecar”, you could rescramble this as “arceace”).\n",
    "\n",
    "Determine if the given word is a re-scrambling of a palindrome.\n",
    "\n",
    "The word will only contain lowercase letters, a-z.\n",
    "\n"
   ]
  },
  {
   "cell_type": "code",
   "execution_count": 4,
   "metadata": {},
   "outputs": [],
   "source": [
    "def v0_is_anagram_of_palindrome(word): #hb solution\n",
    "    \"\"\"Is the word an anagram of a palindrome?\"\"\"\n",
    "\n",
    "    # START SOLUTION\n",
    "\n",
    "    seen = {}\n",
    "\n",
    "    # Count each letter\n",
    "\n",
    "    for letter in word:\n",
    "        count = seen.get(letter, 0)\n",
    "        seen[letter] = count + 1\n",
    "\n",
    "    # It's a palindrome if the number of odd-counts is either 0 or 1\n",
    "\n",
    "    seen_an_odd = False\n",
    "\n",
    "    for count in seen.values():\n",
    "        if count % 2 != 0:\n",
    "            if seen_an_odd:\n",
    "                return False\n",
    "            seen_an_odd = True\n",
    "\n",
    "    return True"
   ]
  },
  {
   "cell_type": "code",
   "execution_count": 5,
   "metadata": {},
   "outputs": [],
   "source": [
    "def v1_is_anagram_of_palindrome(word):\n",
    "    \"\"\"Is the word an anagram of a palindrome?\"\"\"\n",
    "    #if the length of the word is one it is true\n",
    "    if len(word)==1:\n",
    "        return True\n",
    "    ht = {} #array of letters stored as a hash\n",
    "    for ch in word:\n",
    "        if ch in {word}:\n",
    "            ht[ch] += 1\n",
    "        else:\n",
    "            ht[ch] = 1\n",
    "    count = 0\n",
    "    for key,value in ht.items():\n",
    "        if value%1!=0: #in the end if the value is equal to 2 and at one item = 1 and not greater \n",
    "            return False\n",
    "    return True #if the letter is in the set of words return True"
   ]
  },
  {
   "cell_type": "code",
   "execution_count": 6,
   "metadata": {},
   "outputs": [],
   "source": [
    "def v2_is_anagram_of_palindrome(word):\n",
    "    \"\"\"Is the word an anagram of a palindrome?\"\"\"\n",
    "    #if the length of the word is one it is true\n",
    "    if len(word)==1:\n",
    "        return True\n",
    "    ht = {} #array of letters stored as a hash\n",
    "    for ch in word:\n",
    "        if ch in ht:\n",
    "            ht[ch]+=1\n",
    "        else:\n",
    "            ht[ch]=1\n",
    "    odd_array=[] #store odd values\n",
    "    for key in ht:\n",
    "        if ht[key]%2!=0: \n",
    "            odd_array.append(key)\n",
    "    if len(odd_array)==1 or len(odd_array)==0: #if the size of the odd values is 1\n",
    "        return True\n",
    "    return False"
   ]
  },
  {
   "cell_type": "code",
   "execution_count": 7,
   "metadata": {},
   "outputs": [],
   "source": [
    "def v3_is_anagram_of_palindrome(word): #Mona's working solution\n",
    "    \"\"\"Is the word an anagram of a palindrome?\"\"\"\n",
    "    if len(word)==1:\n",
    "        return True\n",
    "    ht = {} #array of letters stored as a hash\n",
    "    for ch in word:\n",
    "        if ch in ht:\n",
    "            ht[ch]+=1\n",
    "        else:\n",
    "            ht[ch]=1\n",
    "    odd_array=[] #store odd values\n",
    "    for key in ht:\n",
    "        if ht[key]%2!=0: \n",
    "            odd_array.append(str(ht[key]))\n",
    "    sum_odd_nums=sum([int(i) for i in odd_array])\n",
    "    #print(sum_odd_nums)\n",
    "    if len(odd_array)==1 or len(odd_array)==0: #if the size of the odd values is 1 or 0(meaning even)\n",
    "        return True\n",
    "    elif sum_odd_nums%2==0 and sum_odd_nums>2: #the values may be odd but if they are even they match but not ie ab\n",
    "        return True\n",
    "    else:\n",
    "        return False"
   ]
  },
  {
   "cell_type": "code",
   "execution_count": 16,
   "metadata": {},
   "outputs": [],
   "source": [
    "def v4_is_anagram_of_palindrome(word): #improved solution\n",
    "    \"\"\"Is the word an anagram of a palindrome?\"\"\"\n",
    "    ht=defaultdict(int) \n",
    "    for ch in word:\n",
    "        ht[ch]+=1\n",
    "    odd_array=[] \n",
    "    for value in ht.values():\n",
    "        if value%2!=0: \n",
    "            odd_array.append(str(value))\n",
    "    if len(odd_array)==1 or len(odd_array)==0: \n",
    "        return True\n",
    "    else:\n",
    "        return False"
   ]
  },
  {
   "cell_type": "code",
   "execution_count": 21,
   "metadata": {},
   "outputs": [],
   "source": [
    "from collections import defaultdict"
   ]
  },
  {
   "cell_type": "code",
   "execution_count": 22,
   "metadata": {},
   "outputs": [],
   "source": [
    "def is_anagram_of_palindrome(word): #refactored solution\n",
    "    \"\"\"Is the word an anagram of a palindrome?\"\"\"\n",
    "    ht=defaultdict(int) \n",
    "    for ch in word:\n",
    "        ht[ch]+=1\n",
    "    odd_array=[str(value) for value in ht.values() if value%2!=0]\n",
    "    if len(odd_array)==1 or len(odd_array)==0: \n",
    "        return True\n",
    "    return False"
   ]
  },
  {
   "cell_type": "code",
   "execution_count": 23,
   "metadata": {},
   "outputs": [],
   "source": [
    "TEST_CASES = [\n",
    "    (\"a\",True),\n",
    "    (\"aa\",True),\n",
    "    (\"abab\",True),\n",
    "    (\"aaabbb\",False),\n",
    "    (\"ab\",False),\n",
    "    (\"aab\",True),\n",
    "    (\"arceace\",True),\n",
    "    (\"arceaceb\",False),\n",
    "]"
   ]
  },
  {
   "cell_type": "code",
   "execution_count": 24,
   "metadata": {},
   "outputs": [],
   "source": [
    "def test_is_anagram_of_palindrome(test_cases):\n",
    "    passed = 0\n",
    "    total = len(test_cases)   \n",
    "    for test_input,expected in test_cases:\n",
    "        got = is_anagram_of_palindrome(test_input)\n",
    "        if got == expected:\n",
    "            print(True)\n",
    "            passed += 1\n",
    "        else:\n",
    "            print(\"input : {} expected : {} got : {}\".format(\n",
    "                test_input, expected, got))\n",
    "    print(\"passed {} of {} tests.\".format(passed,total))"
   ]
  },
  {
   "cell_type": "code",
   "execution_count": 25,
   "metadata": {},
   "outputs": [
    {
     "name": "stdout",
     "output_type": "stream",
     "text": [
      "True\n",
      "True\n",
      "True\n",
      "True\n",
      "True\n",
      "True\n",
      "True\n",
      "True\n",
      "passed 8 of 8 tests.\n"
     ]
    }
   ],
   "source": [
    "test_is_anagram_of_palindrome(TEST_CASES)"
   ]
  },
  {
   "cell_type": "code",
   "execution_count": null,
   "metadata": {},
   "outputs": [],
   "source": []
  }
 ],
 "metadata": {
  "kernelspec": {
   "display_name": "Python 3",
   "language": "python",
   "name": "python3"
  },
  "language_info": {
   "codemirror_mode": {
    "name": "ipython",
    "version": 3
   },
   "file_extension": ".py",
   "mimetype": "text/x-python",
   "name": "python",
   "nbconvert_exporter": "python",
   "pygments_lexer": "ipython3",
   "version": "3.7.1"
  }
 },
 "nbformat": 4,
 "nbformat_minor": 2
}
