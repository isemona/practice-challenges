{
 "cells": [
  {
   "cell_type": "markdown",
   "metadata": {},
   "source": [
    "Write a function to find the longest common prefix string amongst an array of strings.\n",
    "If there is no common prefix, return an empty string \"\"."
   ]
  },
  {
   "cell_type": "code",
   "execution_count": 1,
   "metadata": {},
   "outputs": [],
   "source": [
    "from collections import Counter\n",
    "\n",
    "def _longestCommonPrefix(lst):\n",
    "    # check for the shortest word and split letters\n",
    "    # check if each letter in items remaining\n",
    "    # if none return empty\n",
    "    \n",
    "    shortest_word = lst[0]\n",
    "    for item in lst:\n",
    "        if len(item) < len(shortest_word):\n",
    "            shortest_word = item\n",
    "    \n",
    "    remaining_list = [item for item in lst if item != shortest_word]\n",
    "    \n",
    "    letters_common = ''\n",
    "    \n",
    "    for item in remaining_list:\n",
    "        for ch in item:\n",
    "            if ch in shortest_word and ch in item:\n",
    "                letters_common += ch\n",
    "    \n",
    "    common = Counter(letters_common)\n",
    "    \n",
    "    common_letters = ''\n",
    "    for key,value in common.items():\n",
    "        if value >= 2:\n",
    "            common_letters += key\n",
    "        \n",
    "    return common_letters"
   ]
  },
  {
   "cell_type": "code",
   "execution_count": null,
   "metadata": {},
   "outputs": [],
   "source": [
    "class BinarySearchNode(object): # using binary search\n",
    "    def __init__(self, data, left=None, right=None):\n",
    "        self.left = left\n",
    "        self.right = right\n",
    "    \n",
    "    def __repr__(self):\n",
    "        \"Reader-friendly representation\"\n",
    "        \n",
    "        return \"<Binary Node {data}>\".format(data=self.data)\n",
    "        "
   ]
  },
  {
   "cell_type": "code",
   "execution_count": null,
   "metadata": {},
   "outputs": [],
   "source": [
    "# Python 3 Program to find the longest common prefix \n",
    "# A Function to find the string having the minimum \n",
    "# length and returns that length \n",
    "\n",
    "def findMinLength(lst):\n",
    "    if len(lst) == 0:\n",
    "        return \"\";\n",
    "    # find the shortest word\n",
    "    minLen = len(min([word for word in lst]))\n",
    "\n",
    "# A Function that returns the longest common prefix \n",
    "# from the array of strings \n",
    "def commonPrefix(lst): \n",
    "    minlen = findMinLength(lst) \n",
    "    result =\"\" \n",
    "    for i in range(minlen): \n",
    "      \n",
    "        # Current character (must be same \n",
    "        # in all strings to be a part of \n",
    "        # result) \n",
    "        current = arr[0][i] \n",
    "   \n",
    "        for j in range(1,minlen-1): \n",
    "            if (arr[j][i] != current): \n",
    "                return result \n",
    "   \n",
    "        # Append to result \n",
    "        result = result+current \n",
    "   \n",
    "    return (result) \n",
    "\n",
    "def longestCommonPrefix(lst):\n",
    "    if len(lst) == 0:\n",
    "        return \"\";\n",
    "    # find the shortest word\n",
    "    minLen = len(min([word for word in lst]))\n",
    "    low = 0\n",
    "    high = minLen-1\n",
    "    prefix = ''\n",
    "    while (low <= high):\n",
    "        middle = (low + high) / 2\n",
    "        if (commonPrefix(lst,middle)):\n",
    "            low = middle + 1;\n",
    "            prefix += low\n",
    "        else:\n",
    "            high = middle - 1;\n",
    "    return prefix"
   ]
  },
  {
   "cell_type": "code",
   "execution_count": 9,
   "metadata": {},
   "outputs": [
    {
     "data": {
      "text/plain": [
       "4"
      ]
     },
     "execution_count": 9,
     "metadata": {},
     "output_type": "execute_result"
    }
   ],
   "source": [
    "def longestCommonPrefix(lst):\n",
    "    if len(lst) == 0:\n",
    "        return \"\";\n",
    "    # find the shortest word\n",
    "    minLen = min([word for word in lst])\n",
    "    return len(minLen)\n",
    "\n",
    "lst = ['geeksforgeeks', 'geeks', 'geek', 'geezer']\n",
    "longestCommonPrefix(lst)"
   ]
  },
  {
   "cell_type": "code",
   "execution_count": 7,
   "metadata": {},
   "outputs": [],
   "source": [
    "LCP_TEST_CASES = [\n",
    "    ([\"flower\",\"flow\",\"flight\"], 'fl'),\n",
    "    ([\"dog\",\"racecar\",\"car\"], ''),\n",
    "    (['rat', 'tar'], '')]"
   ]
  },
  {
   "cell_type": "code",
   "execution_count": 8,
   "metadata": {},
   "outputs": [],
   "source": [
    "def test_longestCommonPrefix(fn, test_cases):\n",
    "    passed = 0\n",
    "    total = len(test_cases)   \n",
    "    for lst,expected in test_cases:\n",
    "        got = fn(lst)\n",
    "        if got == expected:\n",
    "            print(True)\n",
    "            passed += 1\n",
    "        else:\n",
    "            print('input : {}, expected : {} got : {}'.format(\n",
    "                 lst, expected, got))\n",
    "    print(\"passed {} of {} tests.\".format(passed,total))"
   ]
  },
  {
   "cell_type": "code",
   "execution_count": 9,
   "metadata": {},
   "outputs": [
    {
     "name": "stdout",
     "output_type": "stream",
     "text": [
      "True\n",
      "True\n",
      "True\n",
      "passed 3 of 3 tests.\n"
     ]
    }
   ],
   "source": [
    "test_longestCommonPrefix(longestCommonPrefix, LCP_TEST_CASES)"
   ]
  },
  {
   "cell_type": "code",
   "execution_count": null,
   "metadata": {},
   "outputs": [],
   "source": []
  },
  {
   "cell_type": "code",
   "execution_count": null,
   "metadata": {},
   "outputs": [],
   "source": []
  }
 ],
 "metadata": {
  "kernelspec": {
   "display_name": "Python 3",
   "language": "python",
   "name": "python3"
  },
  "language_info": {
   "codemirror_mode": {
    "name": "ipython",
    "version": 3
   },
   "file_extension": ".py",
   "mimetype": "text/x-python",
   "name": "python",
   "nbconvert_exporter": "python",
   "pygments_lexer": "ipython3",
   "version": "3.7.1"
  }
 },
 "nbformat": 4,
 "nbformat_minor": 2
}
