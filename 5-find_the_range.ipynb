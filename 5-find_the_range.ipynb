{
 "cells": [
  {
   "cell_type": "markdown",
   "metadata": {},
   "source": [
    "Given a list of numbers, return the smallest and the largest number.\n"
   ]
  },
  {
   "cell_type": "code",
   "execution_count": 97,
   "metadata": {},
   "outputs": [],
   "source": [
    "def xyzfind_range(nums):\n",
    "    \"\"\"Given list of numbers, return smallest & largest number as a tuple.\"\"\"\n",
    "    largest = 0\n",
    "    smallest = 0\n",
    "    if not nums:\n",
    "        return (None,None)\n",
    "    for i in nums:\n",
    "        if len(nums) < 2:\n",
    "            return (i,i)\n",
    "        elif i > largest:\n",
    "            largest = i\n",
    "        else:\n",
    "            smallest = i #need to compare with smallest\n",
    "    return (smallest, largest)"
   ]
  },
  {
   "cell_type": "code",
   "execution_count": 98,
   "metadata": {},
   "outputs": [
    {
     "data": {
      "text/plain": [
       "(2, 4)"
      ]
     },
     "execution_count": 98,
     "metadata": {},
     "output_type": "execute_result"
    }
   ],
   "source": [
    "xyzfind_range([1,4,3,2])"
   ]
  },
  {
   "cell_type": "code",
   "execution_count": 99,
   "metadata": {},
   "outputs": [],
   "source": [
    "#max(3)"
   ]
  },
  {
   "cell_type": "code",
   "execution_count": 100,
   "metadata": {},
   "outputs": [
    {
     "data": {
      "text/plain": [
       "3"
      ]
     },
     "execution_count": 100,
     "metadata": {},
     "output_type": "execute_result"
    }
   ],
   "source": [
    "my_max([3, 2])"
   ]
  },
  {
   "cell_type": "code",
   "execution_count": 101,
   "metadata": {},
   "outputs": [],
   "source": [
    "def my_max(nums):\n",
    "    if len(nums) == 0:\n",
    "        raise ValueError(\"my_max() arg is an empty sequence\") \n",
    "    largest = nums[0]\n",
    "    for i in nums[1:]:\n",
    "        if i > largest:\n",
    "            largest = i\n",
    "    return largest"
   ]
  },
  {
   "cell_type": "code",
   "execution_count": 102,
   "metadata": {},
   "outputs": [],
   "source": [
    "def my_min(nums):\n",
    "    if len(nums) == 0:\n",
    "        raise ValueError(\"my_min() arg is an empty sequence\") \n",
    "    smallest = nums[0]\n",
    "    for i in nums[1:]:\n",
    "        if i < smallest:\n",
    "            smallest = i\n",
    "    return smallest"
   ]
  },
  {
   "cell_type": "code",
   "execution_count": 103,
   "metadata": {},
   "outputs": [],
   "source": [
    "def old_find_range(nums):\n",
    "    if not nums:\n",
    "        return (None,None)\n",
    "    largest = my_max(nums)\n",
    "    smallest = my_min(nums)\n",
    "    return (smallest,largest)"
   ]
  },
  {
   "cell_type": "code",
   "execution_count": 104,
   "metadata": {},
   "outputs": [],
   "source": [
    "def find_range(nums):\n",
    "    if len(nums) == 0:\n",
    "        return (None,None)\n",
    "    largest = nums[0]\n",
    "    smallest = nums[0]\n",
    "    for i in nums[1:]:\n",
    "        if i > largest:\n",
    "            largest = i\n",
    "        elif i < smallest:\n",
    "            smallest = i\n",
    "    return (smallest,largest)"
   ]
  },
  {
   "cell_type": "code",
   "execution_count": 105,
   "metadata": {},
   "outputs": [],
   "source": [
    "TEST_CASES = [\n",
    "    ([], (None, None)),\n",
    "    ([7], (7, 7)),\n",
    "    ([-3, -3], (-3, -3)),\n",
    "    ([1, 2, 3, 4], (1, 4)),\n",
    "    ([3, 4, 2, 5, 10], (2, 10)),\n",
    "    ([43, 3, 44, 20, 2, 1, 100], (1, 100)),\n",
    "]"
   ]
  },
  {
   "cell_type": "code",
   "execution_count": 106,
   "metadata": {},
   "outputs": [],
   "source": [
    "def test_find_range(test_cases):\n",
    "    passed = 0\n",
    "    total = len(test_cases)   \n",
    "    for test_input,expected in test_cases:\n",
    "        got = find_range(test_input)\n",
    "        if got == expected:\n",
    "            print(True)\n",
    "            passed += 1\n",
    "        else:\n",
    "            print('input : {} expected : {} got : {}'.format(\n",
    "                test_input, expected, got))\n",
    "    print(\"passed {} of {} tests.\".format(passed,total))"
   ]
  },
  {
   "cell_type": "code",
   "execution_count": 107,
   "metadata": {},
   "outputs": [
    {
     "data": {
      "text/plain": [
       "(2, 10)"
      ]
     },
     "execution_count": 107,
     "metadata": {},
     "output_type": "execute_result"
    }
   ],
   "source": [
    "find_range([3, 4, 2, 5, 10])"
   ]
  },
  {
   "cell_type": "code",
   "execution_count": 108,
   "metadata": {},
   "outputs": [
    {
     "name": "stdout",
     "output_type": "stream",
     "text": [
      "True\n",
      "True\n",
      "True\n",
      "True\n",
      "True\n",
      "True\n",
      "passed 6 of 6 tests.\n"
     ]
    }
   ],
   "source": [
    "test_find_range(TEST_CASES)"
   ]
  },
  {
   "cell_type": "code",
   "execution_count": 109,
   "metadata": {},
   "outputs": [
    {
     "data": {
      "text/plain": [
       "(1, 2)"
      ]
     },
     "execution_count": 109,
     "metadata": {},
     "output_type": "execute_result"
    }
   ],
   "source": [
    "def foo():\n",
    "    return (1,2)\n",
    "\n",
    "foo()"
   ]
  }
 ],
 "metadata": {
  "kernelspec": {
   "display_name": "Python 3",
   "language": "python",
   "name": "python3"
  },
  "language_info": {
   "codemirror_mode": {
    "name": "ipython",
    "version": 3
   },
   "file_extension": ".py",
   "mimetype": "text/x-python",
   "name": "python",
   "nbconvert_exporter": "python",
   "pygments_lexer": "ipython3",
   "version": "3.7.1"
  }
 },
 "nbformat": 4,
 "nbformat_minor": 2
}
