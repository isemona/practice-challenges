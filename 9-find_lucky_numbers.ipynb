{
 "cells": [
  {
   "cell_type": "markdown",
   "metadata": {},
   "source": [
    "Find Lucky Numbers\n"
   ]
  },
  {
   "cell_type": "markdown",
   "metadata": {},
   "source": [
    "Given an integer n, return a list containing n unique random numbers between 1-10, inclusive. (That is, do not repeat any numbers in the returned list.)\n",
    "\n",
    "You can trust that this function will never be called with n < 0 or n > 10.\n"
   ]
  },
  {
   "cell_type": "code",
   "execution_count": 33,
   "metadata": {},
   "outputs": [],
   "source": [
    "#import random \n",
    "def lucky_numbers(n):\n",
    "    \"\"\"Return n unique random numbers from 1-10 (inclusive).\"\"\"\n",
    "    \n",
    "    for i in range(n):\n",
    "        print(random.randint(0,10))\n",
    "    "
   ]
  },
  {
   "cell_type": "code",
   "execution_count": 34,
   "metadata": {},
   "outputs": [
    {
     "name": "stdout",
     "output_type": "stream",
     "text": [
      "6\n",
      "1\n",
      "8\n",
      "2\n"
     ]
    }
   ],
   "source": [
    "lucky_numbers(4)"
   ]
  },
  {
   "cell_type": "code",
   "execution_count": 35,
   "metadata": {},
   "outputs": [],
   "source": [
    "TEST_CASES = [\n",
    "    (0, ([])),\n",
    "    (2, (3,7)),\n",
    "    (10, (1,2,3,4,5,6,7,8,9,10)),\n",
    "]"
   ]
  },
  {
   "cell_type": "code",
   "execution_count": 36,
   "metadata": {},
   "outputs": [],
   "source": [
    "def test_lucky_numbers(test_cases):\n",
    "    passed = 0\n",
    "    total = len(test_cases)   \n",
    "    for test_input,expected in test_cases:\n",
    "        got = lucky_numbers(test_input)\n",
    "        if got == expected:\n",
    "            print(True)\n",
    "            passed += 1\n",
    "        else:\n",
    "            print('input : {} expected : {} got : {}'.format(\n",
    "                test_input, expected, got))\n",
    "    print(\"passed {} of {} tests.\".format(passed,total))"
   ]
  },
  {
   "cell_type": "code",
   "execution_count": 37,
   "metadata": {},
   "outputs": [
    {
     "name": "stdout",
     "output_type": "stream",
     "text": [
      "input : 0 expected : [] got : None\n",
      "0\n",
      "3\n",
      "input : 2 expected : (3, 7) got : None\n",
      "1\n",
      "2\n",
      "5\n",
      "5\n",
      "10\n",
      "8\n",
      "3\n",
      "8\n",
      "0\n",
      "5\n",
      "input : 10 expected : (1, 2, 3, 4, 5, 6, 7, 8, 9, 10) got : None\n",
      "passed 0 of 3 tests.\n"
     ]
    }
   ],
   "source": [
    "test_lucky_numbers(TEST_CASES)"
   ]
  }
 ],
 "metadata": {
  "kernelspec": {
   "display_name": "Python 3",
   "language": "python",
   "name": "python3"
  },
  "language_info": {
   "codemirror_mode": {
    "name": "ipython",
    "version": 3
   },
   "file_extension": ".py",
   "mimetype": "text/x-python",
   "name": "python",
   "nbconvert_exporter": "python",
   "pygments_lexer": "ipython3",
   "version": "3.7.1"
  }
 },
 "nbformat": 4,
 "nbformat_minor": 2
}
