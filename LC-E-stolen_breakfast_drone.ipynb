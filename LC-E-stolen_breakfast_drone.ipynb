{
 "cells": [
  {
   "cell_type": "markdown",
   "metadata": {},
   "source": [
    "Your company delivers breakfast via autonomous quadcopter drones. And something mysterious has happened.\n",
    "\n",
    "Each breakfast delivery is assigned a unique ID, a positive integer. When one of the company's 100 drones takes off with a delivery, the delivery's ID is added to a list, delivery_id_confirmations. When the drone comes back and lands, the ID is again added to the same list.\n",
    "\n",
    "After breakfast this morning there were only 99 drones on the tarmac. One of the drones never made it back from a delivery. We suspect a secret agent from Amazon placed an order and stole one of our patented drones. To track them down, we need to find their delivery ID.\n",
    "\n",
    "Given the list of IDs, which contains many duplicate integers and one unique integer, find the unique integer.\n"
   ]
  },
  {
   "cell_type": "code",
   "execution_count": 14,
   "metadata": {},
   "outputs": [],
   "source": [
    "import unittest\n",
    "\n",
    "def _find_unique_delivery_id(delivery_ids): #naive solution\n",
    "\n",
    "    # Find the one unique ID in the list\n",
    "    # create a dictionary of keys for each delivery id \n",
    "    \n",
    "    # iterate through each key/value to see\n",
    "    # if the id contains a value = 1 return that key\n",
    "    \n",
    "    ht = {}\n",
    "    for i in delivery_ids:\n",
    "        ht[i] = ht.get(i, 0) + 1\n",
    "    for key,value in ht.items():\n",
    "        if value==1:\n",
    "            return key\n",
    "    return None"
   ]
  },
  {
   "cell_type": "code",
   "execution_count": 19,
   "metadata": {},
   "outputs": [],
   "source": [
    "import unittest\n",
    "import collections\n",
    "\n",
    "def _find_unique_delivery_id(delivery_ids): #compact solution\n",
    "    \n",
    "    ht = collections.Counter(delivery_ids)\n",
    "    for key,value in ht.items():\n",
    "        if value==1:\n",
    "            return key\n",
    "    return None"
   ]
  },
  {
   "cell_type": "code",
   "execution_count": 20,
   "metadata": {},
   "outputs": [],
   "source": [
    "TEST_CASES = [\n",
    "    ([1],1),\n",
    "    ([1, 2, 2],1),\n",
    "    ([3, 3, 2, 2, 1],1),\n",
    "    ([3, 2, 1, 2, 3],1),\n",
    "    ([2, 5, 4, 8, 6, 3, 1, 4, 2, 3, 6, 5, 1],8),\n",
    "]"
   ]
  },
  {
   "cell_type": "code",
   "execution_count": 21,
   "metadata": {},
   "outputs": [],
   "source": [
    "def test_find_unique_delivery_id(test_cases):\n",
    "    passed = 0\n",
    "    total = len(test_cases)   \n",
    "    for test_input,expected in test_cases:\n",
    "        got = find_unique_delivery_id(test_input)\n",
    "        if got == expected:\n",
    "            print(True)\n",
    "            passed += 1\n",
    "        else:\n",
    "            print(\"input : {} expected : {} got : {}\".format(\n",
    "                test_input, expected, got))\n",
    "    print(\"passed {} of {} tests.\".format(passed,total))"
   ]
  },
  {
   "cell_type": "code",
   "execution_count": 22,
   "metadata": {},
   "outputs": [
    {
     "name": "stdout",
     "output_type": "stream",
     "text": [
      "True\n",
      "True\n",
      "True\n",
      "True\n",
      "True\n",
      "passed 5 of 5 tests.\n"
     ]
    }
   ],
   "source": [
    "test_find_unique_delivery_id(TEST_CASES)"
   ]
  },
  {
   "cell_type": "code",
   "execution_count": 23,
   "metadata": {},
   "outputs": [],
   "source": [
    "# # Tests\n",
    "\n",
    "# class Test(unittest.TestCase):\n",
    "\n",
    "#     def test_one_drone(self):\n",
    "#         actual = find_unique_delivery_id([1])\n",
    "#         expected = 1\n",
    "#         self.assertEqual(actual, expected)\n",
    "\n",
    "#     def test_unique_id_comes_first(self):\n",
    "#         actual = find_unique_delivery_id([1, 2, 2])\n",
    "#         expected = 1\n",
    "#         self.assertEqual(actual, expected)\n",
    "\n",
    "#     def test_unique_id_comes_last(self):\n",
    "#         actual = find_unique_delivery_id([3, 3, 2, 2, 1])\n",
    "#         expected = 1\n",
    "#         self.assertEqual(actual, expected)\n",
    "\n",
    "#     def test_unique_id_in_middle(self):\n",
    "#         actual = find_unique_delivery_id([3, 2, 1, 2, 3])\n",
    "#         expected = 1\n",
    "#         self.assertEqual(actual, expected)\n",
    "\n",
    "#     def test_many_drones(self):\n",
    "#         actual = find_unique_delivery_id([2, 5, 4, 8, 6, 3, 1, 4, 2, 3, 6, 5, 1])\n",
    "#         expected = 8\n",
    "#         self.assertEqual(actual, expected)\n",
    "\n",
    "\n",
    "# unittest.main(verbosity=2)"
   ]
  }
 ],
 "metadata": {
  "kernelspec": {
   "display_name": "Python 3",
   "language": "python",
   "name": "python3"
  },
  "language_info": {
   "codemirror_mode": {
    "name": "ipython",
    "version": 3
   },
   "file_extension": ".py",
   "mimetype": "text/x-python",
   "name": "python",
   "nbconvert_exporter": "python",
   "pygments_lexer": "ipython3",
   "version": "3.7.1"
  }
 },
 "nbformat": 4,
 "nbformat_minor": 2
}
