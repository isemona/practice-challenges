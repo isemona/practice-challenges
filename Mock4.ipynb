{
 "cells": [
  {
   "cell_type": "markdown",
   "metadata": {},
   "source": [
    "# given an array of numbers, replace each even num with two of the same\n",
    "\n",
    "[2,1,4,1,3] -> [2,2,1,4,4,1,3]\n",
    "\n",
    "[2,1,4,1,3,-1,-1] -> [2,2,1,4,4,1,3] space constant O(1)"
   ]
  },
  {
   "cell_type": "code",
   "execution_count": 12,
   "metadata": {},
   "outputs": [
    {
     "data": {
      "text/plain": [
       "[2, 2, 1, 4, 4, 1, 3]"
      ]
     },
     "execution_count": 12,
     "metadata": {},
     "output_type": "execute_result"
    }
   ],
   "source": [
    "def replace_evens(arr):\n",
    "    # in is an arr, out is a new arr\n",
    "    # 0 are considered even \n",
    "    # iterating through the array to look for even numbers\n",
    "    # create new array to hold the duplicate numbers\n",
    "    # if it is even append that number to the new list \n",
    "    # continue else append\n",
    "    new_arr = []\n",
    "    for x in range(len(arr),):\n",
    "        if arr[x]%2 == 0:\n",
    "            new_arr.append(arr[x])\n",
    "        new_arr.append(arr[x])\n",
    "    return new_arr\n",
    "\n",
    "arr = [2,1,4,1,3]\n",
    "replace_evens(arr)\n",
    "\n",
    "# time o(n)\n",
    "# space o(n)\n",
    "# input is null, empty array, clarify"
   ]
  },
  {
   "cell_type": "code",
   "execution_count": 14,
   "metadata": {},
   "outputs": [
    {
     "ename": "AttributeError",
     "evalue": "'list' object has no attribute 'replace'",
     "output_type": "error",
     "traceback": [
      "\u001b[0;31m---------------------------------------------------------------------------\u001b[0m",
      "\u001b[0;31mAttributeError\u001b[0m                            Traceback (most recent call last)",
      "\u001b[0;32m<ipython-input-14-735fc99a6d48>\u001b[0m in \u001b[0;36m<module>\u001b[0;34m\u001b[0m\n\u001b[1;32m     13\u001b[0m \u001b[0;34m\u001b[0m\u001b[0m\n\u001b[1;32m     14\u001b[0m \u001b[0marr\u001b[0m \u001b[0;34m=\u001b[0m \u001b[0;34m[\u001b[0m\u001b[0;36m2\u001b[0m\u001b[0;34m,\u001b[0m\u001b[0;36m1\u001b[0m\u001b[0;34m,\u001b[0m\u001b[0;36m4\u001b[0m\u001b[0;34m,\u001b[0m\u001b[0;36m1\u001b[0m\u001b[0;34m,\u001b[0m\u001b[0;36m3\u001b[0m\u001b[0;34m]\u001b[0m\u001b[0;34m\u001b[0m\u001b[0;34m\u001b[0m\u001b[0m\n\u001b[0;32m---> 15\u001b[0;31m \u001b[0mreplace_evens\u001b[0m\u001b[0;34m(\u001b[0m\u001b[0marr\u001b[0m\u001b[0;34m)\u001b[0m\u001b[0;34m\u001b[0m\u001b[0;34m\u001b[0m\u001b[0m\n\u001b[0m",
      "\u001b[0;32m<ipython-input-14-735fc99a6d48>\u001b[0m in \u001b[0;36mreplace_evens\u001b[0;34m(arr)\u001b[0m\n\u001b[1;32m      8\u001b[0m     \u001b[0;32mfor\u001b[0m \u001b[0mx\u001b[0m \u001b[0;32min\u001b[0m \u001b[0mrange\u001b[0m\u001b[0;34m(\u001b[0m\u001b[0mlen\u001b[0m\u001b[0;34m(\u001b[0m\u001b[0marr\u001b[0m\u001b[0;34m)\u001b[0m\u001b[0;34m)\u001b[0m\u001b[0;34m:\u001b[0m\u001b[0;34m\u001b[0m\u001b[0;34m\u001b[0m\u001b[0m\n\u001b[1;32m      9\u001b[0m         \u001b[0;32mif\u001b[0m \u001b[0marr\u001b[0m\u001b[0;34m[\u001b[0m\u001b[0mx\u001b[0m\u001b[0;34m]\u001b[0m\u001b[0;34m%\u001b[0m\u001b[0;36m2\u001b[0m \u001b[0;34m==\u001b[0m \u001b[0;36m0\u001b[0m\u001b[0;34m:\u001b[0m\u001b[0;34m\u001b[0m\u001b[0;34m\u001b[0m\u001b[0m\n\u001b[0;32m---> 10\u001b[0;31m             \u001b[0marr\u001b[0m\u001b[0;34m.\u001b[0m\u001b[0mreplace\u001b[0m\u001b[0;34m(\u001b[0m\u001b[0marr\u001b[0m\u001b[0;34m[\u001b[0m\u001b[0mx\u001b[0m\u001b[0;34m]\u001b[0m\u001b[0;34m,\u001b[0m\u001b[0marr\u001b[0m\u001b[0;34m[\u001b[0m\u001b[0mx\u001b[0m\u001b[0;34m]\u001b[0m\u001b[0;34m)\u001b[0m\u001b[0;34m\u001b[0m\u001b[0;34m\u001b[0m\u001b[0m\n\u001b[0m\u001b[1;32m     11\u001b[0m         \u001b[0marr\u001b[0m\u001b[0;34m.\u001b[0m\u001b[0mappend\u001b[0m\u001b[0;34m(\u001b[0m\u001b[0marr\u001b[0m\u001b[0;34m[\u001b[0m\u001b[0mx\u001b[0m\u001b[0;34m]\u001b[0m\u001b[0;34m)\u001b[0m\u001b[0;34m\u001b[0m\u001b[0;34m\u001b[0m\u001b[0m\n\u001b[1;32m     12\u001b[0m     \u001b[0;32mreturn\u001b[0m \u001b[0marr\u001b[0m\u001b[0;34m\u001b[0m\u001b[0;34m\u001b[0m\u001b[0m\n",
      "\u001b[0;31mAttributeError\u001b[0m: 'list' object has no attribute 'replace'"
     ]
    }
   ],
   "source": [
    "def replace_evens(arr):\n",
    "    # in is an arr, out is a new arr\n",
    "    # 0 are considered even \n",
    "    # iterating through the array to look for even numbers\n",
    "    # create new array to hold the duplicate numbers\n",
    "    # if it is even append that number to the new list \n",
    "    # continue else append\n",
    "    for x in range(len(arr)):\n",
    "        if arr[x]%2 == 0:\n",
    "            arr.append(arr[x])\n",
    "        arr.append(arr[x])\n",
    "    return arr\n",
    "\n",
    "arr = [2,1,4,1,3]\n",
    "replace_evens(arr)"
   ]
  },
  {
   "cell_type": "markdown",
   "metadata": {},
   "source": [
    "# reverse an arr\n",
    "empty return empty arr\n",
    "reverse order"
   ]
  },
  {
   "cell_type": "code",
   "execution_count": 23,
   "metadata": {},
   "outputs": [
    {
     "data": {
      "text/plain": [
       "['c', 'b', 'a']"
      ]
     },
     "execution_count": 23,
     "metadata": {},
     "output_type": "execute_result"
    }
   ],
   "source": [
    "def reverse_arr(arr):\n",
    "    new_arr = []\n",
    "    # loop through arr\n",
    "    # pop \n",
    "    for x in range(len(arr)):\n",
    "        ch = arr.pop()\n",
    "        new_arr.append(ch)\n",
    "    return new_arr\n",
    "\n",
    "arr = [] # return []\n",
    "arr = [1,2,3] # [3,2,1]\n",
    "arr = ['a','b','c'] # ['c','b','a']\n",
    "reverse_arr(arr)\n",
    "\n",
    "# time O(n)\n",
    "# space O(n)"
   ]
  },
  {
   "cell_type": "code",
   "execution_count": 41,
   "metadata": {},
   "outputs": [
    {
     "name": "stdout",
     "output_type": "stream",
     "text": [
      "[]\n",
      "[3, 2, 1]\n",
      "['c', 'b', 'a']\n"
     ]
    }
   ],
   "source": [
    "def reverse_arr(arr):\n",
    "    if arr is None or len(arr)==0:\n",
    "        return []\n",
    "    i = 0\n",
    "    j = len(arr)-1\n",
    "    while i!=j:\n",
    "        arr[i], arr[j] = arr[j], arr[i]\n",
    "        i+=1\n",
    "        j-=1\n",
    "    return arr\n",
    "arr_1 = [] # return []\n",
    "arr_2 = [1,2,3] # [3,2,1]\n",
    "arr_3 = ['a','b','c'] # ['c','b','a']\n",
    "print(reverse_arr(arr_1))\n",
    "print(reverse_arr(arr_2))  \n",
    "print(reverse_arr(arr_3))  \n",
    "\n",
    "# if arr is None or arr != []"
   ]
  },
  {
   "cell_type": "code",
   "execution_count": 39,
   "metadata": {},
   "outputs": [
    {
     "name": "stdout",
     "output_type": "stream",
     "text": [
      "blah blah\n"
     ]
    }
   ],
   "source": [
    "arr = None\n",
    "# if len(arr)==0 or arr is None:\n",
    "#     print('blah blah')\n",
    "if arr is None or len(arr)==0:\n",
    "    print('blah blah')"
   ]
  },
  {
   "cell_type": "markdown",
   "metadata": {},
   "source": []
  },
  {
   "cell_type": "code",
   "execution_count": null,
   "metadata": {},
   "outputs": [],
   "source": []
  }
 ],
 "metadata": {
  "kernelspec": {
   "display_name": "Python 3",
   "language": "python",
   "name": "python3"
  },
  "language_info": {
   "codemirror_mode": {
    "name": "ipython",
    "version": 3
   },
   "file_extension": ".py",
   "mimetype": "text/x-python",
   "name": "python",
   "nbconvert_exporter": "python",
   "pygments_lexer": "ipython3",
   "version": "3.7.1"
  }
 },
 "nbformat": 4,
 "nbformat_minor": 2
}
