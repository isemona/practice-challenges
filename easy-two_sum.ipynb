{
 "cells": [
  {
   "cell_type": "code",
   "execution_count": 1,
   "metadata": {},
   "outputs": [],
   "source": [
    "# Given an array of integers, return indices of the two numbers such that they add up to a specific target.\n",
    "\n",
    "# You may assume that each input would have exactly one solution, and you may not use the same element twice.\n",
    "\n",
    "# Example:\n",
    "\n",
    "# Given nums = [2, 7, 11, 15], target = 9,\n",
    "\n",
    "# Because nums[0] + nums[1] = 2 + 7 = 9,\n",
    "# return [0, 1].\n",
    "\n"
   ]
  },
  {
   "cell_type": "code",
   "execution_count": 2,
   "metadata": {},
   "outputs": [],
   "source": [
    "def twoSum(nums, target):\n",
    "    \"\"\"\n",
    "    :type nums: List[int]\n",
    "    :type target: int\n",
    "    :rtype: List[int]\n",
    "    \"\"\"\n",
    "    \n",
    "    #input array argument \n",
    "    #array of indices that equal to the target\n",
    "    \n",
    "    # twoSum([1,2], 4) \n",
    "    # >>> None\n",
    "    # twoSum([2, 7, 11,15], 9)\n",
    "    # >>>[0,1]\n",
    "    \n",
    "    \n",
    "    #use hash table to {} add numbers to \n",
    "    #9-2 = 7, 9-7= ,\n",
    "    ht = {}\n",
    "    \n",
    "    for i in range(len(nums)): \n",
    "#         num[i] the integers\n",
    "#         i = indices\n",
    "#         target - num[i] = value matches the targe when add to num[i]\n",
    "        if target - nums[i] not in ht:\n",
    "            ht[nums[i]] = i\n",
    "        else:\n",
    "            return list(nums[i])\n",
    "#         {2:0, }    \n",
    "#         ht{2} = 0\n",
    "#         ht{7} = 1\n",
    "        else return list(ht[target - nums[i]], i)\n",
    "    \n",
    "    #append the indices of those values \n",
    "#     array = []\n",
    "    \n",
    "    #iteration using range\n",
    "#     for i in range(len(nums)): # linear O(n)\n",
    "#         value = target - nums[i] # O(1)\n",
    "#         if value in nums: # linear 0(n)\n",
    "#             array.append(i) # 0(1) \n",
    "    \n",
    "#     return array\n",
    "\n",
    "        \n"
   ]
  },
  {
   "cell_type": "code",
   "execution_count": null,
   "metadata": {},
   "outputs": [],
   "source": [
    "nums = [2, 7, 11,15]\n",
    "target = 9\n",
    "twoSum(nums, target)"
   ]
  },
  {
   "cell_type": "code",
   "execution_count": null,
   "metadata": {},
   "outputs": [],
   "source": [
    "class Solution: #alternative solution using classes\n",
    "    def twoSum(self, nums: List[int], target: int) -> List[int]:\n",
    "        \n",
    "        ht = {}\n",
    "        new_list = []\n",
    "        for i in range(len(nums)): \n",
    "            if target - nums[i] not in ht:\n",
    "                ht[nums[i]] = i\n",
    "            else:\n",
    "                new_list.append(ht[target - nums[i]])\n",
    "                new_list.append(i)\n",
    "        return new_list"
   ]
  }
 ],
 "metadata": {
  "kernelspec": {
   "display_name": "Python 3",
   "language": "python",
   "name": "python3"
  },
  "language_info": {
   "codemirror_mode": {
    "name": "ipython",
    "version": 3
   },
   "file_extension": ".py",
   "mimetype": "text/x-python",
   "name": "python",
   "nbconvert_exporter": "python",
   "pygments_lexer": "ipython3",
   "version": "3.7.1"
  }
 },
 "nbformat": 4,
 "nbformat_minor": 2
}
