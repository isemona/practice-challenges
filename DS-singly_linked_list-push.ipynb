{
 "cells": [
  {
   "cell_type": "markdown",
   "metadata": {},
   "source": [
    "This function should accept a value.\n",
    "Create a new node using the value passed to the function.\n",
    "If there is no head property on the list, set the head and tail to be the newly created node.\n",
    "Otherwise set the next property on the tail to be the new node and set the tail property on the list to be the newly created node.\n",
    "Increment the length by one."
   ]
  },
  {
   "cell_type": "code",
   "execution_count": null,
   "metadata": {},
   "outputs": [],
   "source": [
    "// piece of data - val\n",
    "//reference to next node - next\n",
    "\n",
    "class Node{\n",
    "    constructor(val){\n",
    "        this.val = val;\n",
    "        this.next = null;\n",
    "    }\n",
    "}\n",
    "\n",
    "class SinglyLinkedList{\n",
    "    constructor(){\n",
    "        this.head = null;\n",
    "        this.tail = null;\n",
    "        this.length = 0;\n",
    "    }\n",
    "    push(val){\n",
    "        \n",
    "    }\n",
    "}\n",
    "\n",
    "// var first = new Node(\"Hi\")\n",
    "// first.next = new Node(\"there\")\n",
    "// first.next.next = new Node(\"how\")\n",
    "// first.next.next.next = new Node(\"are\")\n",
    "// first.next.next.next.next = new Node(\"you\")\n",
    "\n",
    "var list = new SinglyLinkedList()\n",
    "list.push(\"HELLO\")\n",
    "list.push(\"GOODBYE\")\n",
    "\n",
    "\n"
   ]
  },
  {
   "cell_type": "code",
   "execution_count": 23,
   "metadata": {},
   "outputs": [],
   "source": [
    "class ListNode:\n",
    "    \"\"\"\n",
    "    A node in a singly-linked list.\n",
    "    \"\"\"\n",
    "    def __init__(self, data=None, next=None):\n",
    "        self.data = data\n",
    "        self.next = next # tail\n",
    "        \n",
    "\n",
    "    def __repr__(self):\n",
    "        return repr(self.data)\n",
    "\n",
    "\n",
    "class SinglyLinkedList:\n",
    "    def __init__(self):\n",
    "        \"\"\"\n",
    "        Create a new singly-linked list.\n",
    "        Takes O(1) time.\n",
    "        \"\"\"\n",
    "        self.head = None\n",
    "        self.tail = None\n",
    "        self.length = 0\n",
    "\n",
    "    def __repr__(self):\n",
    "        \"\"\"\n",
    "        Return a string representation of the list.\n",
    "        Takes O(n) time.\n",
    "        \"\"\"\n",
    "        nodes = []\n",
    "        curr = self.head\n",
    "        while curr:\n",
    "            nodes.append(repr(curr))\n",
    "            curr = curr.next\n",
    "        return '[' + ', '.join(nodes) + ']'\n",
    "\n",
    "    \n",
    "    \n",
    "    def push(self, data):\n",
    "        if not self.head: # edge case if it is empty\n",
    "            self.head = ListNode(data=data)\n",
    "            self.tail = self.head\n",
    "        else:\n",
    "            self.tail.next = ListNode # next property to new node \n",
    "            self.tail = ListNode # tail property to new node\n",
    "        self.length += 1 # increment length by 1\n",
    "        return\n",
    "            \n",
    "# Dan Bader's way wherein he adds data=data not data=None        \n",
    "#     def push(self, data):\n",
    "#         \"\"\"\n",
    "#         Insert a new element at the end of the list.\n",
    "#         Takes O(n) time.\n",
    "#         \"\"\"\n",
    "#         if not self.head: # if the list is empty\n",
    "#             self.head = ListNode(data=data)\n",
    "#             self.tail = self.head\n",
    "#             return\n",
    "#         curr = self.head # pointer\n",
    "#         while curr.next:\n",
    "#             curr = curr.next # repoint\n",
    "#         curr.next = ListNode(data=data) # set next prop to new node\n",
    "#         self.length+=1 # increment length by 1\n"
   ]
  },
  {
   "cell_type": "code",
   "execution_count": 24,
   "metadata": {},
   "outputs": [],
   "source": [
    "lst = SinglyLinkedList()"
   ]
  },
  {
   "cell_type": "code",
   "execution_count": 25,
   "metadata": {},
   "outputs": [
    {
     "data": {
      "text/plain": [
       "2"
      ]
     },
     "execution_count": 25,
     "metadata": {},
     "output_type": "execute_result"
    }
   ],
   "source": [
    "lst.push('the')\n",
    "lst.push('end')\n",
    "lst.length"
   ]
  },
  {
   "cell_type": "code",
   "execution_count": 26,
   "metadata": {},
   "outputs": [
    {
     "data": {
      "text/plain": [
       "'the'"
      ]
     },
     "execution_count": 26,
     "metadata": {},
     "output_type": "execute_result"
    }
   ],
   "source": [
    "lst.head"
   ]
  },
  {
   "cell_type": "code",
   "execution_count": 27,
   "metadata": {},
   "outputs": [
    {
     "data": {
      "text/plain": [
       "__main__.ListNode"
      ]
     },
     "execution_count": 27,
     "metadata": {},
     "output_type": "execute_result"
    }
   ],
   "source": [
    "lst.tail"
   ]
  },
  {
   "cell_type": "code",
   "execution_count": null,
   "metadata": {},
   "outputs": [],
   "source": []
  }
 ],
 "metadata": {
  "kernelspec": {
   "display_name": "Python 3",
   "language": "python",
   "name": "python3"
  },
  "language_info": {
   "codemirror_mode": {
    "name": "ipython",
    "version": 3
   },
   "file_extension": ".py",
   "mimetype": "text/x-python",
   "name": "python",
   "nbconvert_exporter": "python",
   "pygments_lexer": "ipython3",
   "version": "3.7.1"
  }
 },
 "nbformat": 4,
 "nbformat_minor": 2
}
