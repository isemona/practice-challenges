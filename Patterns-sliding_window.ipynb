{
 "cells": [
  {
   "cell_type": "markdown",
   "metadata": {},
   "source": [
    "Find the longest sequence of unique characters."
   ]
  },
  {
   "cell_type": "code",
   "execution_count": 68,
   "metadata": {},
   "outputs": [],
   "source": [
    "def findLongestString(word,n):\n",
    "    # word must not have duplicate letters\n",
    "    longestWord=''\n",
    "    tempWord=''\n",
    "    for i in range(len(word)):\n",
    "        if i<n:\n",
    "            longestWord += word[i]\n",
    "    tempWord=longestWord\n",
    "    for i in range(n,len(word)):\n",
    "        tempWord = tempWord - word[i-n] + word[i]\n",
    "        \n",
    "        longestWord = "
   ]
  },
  {
   "cell_type": "code",
   "execution_count": 69,
   "metadata": {},
   "outputs": [],
   "source": [
    "FLS_TEST_CASES = [\n",
    "    (('',3), None))\n",
    "    (('hellothere',3), 'hel'))\n",
    "]"
   ]
  },
  {
   "cell_type": "code",
   "execution_count": 70,
   "metadata": {},
   "outputs": [],
   "source": [
    "def test_findLongestString(fn, test_cases):\n",
    "    passed = 0\n",
    "    total = len(test_cases)   \n",
    "    for lst,expected in test_cases:\n",
    "        got = fn(lst)\n",
    "        if got == expected:\n",
    "            print(True)\n",
    "            passed += 1\n",
    "        else:\n",
    "            print('input : {}, expected : {} got : {}'.format(\n",
    "                 lst, expected, got))\n",
    "    print(\"passed {} of {} tests.\".format(passed,total))"
   ]
  },
  {
   "cell_type": "code",
   "execution_count": 71,
   "metadata": {},
   "outputs": [
    {
     "name": "stdout",
     "output_type": "stream",
     "text": [
      "True\n",
      "True\n",
      "passed 2 of 2 tests.\n"
     ]
    }
   ],
   "source": [
    "test_findLongestString(findLongestString, FLS_TEST_CASES)"
   ]
  },
  {
   "cell_type": "markdown",
   "metadata": {},
   "source": [
    "Write a function called maxSubarraySum which accepts an array of integers and a number called n. The function should calculate the maximum sum of n consecutive elements in the array."
   ]
  },
  {
   "cell_type": "code",
   "execution_count": 34,
   "metadata": {},
   "outputs": [
    {
     "data": {
      "text/plain": [
       "6"
      ]
     },
     "execution_count": 34,
     "metadata": {},
     "output_type": "execute_result"
    }
   ],
   "source": [
    "def maxSubarraySum(lst,n):\n",
    "    maxSum = 0\n",
    "    tempSum = 0\n",
    "    if n>len(lst): return None # if lst is invalid\n",
    "    for i in range(len(lst)):\n",
    "        if i<n:\n",
    "            maxSum += lst[i]\n",
    "    tempSum=maxSum\n",
    "    for i in range(n,len(lst)): # i starting at n\n",
    "        tempSum = tempSum - lst[i-n] + lst[i]\n",
    "        maxSum = max(tempSum,maxSum)\n",
    "    return maxSum\n",
    "\n",
    "lst = [4,2,1,6]\n",
    "n = 1\n",
    "maxSubarraySum(lst,n)             "
   ]
  },
  {
   "cell_type": "code",
   "execution_count": 35,
   "metadata": {},
   "outputs": [],
   "source": [
    "MSS_TEST_CASES = [\n",
    "    (([],4), None),\n",
    "    (([4,2,1,6,2], 4), 13),\n",
    "    (([4,2,1,6],1), 6),\n",
    "    (([1,2,5,2,8,1,5], 2), 10),\n",
    "    (([1,2,5,2,8,1,5], 4), 17),\n",
    "]"
   ]
  },
  {
   "cell_type": "code",
   "execution_count": 36,
   "metadata": {},
   "outputs": [],
   "source": [
    "def test_maxSubarraySum(fn, test_cases):\n",
    "    passed = 0\n",
    "    total = len(test_cases)   \n",
    "    for (lst,n),expected in test_cases:\n",
    "        got = fn(lst,n)\n",
    "        if got == expected:\n",
    "            print(True)\n",
    "            passed += 1\n",
    "        else:\n",
    "            print('input : {}, expected : {} got : {}'.format(\n",
    "                 (lst,n), expected, got))\n",
    "    print(\"passed {} of {} tests.\".format(passed,total))"
   ]
  },
  {
   "cell_type": "code",
   "execution_count": 37,
   "metadata": {},
   "outputs": [
    {
     "name": "stdout",
     "output_type": "stream",
     "text": [
      "True\n",
      "True\n",
      "True\n",
      "True\n",
      "True\n",
      "passed 5 of 5 tests.\n"
     ]
    }
   ],
   "source": [
    "test_maxSubarraySum(maxSubarraySum, MSS_TEST_CASES)"
   ]
  },
  {
   "cell_type": "code",
   "execution_count": null,
   "metadata": {},
   "outputs": [],
   "source": []
  },
  {
   "cell_type": "code",
   "execution_count": null,
   "metadata": {},
   "outputs": [],
   "source": []
  }
 ],
 "metadata": {
  "kernelspec": {
   "display_name": "Python 3",
   "language": "python",
   "name": "python3"
  },
  "language_info": {
   "codemirror_mode": {
    "name": "ipython",
    "version": 3
   },
   "file_extension": ".py",
   "mimetype": "text/x-python",
   "name": "python",
   "nbconvert_exporter": "python",
   "pygments_lexer": "ipython3",
   "version": "3.7.1"
  }
 },
 "nbformat": 4,
 "nbformat_minor": 2
}
