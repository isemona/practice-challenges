{
 "cells": [
  {
   "cell_type": "markdown",
   "metadata": {},
   "source": [
    "Implement strStr().\n",
    "\n",
    "Return the index of the first occurrence of needle in haystack, or -1 if needle is not part \n",
    "of haystack.\n",
    "\n",
    "Example 1:\n",
    "\n",
    "Input: haystack = \"hello\", needle = \"ll\"\n",
    "Output: 2\n",
    "\n",
    "Example 2:\n",
    "\n",
    "Input: haystack = \"aaaaa\", needle = \"bba\"\n",
    "Output: -1\n",
    "\n",
    "Clarification:\n",
    "\n",
    "What should we return when needle is an empty string? This is a great question to ask \n",
    "during an interview.\n",
    "\n",
    "For the purpose of this problem, we will return 0 when needle is an empty string. \n",
    "This is consistent to C's strstr() and Java's indexOf()."
   ]
  },
  {
   "cell_type": "code",
   "execution_count": 1,
   "metadata": {},
   "outputs": [
    {
     "name": "stdout",
     "output_type": "stream",
     "text": [
      "2\n"
     ]
    }
   ],
   "source": [
    "def strStrPos(haystack, needle):\n",
    "    if len(haystack) < len(needle):\n",
    "        return -1\n",
    "\n",
    "    pos = 0\n",
    "    # we want to stop at haystack - needle\n",
    "    # example:\n",
    "    # hello\n",
    "    # ll\n",
    "    for i in range(len(haystack) - len(needle) + 1):\n",
    "        if haystack[i] in needle:\n",
    "            pos = i\n",
    "            for j in range(len(needle)):\n",
    "                # easier to check when it doesn't match and break loop\n",
    "                if haystack[pos+j] != needle[j]:\n",
    "                    break\n",
    "                # we also want to make sure we find out we're done and succeeded\n",
    "                if haystack[pos+j] == needle[j] and j == len(needle) - 1:\n",
    "                    return pos\n",
    "    return -1\n",
    "\n",
    "                \n",
    "haystack = 'hello'\n",
    "needle = 'll'\n",
    "\n",
    "print(strStrPos(haystack, needle))"
   ]
  },
  {
   "cell_type": "code",
   "execution_count": 1,
   "metadata": {},
   "outputs": [],
   "source": [
    "def _strStr(haystack, needle): \n",
    "    collectionOfletters = \"\"\n",
    "    for ch in haystack:\n",
    "        if ch in needle:\n",
    "            collectionOfletter += ch\n",
    "        continue\n",
    "    return collectionOfletters"
   ]
  },
  {
   "cell_type": "code",
   "execution_count": 1,
   "metadata": {},
   "outputs": [],
   "source": [
    "def _strStr(haystack, needle):\n",
    "    if needle == \"\":\n",
    "        return 0\n",
    "    indexOfLetter = []\n",
    "    for i in range(len(haystack)):\n",
    "        if haystack[i] in haystack and haystack[i] in needle:\n",
    "            indexOfLetter.append(i)\n",
    "        else:\n",
    "            return -1\n",
    "            break\n",
    "        #continue\n",
    "    return indexOfLetter[0]"
   ]
  },
  {
   "cell_type": "code",
   "execution_count": 2,
   "metadata": {},
   "outputs": [],
   "source": [
    "def _strStr(haystack, needle): #improved solution\n",
    "    if needle == \"\":\n",
    "        return 0\n",
    "    elif haystack == \"\" and needle != \"\":\n",
    "        return -1\n",
    "    indexOfLetter = []\n",
    "    counter = -1\n",
    "    for i in range(len(haystack)):\n",
    "        counter += 1\n",
    "        print(haystack[i],\"i_index\",i,counter)\n",
    "        if haystack[i] in haystack and haystack[i] in needle:\n",
    "            if i == counter:\n",
    "                print(i,counter)   \n",
    "            indexOfLetter.append(i)\n",
    "        continue\n",
    "    if indexOfLetter == []:\n",
    "        return -1\n",
    "    else:\n",
    "        return indexOfLetter[0]"
   ]
  },
  {
   "cell_type": "code",
   "execution_count": 3,
   "metadata": {},
   "outputs": [],
   "source": [
    "def strStr(haystack, needle): #improved solution, no spaces!\n",
    "    if needle==\"\":\n",
    "        return 0\n",
    "    elif haystack==\"\" and needle!=\"\":\n",
    "        return -1\n",
    "    indexOfLetter=[]\n",
    "    for i in range(len(haystack)):\n",
    "        print(haystack[i],\"i_index\",i)\n",
    "        if haystack[i] in haystack and haystack[i] in needle:\n",
    "            counter=-1\n",
    "            for j in range(len(needle)):\n",
    "                counter+=1\n",
    "                print(needle[j],\"j_index:\",j,\"counter:\",counter)\n",
    "                if haystack[i]==needle[j] and j==counter:\n",
    "                    indexOfLetter.append(i)\n",
    "        continue\n",
    "    if indexOfLetter==[]:\n",
    "        return -1\n",
    "    else:\n",
    "        return indexOfLetter[0]"
   ]
  },
  {
   "cell_type": "code",
   "execution_count": 4,
   "metadata": {},
   "outputs": [],
   "source": [
    "TEST_CASES = [\n",
    "    ('','',0),\n",
    "    ('','a',-1),\n",
    "    ('hello','ll',2),\n",
    "    ('hello','llo',2),\n",
    "    ('aaaa','bba',-1),\n",
    "]"
   ]
  },
  {
   "cell_type": "code",
   "execution_count": 5,
   "metadata": {},
   "outputs": [],
   "source": [
    "def test_strStr(test_cases):\n",
    "    passed = 0\n",
    "    total = len(test_cases)   \n",
    "    for haystack, needle, expected in test_cases:\n",
    "        got = strStr(haystack, needle) #added this instead of test_input_one, test_input_two,\n",
    "        if got == expected:\n",
    "            print(True)\n",
    "            passed += 1\n",
    "        else:\n",
    "            print('input : {}, {} expected : {} got : {}'.format(\n",
    "                haystack, needle, expected, got))\n",
    "    print(\"passed {} of {} tests.\".format(passed,total))"
   ]
  },
  {
   "cell_type": "code",
   "execution_count": 2,
   "metadata": {},
   "outputs": [
    {
     "ename": "NameError",
     "evalue": "name '_test_strStr' is not defined",
     "output_type": "error",
     "traceback": [
      "\u001b[0;31m---------------------------------------------------------------------------\u001b[0m",
      "\u001b[0;31mNameError\u001b[0m                                 Traceback (most recent call last)",
      "\u001b[0;32m<ipython-input-2-2d796e518b3c>\u001b[0m in \u001b[0;36m<module>\u001b[0;34m\u001b[0m\n\u001b[0;32m----> 1\u001b[0;31m \u001b[0m_test_strStr\u001b[0m\u001b[0;34m(\u001b[0m\u001b[0mTEST_CASES\u001b[0m\u001b[0;34m)\u001b[0m\u001b[0;34m\u001b[0m\u001b[0;34m\u001b[0m\u001b[0m\n\u001b[0m",
      "\u001b[0;31mNameError\u001b[0m: name '_test_strStr' is not defined"
     ]
    }
   ],
   "source": [
    "_test_strStr(TEST_CASES)"
   ]
  },
  {
   "cell_type": "code",
   "execution_count": 11,
   "metadata": {},
   "outputs": [],
   "source": [
    "def _strStrPos(needle, haystack, pos):\n",
    "    if needle==\"\":\n",
    "        return False\n",
    "    elif haystack==\"\" and needle!=\"\":\n",
    "        return False\n",
    "    matches=0\n",
    "    index=[]\n",
    "    for i in range(len(haystack)):\n",
    "        if haystack[i] in needle:\n",
    "            matches+=1\n",
    "            index.append(i)\n",
    "    if len(needle)==matches and index[0]==pos:\n",
    "        return True\n",
    "    return False"
   ]
  },
  {
   "cell_type": "code",
   "execution_count": 1,
   "metadata": {},
   "outputs": [],
   "source": [
    "def strStr(needle, haystack):\n",
    "    '''Returns the first index of needle in haystack, -1 if not present.'''\n",
    "    pass\n"
   ]
  },
  {
   "cell_type": "code",
   "execution_count": 17,
   "metadata": {},
   "outputs": [],
   "source": [
    "def cheatingStrStrPos(needle, haystack, pos):\n",
    "    return needle == haystack[pos:pos+len(needle)]\n",
    "                    haystack[2:2+2]"
   ]
  },
  {
   "cell_type": "code",
   "execution_count": 60,
   "metadata": {},
   "outputs": [],
   "source": [
    "def _realStrStrPos(needle, haystack, pos):\n",
    "    if len(haystack) < len(needle):\n",
    "        return False\n",
    "    i = pos\n",
    "    for ch in needle:\n",
    "        print('ch: {}, haystack[i]: {}', ch, haystack[i])\n",
    "        if haystack[i] != ch:\n",
    "            return False\n",
    "        i += 1\n",
    "    return True"
   ]
  },
  {
   "cell_type": "code",
   "execution_count": null,
   "metadata": {},
   "outputs": [],
   "source": [
    "def realStrStrPos(needle, haystack, pos): # realStrStrPos improved using range\n",
    "    if len(haystack) < len(needle):\n",
    "        return False\n",
    "    for i in range(len(needle)):\n",
    "        if haystack[pos+i] != needle[i]:\n",
    "            return False\n",
    "    return True"
   ]
  },
  {
   "cell_type": "code",
   "execution_count": 63,
   "metadata": {},
   "outputs": [
    {
     "name": "stdout",
     "output_type": "stream",
     "text": [
      "ch: {}, haystack[i]: {} e e\n",
      "ch: {}, haystack[i]: {} l 1\n"
     ]
    },
    {
     "data": {
      "text/plain": [
       "False"
      ]
     },
     "execution_count": 63,
     "metadata": {},
     "output_type": "execute_result"
    }
   ],
   "source": [
    "needle = 'ell'\n",
    "haystack = 'hello'\n",
    "pos = 1\n",
    "realStrStrPos(needle, haystack, pos)"
   ]
  },
  {
   "cell_type": "code",
   "execution_count": 44,
   "metadata": {},
   "outputs": [
    {
     "data": {
      "text/plain": [
       "''"
      ]
     },
     "execution_count": 44,
     "metadata": {},
     "output_type": "execute_result"
    }
   ],
   "source": [
    "'ll'[2] len() > nee"
   ]
  },
  {
   "cell_type": "code",
   "execution_count": 48,
   "metadata": {},
   "outputs": [
    {
     "name": "stdout",
     "output_type": "stream",
     "text": [
      "True\n",
      "True\n",
      "True\n",
      "True\n",
      "True\n",
      "input : ll, hello, 3 expected : False got : True\n",
      "input : ell, hello, 1 expected : True got : False\n",
      "True\n",
      "True\n",
      "passed 7 of 9 tests.\n"
     ]
    }
   ],
   "source": [
    "test_strStrPos(realStrStrPos, SSP_TEST_CASES)"
   ]
  },
  {
   "cell_type": "code",
   "execution_count": 29,
   "metadata": {},
   "outputs": [
    {
     "data": {
      "text/plain": [
       "''"
      ]
     },
     "execution_count": 29,
     "metadata": {},
     "output_type": "execute_result"
    }
   ],
   "source": [
    "'llx' == 'llo'"
   ]
  },
  {
   "cell_type": "code",
   "execution_count": null,
   "metadata": {},
   "outputs": [],
   "source": [
    "def strStrPos(needle, haystack, pos):\n",
    "    '''Returns True if needle is in haystack starting at pos.'''\n",
    "    if len(haystack) < pos + len(needle):\n",
    "        # needle can't fit in haystack starting at pos.\n",
    "        return False\n",
    "    for i in range(len(needle)):\n",
    "        if haystack[_____] != needle[_____]:\n",
    "            return _____\n",
    "    return _____"
   ]
  },
  {
   "cell_type": "code",
   "execution_count": 47,
   "metadata": {},
   "outputs": [],
   "source": [
    "SSP_TEST_CASES = [\n",
    "    ('','', 0, True),\n",
    "    ('','a', 0, True),\n",
    "    ('ll','hello', 2, True),\n",
    "    ('ll','hello', 0, False),\n",
    "    ('hello', 'll', 2, False),\n",
    "    ('ll', 'hello', 3, False), # first occurence is at 2 not 3\n",
    "    ('ell', 'hello', 1, True),\n",
    "    ('llx', 'hello', 2, False), # doesn't quite match haystack letters\n",
    "    ('a', 'aaaa', 1, True), # however a test case like this doesn't pass\n",
    "]"
   ]
  },
  {
   "cell_type": "code",
   "execution_count": 4,
   "metadata": {},
   "outputs": [
    {
     "data": {
      "text/plain": [
       "''"
      ]
     },
     "execution_count": 4,
     "metadata": {},
     "output_type": "execute_result"
    }
   ],
   "source": [
    "'hello'[0:0]"
   ]
  },
  {
   "cell_type": "code",
   "execution_count": 22,
   "metadata": {},
   "outputs": [],
   "source": [
    "def test_strStrPos(fn, test_cases):\n",
    "    passed = 0\n",
    "    total = len(test_cases)   \n",
    "    for needle, haystack, pos, expected in test_cases:\n",
    "        got = fn(needle, haystack, pos) \n",
    "        if got == expected:\n",
    "            print(True)\n",
    "            passed += 1\n",
    "        else:\n",
    "            print('input : {}, {}, {} expected : {} got : {}'.format(\n",
    "                 needle, haystack, pos, expected, got))\n",
    "    print(\"passed {} of {} tests.\".format(passed,total))"
   ]
  },
  {
   "cell_type": "code",
   "execution_count": 32,
   "metadata": {},
   "outputs": [
    {
     "name": "stdout",
     "output_type": "stream",
     "text": [
      "True\n",
      "True\n",
      "True\n",
      "True\n",
      "True\n",
      "True\n",
      "True\n",
      "True\n",
      "True\n",
      "passed 9 of 9 tests.\n"
     ]
    }
   ],
   "source": [
    "test_strStrPos(cheatingStrStrPos, SSP_TEST_CASES)"
   ]
  },
  {
   "cell_type": "code",
   "execution_count": null,
   "metadata": {},
   "outputs": [],
   "source": []
  }
 ],
 "metadata": {
  "kernelspec": {
   "display_name": "Python 3",
   "language": "python",
   "name": "python3"
  },
  "language_info": {
   "codemirror_mode": {
    "name": "ipython",
    "version": 3
   },
   "file_extension": ".py",
   "mimetype": "text/x-python",
   "name": "python",
   "nbconvert_exporter": "python",
   "pygments_lexer": "ipython3",
   "version": "3.7.1"
  }
 },
 "nbformat": 4,
 "nbformat_minor": 2
}
