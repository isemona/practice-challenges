{
 "cells": [
  {
   "cell_type": "markdown",
   "metadata": {},
   "source": [
    "Write a function called binarySearch which accepts a sorted array and a value and returns the index at which the value exists. Otherwise, return -1.\n",
    "\n",
    "This algorithm should be more efficient than linearSearch - you can read how to implement it here - https://www.khanacademy.org/computing/computer-science/algorithms/binary-search/a/binary-search and here - https://www.topcoder.com/community/data-science/data-science-tutorials/binary-search/"
   ]
  },
  {
   "cell_type": "code",
   "execution_count": null,
   "metadata": {},
   "outputs": [],
   "source": [
    "def binary_search(lst,target):\n",
    "    min_num = 0\n",
    "    max_num = len(lst) \n",
    "    mid = (min_num + max_num)//2\n",
    "    if target > max(lst): # This code accounts for index out of range.\n",
    "        return -1\n",
    "    while (min_num <= max_num and lst[mid] != target):\n",
    "        if lst[mid] < target:\n",
    "            min_num = mid + 1\n",
    "        else:\n",
    "            max_num = mid - 1\n",
    "        mid = (min_num + max_num)//2 \n",
    "    if lst[mid] == target:\n",
    "        return mid\n",
    "    return -1\n",
    "\n",
    "lst = [1,2,3,4,5]\n",
    "target = 6\n",
    "binary_search(lst,target)"
   ]
  },
  {
   "cell_type": "code",
   "execution_count": null,
   "metadata": {},
   "outputs": [],
   "source": [
    "binary_search_TEST_CASES = [\n",
    "    (([1,2,3,4,5],2), 1),\n",
    "    (([1,2,3,4,5],3), 2),\n",
    "    (([1,2,3,4,5],5), 4),\n",
    "    (([1,2,3,4,5],6), -1),\n",
    "    (([5, 6, 10, 13, 14, 18, 30, 34, 35, 37,\n",
    "     40, 44, 64, 79, 84, 86, 95, 96, 98, 99], 10), 2),\n",
    "    (([5, 6, 10, 13, 14, 18, 30, 34, 35, 37,\n",
    "     40, 44, 64, 79, 84, 86, 95, 96, 98, 99\n",
    "    ], 95), 16),\n",
    "    (([5, 6, 10, 13, 14, 18, 30, 34, 35, 37,\n",
    "     40, 44, 64, 79, 84, 86, 95, 96, 98, 99\n",
    "    ], 100), -1),\n",
    "]"
   ]
  },
  {
   "cell_type": "code",
   "execution_count": null,
   "metadata": {},
   "outputs": [],
   "source": [
    "def test_binary_search(fn, test_cases):\n",
    "    passed = 0\n",
    "    total = len(test_cases)   \n",
    "    for (lst,target),expected in test_cases:\n",
    "        got = fn(lst,target)\n",
    "        if got == expected:\n",
    "            print(True)\n",
    "            passed += 1\n",
    "        else:\n",
    "            print('input : {}, expected : {} got : {}'.format(\n",
    "                 (lst,target), expected, got))\n",
    "    print('passed {} of {} tests.'.format(passed,total))"
   ]
  },
  {
   "cell_type": "code",
   "execution_count": null,
   "metadata": {},
   "outputs": [],
   "source": [
    "test_binary_search(binary_search, binary_search_TEST_CASES)"
   ]
  },
  {
   "cell_type": "code",
   "execution_count": null,
   "metadata": {},
   "outputs": [],
   "source": []
  },
  {
   "cell_type": "code",
   "execution_count": null,
   "metadata": {},
   "outputs": [],
   "source": []
  }
 ],
 "metadata": {
  "kernelspec": {
   "display_name": "Python 3",
   "language": "python",
   "name": "python3"
  },
  "language_info": {
   "codemirror_mode": {
    "name": "ipython",
    "version": 3
   },
   "file_extension": ".py",
   "mimetype": "text/x-python",
   "name": "python",
   "nbconvert_exporter": "python",
   "pygments_lexer": "ipython3",
   "version": "3.7.1"
  }
 },
 "nbformat": 4,
 "nbformat_minor": 2
}
