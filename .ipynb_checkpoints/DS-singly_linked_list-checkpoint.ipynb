{
 "cells": [
  {
   "cell_type": "markdown",
   "metadata": {},
   "source": [
    "Write a function to find the longest common prefix string amongst an array of strings.\n",
    "If there is no common prefix, return an empty string \"\"."
   ]
  },
  {
   "cell_type": "code",
   "execution_count": null,
   "metadata": {},
   "outputs": [],
   "source": [
    "// piece of data - val\n",
    "//reference to next node - next\n",
    "\n",
    "class Node{\n",
    "    constructor(val){\n",
    "        this.val = val;\n",
    "        this.next = null;\n",
    "    }\n",
    "}\n",
    "\n",
    "class SinglyLinkedList{\n",
    "    constructor(){\n",
    "        this.head = null;\n",
    "        this.tail = null;\n",
    "        this.length = 0;\n",
    "    }\n",
    "    push(val){\n",
    "        \n",
    "    }\n",
    "}\n",
    "\n",
    "// var first = new Node(\"Hi\")\n",
    "// first.next = new Node(\"there\")\n",
    "// first.next.next = new Node(\"how\")\n",
    "// first.next.next.next = new Node(\"are\")\n",
    "// first.next.next.next.next = new Node(\"you\")\n",
    "\n",
    "var list = new SinglyLinkedList()\n",
    "list.push(\"HELLO\")\n",
    "list.push(\"GOODBYE\")"
   ]
  },
  {
   "cell_type": "code",
   "execution_count": 68,
   "metadata": {},
   "outputs": [],
   "source": [
    "class Node:\n",
    "    def __init__(self, data):\n",
    "        self.data = data\n",
    "        self.next = next\n",
    "    \n",
    "class SinglyLinkedList{\n",
    "    def __init__(self, head, tail, length):\n",
    "        self.head = null;\n",
    "        self.tail = null;\n",
    "        self.length = 0;\n",
    "    \n",
    "first = new Node(\"Hi\")\n",
    "first.next = new Node(\"there\")\n",
    "first.next.next = new Node(\"how\")\n",
    "first.next.next.next = new Node(\"are\")\n",
    "first.next.next.next.next = new Node(\"you\")\n",
    "\n",
    "list = new SinglyLinkedList()\n",
    "list.append(\"HELLO\")\n",
    "list.append(\"GOODBYE\")    "
   ]
  },
  {
   "cell_type": "code",
   "execution_count": null,
   "metadata": {},
   "outputs": [],
   "source": []
  }
 ],
 "metadata": {
  "kernelspec": {
   "display_name": "Python 3",
   "language": "python",
   "name": "python3"
  },
  "language_info": {
   "codemirror_mode": {
    "name": "ipython",
    "version": 3
   },
   "file_extension": ".py",
   "mimetype": "text/x-python",
   "name": "python",
   "nbconvert_exporter": "python",
   "pygments_lexer": "ipython3",
   "version": "3.7.1"
  }
 },
 "nbformat": 4,
 "nbformat_minor": 2
}
