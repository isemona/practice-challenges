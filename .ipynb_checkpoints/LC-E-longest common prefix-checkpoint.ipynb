{
 "cells": [
  {
   "cell_type": "markdown",
   "metadata": {},
   "source": [
    "Write a function to find the longest common prefix string amongst an array of strings.\n",
    "If there is no common prefix, return an empty string \"\"."
   ]
  },
  {
   "cell_type": "code",
   "execution_count": 158,
   "metadata": {},
   "outputs": [],
   "source": [
    "# Function to find the longest common prefix \n",
    "# Naive solution\n",
    "\n",
    "from collections import Counter\n",
    "\n",
    "def _longestCommonPrefix(lst):\n",
    "    # check for the shortest word and split letters\n",
    "    # check if each letter in items remaining\n",
    "    # if none return empty\n",
    "    \n",
    "    shortest_word = lst[0]\n",
    "    for item in lst:\n",
    "        if len(item) < len(shortest_word):\n",
    "            shortest_word = item\n",
    "    \n",
    "    remaining_list = [item for item in lst if item != shortest_word]\n",
    "    \n",
    "    letters_common = ''\n",
    "    \n",
    "    for item in remaining_list:\n",
    "        for ch in item:\n",
    "            if ch in shortest_word and ch in item:\n",
    "                letters_common += ch\n",
    "    \n",
    "    common = Counter(letters_common)\n",
    "    \n",
    "    common_letters = ''\n",
    "    for key,value in common.items():\n",
    "        if value >= 2:\n",
    "            common_letters += key\n",
    "        \n",
    "    return common_letters"
   ]
  },
  {
   "cell_type": "code",
   "execution_count": null,
   "metadata": {},
   "outputs": [],
   "source": [
    "# Java Solution\n",
    "public String longestCommonPrefix(String[] strs) {\n",
    "    if (strs == null || strs.length == 0)\n",
    "        return \"\";\n",
    "    int minLen = Integer.MAX_VALUE;\n",
    "    for (String str : strs)\n",
    "        minLen = Math.min(minLen, str.length());\n",
    "    int low = 1;\n",
    "    int high = minLen;\n",
    "    while (low <= high) {\n",
    "        int middle = (low + high) / 2;\n",
    "        if (isCommonPrefix(strs, middle))\n",
    "            low = middle + 1;\n",
    "        else\n",
    "            high = middle - 1;\n",
    "    }\n",
    "    return strs[0].substring(0, (low + high) / 2);\n",
    "}\n",
    "\n",
    "private boolean isCommonPrefix(String[] strs, int len){\n",
    "    String str1 = strs[0].substring(0,len);\n",
    "    for (int i = 1; i < strs.length; i++)\n",
    "        if (!strs[i].startsWith(str1))\n",
    "            return false;\n",
    "    return true;\n",
    "}"
   ]
  },
  {
   "cell_type": "code",
   "execution_count": 173,
   "metadata": {},
   "outputs": [
    {
     "data": {
      "text/plain": [
       "'gee'"
      ]
     },
     "execution_count": 173,
     "metadata": {},
     "output_type": "execute_result"
    }
   ],
   "source": [
    "# Function to find the longest common prefix \n",
    "# Using Binary Search\n",
    "def isCommonPrefix(lst, n):\n",
    "    str1 = lst[0][:n] # gets the first word all the way up to the middle letter\n",
    "    for i in range(len(str1)):\n",
    "        if not lst[i].startswith(str1):\n",
    "            return False\n",
    "    return True\n",
    "\n",
    "# A Function that returns the longest common prefix \n",
    "# from the array of strings \n",
    "def longestCommonPrefix(lst):\n",
    "    if len(lst) == 0:\n",
    "        return \"\";\n",
    "    minLen = len(min([word for word in lst]))\n",
    "    low = 0\n",
    "    high = minLen\n",
    "    while (low <= high):\n",
    "        middle = (low + high)//2\n",
    "        if isCommonPrefix(lst, middle):\n",
    "            low = middle + 1\n",
    "        else:\n",
    "            high = middle - 1\n",
    "    return lst[0][0:(low + high)//2]\n",
    "\n",
    "lst = ['geeksforgeeks', 'geeks', 'geek', 'geezer']\n",
    "longestCommonPrefix(lst)"
   ]
  },
  {
   "cell_type": "code",
   "execution_count": 174,
   "metadata": {},
   "outputs": [],
   "source": [
    "LCP_TEST_CASES = [\n",
    "    (['', ''], ''),\n",
    "    (['rat', 'tar'], ''),\n",
    "    ([\"dog\",\"racecar\",\"car\"], ''),\n",
    "    ([\"flower\",\"flow\",\"flight\"], 'fl'),\n",
    "    ]"
   ]
  },
  {
   "cell_type": "code",
   "execution_count": 175,
   "metadata": {},
   "outputs": [],
   "source": [
    "def test_longestCommonPrefix(fn, test_cases):\n",
    "    passed = 0\n",
    "    total = len(test_cases)   \n",
    "    for lst,expected in test_cases:\n",
    "        got = fn(lst)\n",
    "        if got == expected:\n",
    "            print(True)\n",
    "            passed += 1\n",
    "        else:\n",
    "            print('input : {}, expected : {} got : {}'.format(\n",
    "                 lst, expected, got))\n",
    "    print(\"passed {} of {} tests.\".format(passed,total))"
   ]
  },
  {
   "cell_type": "code",
   "execution_count": 176,
   "metadata": {},
   "outputs": [
    {
     "name": "stdout",
     "output_type": "stream",
     "text": [
      "True\n",
      "input : ['rat', 'tar'], expected :  got : r\n",
      "input : ['dog', 'racecar', 'car'], expected :  got : d\n",
      "True\n",
      "passed 2 of 4 tests.\n"
     ]
    }
   ],
   "source": [
    "test_longestCommonPrefix(longestCommonPrefix, LCP_TEST_CASES)"
   ]
  },
  {
   "cell_type": "code",
   "execution_count": 167,
   "metadata": {},
   "outputs": [
    {
     "data": {
      "text/plain": [
       "''"
      ]
     },
     "execution_count": 167,
     "metadata": {},
     "output_type": "execute_result"
    }
   ],
   "source": [
    "lst = 'hello'\n",
    "lst[:len(lst)]\n",
    "lst[3:3]"
   ]
  },
  {
   "cell_type": "code",
   "execution_count": null,
   "metadata": {},
   "outputs": [],
   "source": []
  },
  {
   "cell_type": "code",
   "execution_count": null,
   "metadata": {},
   "outputs": [],
   "source": []
  }
 ],
 "metadata": {
  "kernelspec": {
   "display_name": "Python 3",
   "language": "python",
   "name": "python3"
  },
  "language_info": {
   "codemirror_mode": {
    "name": "ipython",
    "version": 3
   },
   "file_extension": ".py",
   "mimetype": "text/x-python",
   "name": "python",
   "nbconvert_exporter": "python",
   "pygments_lexer": "ipython3",
   "version": "3.7.1"
  }
 },
 "nbformat": 4,
 "nbformat_minor": 2
}
