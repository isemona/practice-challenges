{
 "cells": [
  {
   "cell_type": "code",
   "execution_count": 27,
   "metadata": {
    "scrolled": true
   },
   "outputs": [
    {
     "name": "stdout",
     "output_type": "stream",
     "text": [
      "{0: 'TWLO', 1: 'CODE', 2: 'HTCH'}\n",
      "C C\n",
      "C C\n",
      "D D\n",
      "E E\n",
      "H H\n",
      "H H\n",
      "L L\n",
      "O O\n",
      "O O\n",
      "T T\n",
      "T T\n",
      "W W\n"
     ]
    }
   ],
   "source": [
    "def vanity(codes, numbers):\n",
    "    # Create a dictionary to map letters to numbers\n",
    "    # Loop through code and numbers to find a match\n",
    "    # If there is a match return all numbers \n",
    "    # Both inputs and outputs are arrays of strings, output must be sorted\n",
    "\n",
    "    vanity_dict = { '2': ['A','B','C'],\n",
    "                    '3': ['D','E','F'],\n",
    "                    '4': ['G','H','I'],\n",
    "                    '5': ['J','K','L'],\n",
    "                    '6': ['M','N','O'],\n",
    "                    '7': ['P','Q','R','S'],\n",
    "                    '8': ['T','U','V'],\n",
    "                    '9': ['W','X','Y','Z'],\n",
    "                    }\n",
    "    \n",
    "    code_dict = {}\n",
    "    for key in range(len(codes)):\n",
    "        code_dict[key] = codes[key]\n",
    "    \n",
    "    print(code_dict)\n",
    "    \n",
    "    for keys,values in vanity_dict.items():\n",
    "        for k,v in code_dict.items():\n",
    "            for ch in v:\n",
    "                for value in values:\n",
    "                    if ch == value:\n",
    "                        print(keys)\n",
    "\n",
    "codes = ['TWLO','CODE','HTCH']\n",
    "numbers = ['+17474824380','+14157088956','+919810155555','+15109926333','+1415123456']\n",
    "vanity(codes, numbers)"
   ]
  },
  {
   "cell_type": "code",
   "execution_count": null,
   "metadata": {},
   "outputs": [],
   "source": []
  },
  {
   "cell_type": "code",
   "execution_count": null,
   "metadata": {},
   "outputs": [],
   "source": []
  }
 ],
 "metadata": {
  "kernelspec": {
   "display_name": "Python 3",
   "language": "python",
   "name": "python3"
  },
  "language_info": {
   "codemirror_mode": {
    "name": "ipython",
    "version": 3
   },
   "file_extension": ".py",
   "mimetype": "text/x-python",
   "name": "python",
   "nbconvert_exporter": "python",
   "pygments_lexer": "ipython3",
   "version": "3.7.1"
  }
 },
 "nbformat": 4,
 "nbformat_minor": 2
}
