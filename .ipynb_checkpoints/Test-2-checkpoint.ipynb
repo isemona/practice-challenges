{
 "cells": [
  {
   "cell_type": "markdown",
   "metadata": {},
   "source": [
    "# 1. Given an array of codes and phone numbers find all the phone numbers that have the matching code. The code can be placed anywhere with the a given phone number. Both inputs and outputs are arrays of strings, output must be sorted."
   ]
  },
  {
   "cell_type": "code",
   "execution_count": 55,
   "metadata": {
    "scrolled": true
   },
   "outputs": [],
   "source": [
    "def vanity(codes, numbers):\n",
    "    # Create a dictionary to map letters to numbers\n",
    "    # Loop through code and numbers to find a match\n",
    "    # If there is a match return all numbers \n",
    "    # Both inputs and outputs are arrays of strings, output must be sorted\n",
    "    # https://www.twilio.com/docs/glossary/what-e164\n",
    "\n",
    "    \n",
    "    vanity_dict = { '2': ['A','B','C'],\n",
    "                    '3': ['D','E','F'],\n",
    "                    '4': ['G','H','I'],\n",
    "                    '5': ['J','K','L'],\n",
    "                    '6': ['M','N','O'],\n",
    "                    '7': ['P','Q','R','S'],\n",
    "                    '8': ['T','U','V'],\n",
    "                    '9': ['W','X','Y','Z'],\n",
    "                    }\n",
    "\n",
    "    code_dict = {}\n",
    "    for key in range(len(codes)):\n",
    "        code_dict[key] = codes[key]\n",
    "    \n",
    "    for keys,values in vanity_dict.items():\n",
    "        for k,v in code_dict.items():\n",
    "            for ch in v:\n",
    "                for value in values:\n",
    "                    if ch == value:\n",
    "                        return keys"
   ]
  },
  {
   "cell_type": "code",
   "execution_count": 56,
   "metadata": {},
   "outputs": [],
   "source": [
    "vanity_TEST_CASES = [\n",
    "    (([''],['']),['']),\n",
    "    ((['TWLO'],['+14157088956']),['+14157088956']),\n",
    "    ((['TWLO','CODE','HTCH'],['+17474824380','+14157088956','+919810155555','+15109926333','+1415123456']), ['+1415123456','+15109926333','+17474824380']),\n",
    "]"
   ]
  },
  {
   "cell_type": "code",
   "execution_count": 57,
   "metadata": {},
   "outputs": [],
   "source": [
    "def test_vanity(fn, test_cases):\n",
    "    passed = 0\n",
    "    total = len(test_cases)   \n",
    "    for (codes, numbers),expected in test_cases:\n",
    "        got = fn(codes, numbers)\n",
    "        if got == expected:\n",
    "            print(True)\n",
    "            passed += 1\n",
    "        else:\n",
    "            print('input : {}, expected : {} got : {}'.format(\n",
    "                 (codes, numbers), expected, got))\n",
    "    print(\"passed {} of {} tests.\".format(passed,total))"
   ]
  },
  {
   "cell_type": "code",
   "execution_count": 58,
   "metadata": {},
   "outputs": [
    {
     "name": "stdout",
     "output_type": "stream",
     "text": [
      "input : ([''], ['']), expected : [''] got : None\n",
      "input : (['TWLO'], ['+14157088956']), expected : ['+14157088956'] got : 5\n",
      "input : (['TWLO', 'CODE', 'HTCH'], ['+17474824380', '+14157088956', '+919810155555', '+15109926333', '+1415123456']), expected : ['+1415123456', '+15109926333', '+17474824380'] got : 2\n",
      "passed 0 of 3 tests.\n"
     ]
    }
   ],
   "source": [
    "test_vanity(vanity, vanity_TEST_CASES)"
   ]
  },
  {
   "cell_type": "markdown",
   "metadata": {},
   "source": [
    "# Discussion\n",
    "- What is the time complexity of your working solution?\n",
    "- How can you improve your code?\n",
    "- When the optimized solution would be necessary?"
   ]
  },
  {
   "cell_type": "markdown",
   "metadata": {},
   "source": [
    "# 2. Given an array of codes and phone numbers find all the phone numbers that have the matching code. The code can be placed anywhere with the a given phone number. Both inputs and outputs are arrays of strings, output must be sorted."
   ]
  },
  {
   "cell_type": "code",
   "execution_count": 60,
   "metadata": {},
   "outputs": [],
   "source": [
    "def longestprefix(codes, numbers):\n",
    "    # Create a dictionary to map letters to numbers\n",
    "    # Loop through code and numbers to find a match\n",
    "    # If there is a match return all numbers \n",
    "    # Both inputs and outputs are arrays of strings, output must be sorted\n",
    "    # https://www.twilio.com/docs/glossary/what-e164\n",
    "\n",
    "    \n",
    "    vanity_dict = { '2': ['A','B','C'],\n",
    "                    '3': ['D','E','F'],\n",
    "                    '4': ['G','H','I'],\n",
    "                    '5': ['J','K','L'],\n",
    "                    '6': ['M','N','O'],\n",
    "                    '7': ['P','Q','R','S'],\n",
    "                    '8': ['T','U','V'],\n",
    "                    '9': ['W','X','Y','Z'],\n",
    "                    }\n",
    "\n",
    "    code_dict = {}\n",
    "    for key in range(len(codes)):\n",
    "        code_dict[key] = codes[key]\n",
    "    \n",
    "    for keys,values in vanity_dict.items():\n",
    "        for k,v in code_dict.items():\n",
    "            for ch in v:\n",
    "                for value in values:\n",
    "                    if ch == value:\n",
    "                        return keys"
   ]
  },
  {
   "cell_type": "code",
   "execution_count": 61,
   "metadata": {},
   "outputs": [],
   "source": [
    "longestprefix_TEST_CASES = [\n",
    "    (([''],['']),['']),\n",
    "    ((['+415123'],['+9990']), None),\n",
    "    ((['+1415123','+1415000','+1412','+1510','+1','+44'], ['+1415123', None ,'+17474824380']),\n",
    "]"
   ]
  },
  {
   "cell_type": "code",
   "execution_count": 62,
   "metadata": {},
   "outputs": [],
   "source": [
    "def test_longestprefix(fn, test_cases):\n",
    "    passed = 0\n",
    "    total = len(test_cases)   \n",
    "    for (codes, numbers),expected in test_cases:\n",
    "        got = fn(codes, numbers)\n",
    "        if got == expected:\n",
    "            print(True)\n",
    "            passed += 1\n",
    "        else:\n",
    "            print('input : {}, expected : {} got : {}'.format(\n",
    "                 (codes, numbers), expected, got))\n",
    "    print(\"passed {} of {} tests.\".format(passed,total))"
   ]
  },
  {
   "cell_type": "code",
   "execution_count": 63,
   "metadata": {},
   "outputs": [
    {
     "name": "stdout",
     "output_type": "stream",
     "text": [
      "input : ([''], ['']), expected : [''] got : None\n",
      "input : (['TWLO'], ['+14157088956']), expected : ['+14157088956'] got : 5\n",
      "input : (['TWLO', 'CODE', 'HTCH'], ['+17474824380', '+14157088956', '+919810155555', '+15109926333', '+1415123456']), expected : ['+1415123456', '+15109926333', '+17474824380'] got : 2\n",
      "passed 0 of 3 tests.\n"
     ]
    }
   ],
   "source": [
    "test_longestprefix(longestprefix, longestprefix_TEST_CASES)"
   ]
  },
  {
   "cell_type": "markdown",
   "metadata": {},
   "source": [
    "# Discussion\n",
    "- What is the time complexity of your working solution?\n",
    "- How can you improve your code?\n",
    "- When the optimized solution would be necessary?"
   ]
  },
  {
   "cell_type": "code",
   "execution_count": null,
   "metadata": {},
   "outputs": [],
   "source": []
  }
 ],
 "metadata": {
  "kernelspec": {
   "display_name": "Python 3",
   "language": "python",
   "name": "python3"
  },
  "language_info": {
   "codemirror_mode": {
    "name": "ipython",
    "version": 3
   },
   "file_extension": ".py",
   "mimetype": "text/x-python",
   "name": "python",
   "nbconvert_exporter": "python",
   "pygments_lexer": "ipython3",
   "version": "3.7.1"
  }
 },
 "nbformat": 4,
 "nbformat_minor": 2
}
