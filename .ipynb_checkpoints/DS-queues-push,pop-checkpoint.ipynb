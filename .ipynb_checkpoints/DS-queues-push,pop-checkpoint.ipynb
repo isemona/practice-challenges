{
 "cells": [
  {
   "cell_type": "markdown",
   "metadata": {},
   "source": [
    "Stacks using arrays"
   ]
  },
  {
   "cell_type": "code",
   "execution_count": 9,
   "metadata": {},
   "outputs": [
    {
     "data": {
      "text/plain": [
       "['hello']"
      ]
     },
     "execution_count": 9,
     "metadata": {},
     "output_type": "execute_result"
    }
   ],
   "source": [
    "stacks = []\n",
    "stacks.append(\"hello\")\n",
    "stacks.append(\"there\")\n",
    "stacks.pop()\n",
    "stacks"
   ]
  },
  {
   "cell_type": "markdown",
   "metadata": {},
   "source": [
    "Stacks using LinkedList\n",
    "\n",
    "PUSHING PSEUDOCODE\n",
    "The function should accept a value\n",
    "Create a new node with that value\n",
    "If there are no nodes in the stack, set the first and last property to be the newly created node \n",
    "If there is at least one node, create a variable that stores the current first property on the stack\n",
    "Reset the first property to be the newly created node\n",
    "Set the next property on the node to be the previously created variable\n",
    "Increment the size of the stack by 1"
   ]
  },
  {
   "cell_type": "code",
   "execution_count": null,
   "metadata": {},
   "outputs": [],
   "source": []
  }
 ],
 "metadata": {
  "kernelspec": {
   "display_name": "Python 3",
   "language": "python",
   "name": "python3"
  },
  "language_info": {
   "codemirror_mode": {
    "name": "ipython",
    "version": 3
   },
   "file_extension": ".py",
   "mimetype": "text/x-python",
   "name": "python",
   "nbconvert_exporter": "python",
   "pygments_lexer": "ipython3",
   "version": "3.7.1"
  }
 },
 "nbformat": 4,
 "nbformat_minor": 2
}
