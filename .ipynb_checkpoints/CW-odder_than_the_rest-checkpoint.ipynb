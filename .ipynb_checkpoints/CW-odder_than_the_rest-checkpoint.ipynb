{
 "cells": [
  {
   "cell_type": "markdown",
   "metadata": {},
   "source": [
    "Create a method that takes an array/list as an input, and outputs the index at which the sole odd number is located.\n",
    "\n",
    "This method should work with arrays with negative numbers. If there are no odd numbers in the array, then the method should output -1."
   ]
  },
  {
   "cell_type": "code",
   "execution_count": 17,
   "metadata": {},
   "outputs": [],
   "source": [
    "def odd_one(arr):\n",
    "    for num in range(len(arr)):\n",
    "        if arr[num]%2!=0: # if the num is odd return the first index stance\n",
    "            return num\n",
    "    return -1 # otherwise return -1"
   ]
  },
  {
   "cell_type": "code",
   "execution_count": 18,
   "metadata": {},
   "outputs": [],
   "source": [
    "ODD_TEST_CASES = [\n",
    "    ([2,4,6,7,10],3),\n",
    "    ([2,16,98,10,13,78],4), \n",
    "    ([4,-8,98,-12,-7,90,100],4),\n",
    "    ([2,4,6,8],-1),\n",
    "]"
   ]
  },
  {
   "cell_type": "code",
   "execution_count": 19,
   "metadata": {},
   "outputs": [],
   "source": [
    "def test_odd_one(fn, test_cases):\n",
    "    passed = 0\n",
    "    total = len(test_cases)   \n",
    "    for num,expected in test_cases:\n",
    "        got = fn(num)\n",
    "        if got == expected:\n",
    "            print(True)\n",
    "            passed += 1\n",
    "        else:\n",
    "            print('input : {}, expected : {} got : {}'.format(\n",
    "                 num\n",
    "                , expected, got))\n",
    "    print(\"passed {} of {} tests.\".format(passed,total))"
   ]
  },
  {
   "cell_type": "code",
   "execution_count": 20,
   "metadata": {},
   "outputs": [
    {
     "name": "stdout",
     "output_type": "stream",
     "text": [
      "True\n",
      "True\n",
      "True\n",
      "True\n",
      "passed 4 of 4 tests.\n"
     ]
    }
   ],
   "source": [
    "test_odd_one(odd_one, ODD_TEST_CASES)"
   ]
  },
  {
   "cell_type": "code",
   "execution_count": null,
   "metadata": {},
   "outputs": [],
   "source": []
  },
  {
   "cell_type": "code",
   "execution_count": null,
   "metadata": {},
   "outputs": [],
   "source": []
  }
 ],
 "metadata": {
  "kernelspec": {
   "display_name": "Python 3",
   "language": "python",
   "name": "python3"
  },
  "language_info": {
   "codemirror_mode": {
    "name": "ipython",
    "version": 3
   },
   "file_extension": ".py",
   "mimetype": "text/x-python",
   "name": "python",
   "nbconvert_exporter": "python",
   "pygments_lexer": "ipython3",
   "version": "3.7.1"
  }
 },
 "nbformat": 4,
 "nbformat_minor": 2
}
