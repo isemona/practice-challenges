{
 "cells": [
  {
   "cell_type": "markdown",
   "metadata": {},
   "source": [
    "You are a product manager and currently leading a team to develop a new product. Unfortunately, the latest version of your product fails the quality check. Since each version is developed based on the previous version, all the versions after a bad version are also bad.\n",
    "\n",
    "Suppose you have n versions [1, 2, ..., n] and you want to find out the first bad one, which causes all the following ones to be bad.\n",
    "\n",
    "You are given an API bool isBadVersion(version) which will return whether version is bad. Implement a function to find the first bad version. You should minimize the number of calls to the API.\n",
    "\n",
    "Given n = 5, and version = 4 is the first bad version.\n",
    "\n",
    "call isBadVersion(3) -> false\n",
    "call isBadVersion(5) -> true\n",
    "call isBadVersion(4) -> true\n",
    "\n",
    "Then 4 is the first bad version. \n",
    "\n",
    "1 2 3 4 5 6 7\n",
    "T T F F F F F"
   ]
  },
  {
   "cell_type": "code",
   "execution_count": 10,
   "metadata": {},
   "outputs": [],
   "source": [
    "def _firstBadVersion(n):\n",
    "    # The isBadVersion API is already defined for you.\n",
    "    # @param version, an integer\n",
    "    # @return a bool\n",
    "    # def isBadVersion(version): \n",
    "    for x in range(1,n+1): # example 3,5 \n",
    "        if isBadVersion(x): \n",
    "            return x\n",
    "    return -1 \n",
    "\n",
    "    # linear scan time exceed with brute force\n",
    "    # performance time = O(n), space = not using up any data structure so O(1)"
   ]
  },
  {
   "cell_type": "code",
   "execution_count": null,
   "metadata": {},
   "outputs": [],
   "source": [
    "def firstBadVersion(self, n): # my solution\n",
    "        mid = 0\n",
    "        if n%2 == 0:\n",
    "            mid = n//2\n",
    "        else:\n",
    "            mid = (n+1)//2\n",
    "        for x in range(mid,n+1): # example 3,5\n",
    "            if isBadVersion(x):\n",
    "                return x\n",
    "        return -1"
   ]
  },
  {
   "cell_type": "code",
   "execution_count": null,
   "metadata": {},
   "outputs": [],
   "source": [
    "public int firstBadVersion(int n) {\n",
    "    int left = 1;\n",
    "    int right = n;\n",
    "    while (left < right) {\n",
    "        int mid = left + (right - left) / 2;\n",
    "        if (isBadVersion(mid)) {\n",
    "            right = mid;\n",
    "        } else {\n",
    "            left = mid + 1;\n",
    "        }\n",
    "    }\n",
    "    return left;\n",
    "}\n",
    "\n",
    "# Time complexity : O(\\log n)O(logn). The search space is halved each time, so the time complexity is O(\\log n)O(logn).\n",
    "# Space complexity : O(1)O(1)."
   ]
  },
  {
   "cell_type": "code",
   "execution_count": 12,
   "metadata": {},
   "outputs": [],
   "source": [
    "def firstBadVersion(n):\n",
    "    left = 1 # set left and right as boundaries of \n",
    "    right = n \n",
    "    while (left<right): # as long as left is always less than right which is true until both pointers meet\n",
    "        mid = left+(right-left)//2 \n",
    "        if isBadVersion(mid):\n",
    "            right = mid\n",
    "        else:\n",
    "            left = mid + 1\n",
    "    return left\n",
    "\n",
    "def firstBadVersion(n):\n",
    "    left = 4 # set left and right as boundaries of \n",
    "    right = 4 \n",
    "    while (4<4): # as long as left is always less than right which is true until both pointers meet\n",
    "        mid = 4+(5-4)//2 ==> \n",
    "        if isBadVersion(mid):\n",
    "            right = mid\n",
    "        else:\n",
    "            left = mid + 1\n",
    "    return left\n",
    "\n",
    "# Time complexity : O(\\log n)O(logn). The search space is halved each time, so the time complexity is O(\\log n)O(logn).\n",
    "# Space complexity : O(1)O(1)."
   ]
  },
  {
   "cell_type": "code",
   "execution_count": 3,
   "metadata": {},
   "outputs": [
    {
     "ename": "SyntaxError",
     "evalue": "invalid syntax (<ipython-input-3-3ad6546ad7c1>, line 2)",
     "output_type": "error",
     "traceback": [
      "\u001b[0;36m  File \u001b[0;32m\"<ipython-input-3-3ad6546ad7c1>\"\u001b[0;36m, line \u001b[0;32m2\u001b[0m\n\u001b[0;31m    (,),\u001b[0m\n\u001b[0m     ^\u001b[0m\n\u001b[0;31mSyntaxError\u001b[0m\u001b[0;31m:\u001b[0m invalid syntax\n"
     ]
    }
   ],
   "source": [
    "LCP_TEST_CASES = [\n",
    "    (,),\n",
    "    (,),\n",
    "]"
   ]
  },
  {
   "cell_type": "code",
   "execution_count": 4,
   "metadata": {},
   "outputs": [],
   "source": [
    "def test_longestCommonPrefix(fn, test_cases):\n",
    "    passed = 0\n",
    "    total = len(test_cases)   \n",
    "    for lst,expected in test_cases:\n",
    "        got = fn(lst)\n",
    "        if got == expected:\n",
    "            print(True)\n",
    "            passed += 1\n",
    "        else:\n",
    "            print('input : {}, expected : {} got : {}'.format(\n",
    "                 lst, expected, got))\n",
    "    print(\"passed {} of {} tests.\".format(passed,total))"
   ]
  },
  {
   "cell_type": "code",
   "execution_count": 5,
   "metadata": {},
   "outputs": [
    {
     "ename": "NameError",
     "evalue": "name 'longestCommonPrefix' is not defined",
     "output_type": "error",
     "traceback": [
      "\u001b[0;31m---------------------------------------------------------------------------\u001b[0m",
      "\u001b[0;31mNameError\u001b[0m                                 Traceback (most recent call last)",
      "\u001b[0;32m<ipython-input-5-38a35630fdf7>\u001b[0m in \u001b[0;36m<module>\u001b[0;34m\u001b[0m\n\u001b[0;32m----> 1\u001b[0;31m \u001b[0mtest_longestCommonPrefix\u001b[0m\u001b[0;34m(\u001b[0m\u001b[0mlongestCommonPrefix\u001b[0m\u001b[0;34m,\u001b[0m \u001b[0mLCP_TEST_CASES\u001b[0m\u001b[0;34m)\u001b[0m\u001b[0;34m\u001b[0m\u001b[0;34m\u001b[0m\u001b[0m\n\u001b[0m",
      "\u001b[0;31mNameError\u001b[0m: name 'longestCommonPrefix' is not defined"
     ]
    }
   ],
   "source": [
    "test_longestCommonPrefix(longestCommonPrefix, LCP_TEST_CASES)"
   ]
  },
  {
   "cell_type": "code",
   "execution_count": null,
   "metadata": {},
   "outputs": [],
   "source": []
  }
 ],
 "metadata": {
  "kernelspec": {
   "display_name": "Python 3",
   "language": "python",
   "name": "python3"
  },
  "language_info": {
   "codemirror_mode": {
    "name": "ipython",
    "version": 3
   },
   "file_extension": ".py",
   "mimetype": "text/x-python",
   "name": "python",
   "nbconvert_exporter": "python",
   "pygments_lexer": "ipython3",
   "version": "3.7.1"
  }
 },
 "nbformat": 4,
 "nbformat_minor": 2
}
