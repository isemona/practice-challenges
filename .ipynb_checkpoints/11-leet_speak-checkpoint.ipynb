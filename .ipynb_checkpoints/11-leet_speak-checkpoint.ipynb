{
 "cells": [
  {
   "cell_type": "markdown",
   "metadata": {},
   "source": [
    "In this exercise, you’ll make a function that translate a word to leet-speak:\n"
   ]
  },
  {
   "cell_type": "code",
   "execution_count": 75,
   "metadata": {},
   "outputs": [],
   "source": [
    "def translate_leet(phrase):\n",
    "    \"\"\"Translates input into \"leet-speak\".\"\"\"\n",
    "    \n",
    "    hash_table = {\"a\":\"@\", \"A\":\"@\", \"o\":0, \"O\":0, \"e\":3, \"E\":3, \"l\":1, \"L\":1, \"s\":5, \"S\":5, \"t\":7, \"T\":7}\n",
    "    new_phrase = []\n",
    "    for i in phrase:\n",
    "        if i in hash_table:\n",
    "            new_phrase.append(str(hash_table[i]))\n",
    "        else:\n",
    "            new_phrase.append(i)\n",
    "    #return i => this prints out e and 3 which we don't want\n",
    "    return ''.join(new_phrase)\n",
    "#     translated_phrase = ''.join(new_phrase)\n",
    "#     return translated_phrase"
   ]
  },
  {
   "cell_type": "code",
   "execution_count": 76,
   "metadata": {},
   "outputs": [
    {
     "data": {
      "text/plain": [
       "'Hi B@1100nic0rn'"
      ]
     },
     "execution_count": 76,
     "metadata": {},
     "output_type": "execute_result"
    }
   ],
   "source": [
    "translate_leet(\"Hi Balloonicorn\")"
   ]
  },
  {
   "cell_type": "code",
   "execution_count": 70,
   "metadata": {},
   "outputs": [],
   "source": [
    "TEST_CASES = [\n",
    "    (\"Hi Balloonicorn\", ('Hi B@1100nic0rn')),\n",
    "    (\"Hackbright is the Shizzle\", ('H@ckbrigh7 i5 7h3 5hizz13')),\n",
    "]"
   ]
  },
  {
   "cell_type": "code",
   "execution_count": 71,
   "metadata": {},
   "outputs": [],
   "source": [
    "def test_translate_leet(test_cases):\n",
    "    passed = 0\n",
    "    total = len(test_cases)   \n",
    "    for test_input,expected in test_cases:\n",
    "        got = translate_leet(test_input)\n",
    "        if got == expected:\n",
    "            print(True)\n",
    "            passed += 1\n",
    "        else:\n",
    "            print('input : {} expected : {} got : {}'.format(\n",
    "                test_input, expected, got))\n",
    "    print(\"passed {} of {} tests.\".format(passed,total))"
   ]
  },
  {
   "cell_type": "code",
   "execution_count": 72,
   "metadata": {},
   "outputs": [
    {
     "name": "stdout",
     "output_type": "stream",
     "text": [
      "True\n",
      "True\n",
      "passed 2 of 2 tests.\n"
     ]
    }
   ],
   "source": [
    "test_translate_leet(TEST_CASES)"
   ]
  },
  {
   "cell_type": "code",
   "execution_count": null,
   "metadata": {},
   "outputs": [],
   "source": []
  },
  {
   "cell_type": "code",
   "execution_count": null,
   "metadata": {},
   "outputs": [],
   "source": []
  }
 ],
 "metadata": {
  "kernelspec": {
   "display_name": "Python 3",
   "language": "python",
   "name": "python3"
  },
  "language_info": {
   "codemirror_mode": {
    "name": "ipython",
    "version": 3
   },
   "file_extension": ".py",
   "mimetype": "text/x-python",
   "name": "python",
   "nbconvert_exporter": "python",
   "pygments_lexer": "ipython3",
   "version": "3.7.1"
  }
 },
 "nbformat": 4,
 "nbformat_minor": 2
}
