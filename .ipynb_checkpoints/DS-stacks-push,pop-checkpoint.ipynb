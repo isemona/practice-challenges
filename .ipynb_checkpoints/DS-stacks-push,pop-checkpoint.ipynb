{
 "cells": [
  {
   "cell_type": "markdown",
   "metadata": {},
   "source": [
    "Stacks using arrays"
   ]
  },
  {
   "cell_type": "code",
   "execution_count": 9,
   "metadata": {},
   "outputs": [
    {
     "data": {
      "text/plain": [
       "['hello']"
      ]
     },
     "execution_count": 9,
     "metadata": {},
     "output_type": "execute_result"
    }
   ],
   "source": [
    "stacks = []\n",
    "stacks.append(\"hello\")\n",
    "stacks.append(\"there\")\n",
    "stacks.pop()\n",
    "stacks"
   ]
  },
  {
   "cell_type": "markdown",
   "metadata": {},
   "source": [
    "Stacks using LinkedList\n",
    "\n",
    "PUSHING PSEUDOCODE\n",
    "The function should accept a value\n",
    "Create a new node with that value\n",
    "If there are no nodes in the stack, set the first and last property to be the newly created node \n",
    "If there is at least one node, create a variable that stores the current first property on the stack\n",
    "Reset the first property to be the newly created node\n",
    "Set the next property on the node to be the previously created variable\n",
    "Increment the size of the stack by 1\n",
    "\n",
    "POP PSEUDOCODE\n",
    "If there are no nodes in the stack, return null\n",
    "Create a temporary variable to store the first property on the stack\n",
    "If there is only 1 node, set the first and last property to be null\n",
    "If there is more than one node, set the first property to be the next property on the current first\n",
    "Decrement the size by 1\n",
    "Return the value of the node removed"
   ]
  },
  {
   "cell_type": "code",
   "execution_count": null,
   "metadata": {},
   "outputs": [],
   "source": [
    "class Node {\n",
    "    constructor(value){\n",
    "        this.value = value;\n",
    "        this.next = null;\n",
    "    }\n",
    "}\n",
    "\n",
    "class Stack {\n",
    "    constructor(){\n",
    "        this.first = null;\n",
    "        this.last = null;\n",
    "        this.size = 0;\n",
    "    }\n",
    "    push(val){\n",
    "        var newNode = new Node(val);\n",
    "        if(!this.first){\n",
    "            this.first = newNode;\n",
    "            this.last = newNode;\n",
    "        } else {\n",
    "            var temp = this.first;\n",
    "            this.first = newNode;\n",
    "            this.first.next = temp;\n",
    "        }\n",
    "        return ++this.size;\n",
    "    }\n",
    "    pop(){\n",
    "        if(!this.first) return null;\n",
    "        var temp = this.first;\n",
    "        if(this.first === this.last){\n",
    "            this.last = null;\n",
    "        }\n",
    "        this.first = this.first.next;\n",
    "        this.size--;\n",
    "        return temp.value;\n",
    "    }\n",
    "}"
   ]
  }
 ],
 "metadata": {
  "kernelspec": {
   "display_name": "Python 3",
   "language": "python",
   "name": "python3"
  },
  "language_info": {
   "codemirror_mode": {
    "name": "ipython",
    "version": 3
   },
   "file_extension": ".py",
   "mimetype": "text/x-python",
   "name": "python",
   "nbconvert_exporter": "python",
   "pygments_lexer": "ipython3",
   "version": "3.7.1"
  }
 },
 "nbformat": 4,
 "nbformat_minor": 2
}
