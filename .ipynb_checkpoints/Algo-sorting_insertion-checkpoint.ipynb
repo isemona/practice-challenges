{
 "cells": [
  {
   "cell_type": "markdown",
   "metadata": {},
   "source": [
    "Write a function to find the longest common prefix string amongst an array of strings.\n",
    "If there is no common prefix, return an empty string \"\"."
   ]
  },
  {
   "cell_type": "code",
   "execution_count": 2,
   "metadata": {},
   "outputs": [
    {
     "ename": "SyntaxError",
     "evalue": "invalid syntax (<ipython-input-2-dbae5a4d144c>, line 2)",
     "output_type": "error",
     "traceback": [
      "\u001b[0;36m  File \u001b[0;32m\"<ipython-input-2-dbae5a4d144c>\"\u001b[0;36m, line \u001b[0;32m2\u001b[0m\n\u001b[0;31m    function sselectionSort(arr){\u001b[0m\n\u001b[0m                          ^\u001b[0m\n\u001b[0;31mSyntaxError\u001b[0m\u001b[0;31m:\u001b[0m invalid syntax\n"
     ]
    }
   ],
   "source": [
    "## LEGACY VERSION (non ES2015 syntax)\n",
    "function sselectionSort(arr){\n",
    "    for(var i = 0; i < arr.length; i++){\n",
    "        var lowest = i;\n",
    "        for(var j = i+1; j < arr.length; j++){\n",
    "            if(arr[j] < arr[lowest]){\n",
    "                lowest = j;\n",
    "            }\n",
    "        }\n",
    "        if(i !== lowest){\n",
    "            //SWAP!\n",
    "            var temp = arr[i];\n",
    "            arr[i] = arr[lowest];\n",
    "            arr[lowest] = temp;\n",
    "        }\n",
    "    }\n",
    "    return arr;\n",
    "}\n",
    "\n",
    "## ES2015 VERSION\n",
    "function selectionSort(arr) {\n",
    "  const swap = (arr, idx1, idx2) =>\n",
    "    ([arr[idx1], arr[idx2]] = [arr[idx2], arr[idx1]]);\n",
    "\n",
    "  for (let i = 0; i < arr.length; i++) {\n",
    "    let lowest = i;\n",
    "    for (let j = i + 1; j < arr.length; j++) {\n",
    "      if (arr[lowest] > arr[j]) {\n",
    "        lowest = j;\n",
    "      }\n",
    "    }\n",
    "    if (i !== lowest) swap(arr, i, lowest);\n",
    "  }\n",
    "\n",
    "  return arr;\n",
    "}\n",
    "\n",
    "selectionSort([0,2,34,22,10,19,17]);\n"
   ]
  },
  {
   "cell_type": "code",
   "execution_count": 68,
   "metadata": {},
   "outputs": [],
   "source": [
    "def selectionSort(lst):\n",
    "    for in in range(len(lst)):\n",
    "        \n",
    "    return lst\n"
   ]
  },
  {
   "cell_type": "code",
   "execution_count": 69,
   "metadata": {},
   "outputs": [],
   "source": [
    "SS_TEST_CASES = [\n",
    "    ([37,45,29,8],[8,29,37,45]),\n",
    "    (,),\n",
    "]"
   ]
  },
  {
   "cell_type": "code",
   "execution_count": 70,
   "metadata": {},
   "outputs": [],
   "source": [
    "def test_selectionSort(fn, test_cases):\n",
    "    passed = 0\n",
    "    total = len(test_cases)   \n",
    "    for lst,expected in test_cases:\n",
    "        got = fn(lst)\n",
    "        if got == expected:\n",
    "            print(True)\n",
    "            passed += 1\n",
    "        else:\n",
    "            print('input : {}, expected : {} got : {}'.format(\n",
    "                 lst, expected, got))\n",
    "    print(\"passed {} of {} tests.\".format(passed,total))"
   ]
  },
  {
   "cell_type": "code",
   "execution_count": 71,
   "metadata": {},
   "outputs": [
    {
     "name": "stdout",
     "output_type": "stream",
     "text": [
      "True\n",
      "True\n",
      "passed 2 of 2 tests.\n"
     ]
    }
   ],
   "source": [
    "test_selectionSort(selectionSort, SS_TEST_CASES) "
   ]
  },
  {
   "cell_type": "code",
   "execution_count": null,
   "metadata": {},
   "outputs": [],
   "source": []
  }
 ],
 "metadata": {
  "kernelspec": {
   "display_name": "Python 3",
   "language": "python",
   "name": "python3"
  },
  "language_info": {
   "codemirror_mode": {
    "name": "ipython",
    "version": 3
   },
   "file_extension": ".py",
   "mimetype": "text/x-python",
   "name": "python",
   "nbconvert_exporter": "python",
   "pygments_lexer": "ipython3",
   "version": "3.7.1"
  }
 },
 "nbformat": 4,
 "nbformat_minor": 2
}
