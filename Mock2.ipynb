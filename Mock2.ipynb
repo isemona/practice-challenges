{
 "cells": [
  {
   "cell_type": "markdown",
   "metadata": {},
   "source": [
    "Say you have an array for which the ith element is the price of a given stock on day i.\n",
    "\n",
    "If you were only permitted to complete at most one transaction (i.e., buy one and sell one share of the stock), design an algorithm to find the maximum profit.\n",
    "\n",
    "Note that you cannot sell a stock before you buy one.\n",
    "\n",
    "\n",
    "[7,1,5,3,6,4] stock prices\n",
    "[7,5,6,4,3,1]\n",
    "\n",
    "one buy and one sell in order to maximize the profit\n",
    "\n",
    "ex\n",
    "\n",
    "output: profit buy 1 sell 6 -> 5\n",
    "\n",
    "clarification, can't buy and buy another stock, only buy and then sell\n",
    "one at a time\n",
    "but and sell at the same day\n",
    "\n",
    "iterate to find the lowest number \n",
    "grab the rest of the item in the list and in an array\n",
    "max value from the list\n",
    "if the lowest number is at index == lst[-1]\n",
    "grab items before -\n",
    "\n",
    "loop over the numbers with an inner loop\n",
    "figure out the diff between the numbers\n",
    "store the difference in an array\n",
    "get the max\n",
    "return the numbers\n",
    "\n",
    "for (i = 0 -> i < stocks.length)\n",
    "   for (j = i+1 < stock.length)\n",
    "\n",
    "7\n",
    "5 \n",
    "6 (6-5) = 1\n",
    "4 (4-5) =-1\n",
    "3 (3-5) =-2\n",
    "1\n",
    "\n",
    "buy-sell\n",
    "i index -> buying\n",
    "j index -> selling\n",
    "buying - selling -> 1 - 6 -> -5 \n",
    "selling - buying -> 6 - 1 -> 5"
   ]
  },
  {
   "cell_type": "code",
   "execution_count": 7,
   "metadata": {},
   "outputs": [],
   "source": [
    "def max_profit(lst):\n",
    "    if len(set(lst)) == 1:\n",
    "        return 0\n",
    "    max_profit_list = []\n",
    "    for i in range(len(lst)):\n",
    "        for j in range(i+1,len(lst)):\n",
    "            value_difference = lst[j] - lst[i]\n",
    "            max_profit_list.append(value_difference)\n",
    "            \n",
    "    print(max_profit_list)         \n",
    "    \n",
    "    return(max(max_profit_list))"
   ]
  },
  {
   "cell_type": "code",
   "execution_count": 8,
   "metadata": {},
   "outputs": [
    {
     "name": "stdout",
     "output_type": "stream",
     "text": [
      "[-2, -1, -3, -4, -6, 1, -1, -2, -4, -2, -3, -5, -1, -3, -2]\n"
     ]
    },
    {
     "data": {
      "text/plain": [
       "1"
      ]
     },
     "execution_count": 8,
     "metadata": {},
     "output_type": "execute_result"
    }
   ],
   "source": [
    "max_profit([7,5,6,4,3,1])"
   ]
  },
  {
   "cell_type": "markdown",
   "metadata": {},
   "source": [
    "feedback\n",
    "explain nested loops\n",
    "take some think and describe, minimize random talking\n",
    "\n",
    "hint: one loop\n",
    "2 variables -> MINIMUM so far, max profit"
   ]
  },
  {
   "cell_type": "code",
   "execution_count": null,
   "metadata": {},
   "outputs": [],
   "source": []
  }
 ],
 "metadata": {
  "kernelspec": {
   "display_name": "Python 3",
   "language": "python",
   "name": "python3"
  },
  "language_info": {
   "codemirror_mode": {
    "name": "ipython",
    "version": 3
   },
   "file_extension": ".py",
   "mimetype": "text/x-python",
   "name": "python",
   "nbconvert_exporter": "python",
   "pygments_lexer": "ipython3",
   "version": "3.7.1"
  }
 },
 "nbformat": 4,
 "nbformat_minor": 2
}
