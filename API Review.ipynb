{
 "cells": [
  {
   "cell_type": "markdown",
   "metadata": {},
   "source": [
    "# RESTful API\n",
    "Representational State Transfer - follows a protocol, architectural style and approach to communications often used in web services development\n",
    "HTTP\n",
    "GET - retrieve resource\n",
    "PUT - to change state of or update a resource eg. oject, file, block\n",
    "POST - create that resource\n",
    "DELETE - remove that resource\n",
    "\n",
    "1. it uses HTTP requests to get, put, post, delete data\n",
    "2. REST leverages less bandwith, good for internet usuage\n",
    "3. an API for a website is code that allows 2 software programs to communicate with each other\n",
    "4. API spells out the proper way for a developer to write a program requesting services from other apps\n",
    "5. REST is a logical choice for building APIs that allows users to connect and interact with cloud services \n",
    "6. REST calls are stateless - means the computer or program keeps track of teh state of interaction good for cloud service computing and microservices\n",
    "\n",
    "Dan-\n",
    "- follows a protocol\n",
    "- follows database closely\n",
    "- no sub-folders\n",
    "- RPC \n",
    "- building web framework for integrations"
   ]
  },
  {
   "cell_type": "code",
   "execution_count": null,
   "metadata": {},
   "outputs": [],
   "source": []
  }
 ],
 "metadata": {
  "kernelspec": {
   "display_name": "Python 3",
   "language": "python",
   "name": "python3"
  },
  "language_info": {
   "codemirror_mode": {
    "name": "ipython",
    "version": 3
   },
   "file_extension": ".py",
   "mimetype": "text/x-python",
   "name": "python",
   "nbconvert_exporter": "python",
   "pygments_lexer": "ipython3",
   "version": "3.7.1"
  }
 },
 "nbformat": 4,
 "nbformat_minor": 2
}
