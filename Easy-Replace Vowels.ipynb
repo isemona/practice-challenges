{
 "cells": [
  {
   "cell_type": "code",
   "execution_count": 16,
   "metadata": {},
   "outputs": [],
   "source": [
    "def replace_vowels(chars):\n",
    "    \"\"\"Given list of chars, return a new copy, but with vowels replaced by '*'.\"\"\"\n",
    "    word = \"\"\n",
    "    for i in chars:\n",
    "        if i in [\"a\",\"e\",\"i\",\"o\",\"u\",\"A\",\"E\",\"I\",\"O\",\"U\"]:\n",
    "            i = '*'\n",
    "            word += i\n",
    "        else:\n",
    "            word += i\n",
    "    return list(word)"
   ]
  },
  {
   "cell_type": "code",
   "execution_count": 17,
   "metadata": {},
   "outputs": [
    {
     "data": {
      "text/plain": [
       "['h', '*']"
      ]
     },
     "execution_count": 17,
     "metadata": {},
     "output_type": "execute_result"
    }
   ],
   "source": [
    "replace_vowels(['h', 'i'])"
   ]
  },
  {
   "cell_type": "code",
   "execution_count": 18,
   "metadata": {},
   "outputs": [],
   "source": [
    "TEST_CASES = [\n",
    "    ([],[]),\n",
    "    (['h', 'i'],['h', '*']),\n",
    "    (['o', 'o', 'o'],['*', '*', '*']),\n",
    "    (['z', 'z', 'z'],['z', 'z', 'z']),\n",
    "    ([\"A\", \"b\"],['*', 'b']),\n",
    "    (\"ab\",False),\n",
    "    (\"aab\",True),\n",
    "    (\"arceace\",True),\n",
    "    (\"arceaceb\",False),\n",
    "]"
   ]
  },
  {
   "cell_type": "code",
   "execution_count": 19,
   "metadata": {},
   "outputs": [],
   "source": [
    "def test_is_anagram_of_palindrome(test_cases):\n",
    "    passed = 0\n",
    "    total = len(test_cases)   \n",
    "    for test_input,expected in test_cases:\n",
    "        got = is_anagram_of_palindrome(test_input)\n",
    "        if got == expected:\n",
    "            print(True)\n",
    "            passed += 1\n",
    "        else:\n",
    "            print(\"input : {} expected : {} got : {}\".format(\n",
    "                test_input, expected, got))\n",
    "    print(\"passed {} of {} tests.\".format(passed,total))"
   ]
  },
  {
   "cell_type": "code",
   "execution_count": null,
   "metadata": {},
   "outputs": [],
   "source": [
    "test_is_anagram_of_palindrome(TEST_CASES)"
   ]
  }
 ],
 "metadata": {
  "kernelspec": {
   "display_name": "Python 3",
   "language": "python",
   "name": "python3"
  },
  "language_info": {
   "codemirror_mode": {
    "name": "ipython",
    "version": 3
   },
   "file_extension": ".py",
   "mimetype": "text/x-python",
   "name": "python",
   "nbconvert_exporter": "python",
   "pygments_lexer": "ipython3",
   "version": "3.7.1"
  }
 },
 "nbformat": 4,
 "nbformat_minor": 2
}
