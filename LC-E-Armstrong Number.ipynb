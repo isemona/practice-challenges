{
 "cells": [
  {
   "cell_type": "code",
   "execution_count": 3,
   "metadata": {},
   "outputs": [
    {
     "name": "stdout",
     "output_type": "stream",
     "text": [
      "False\n"
     ]
    }
   ],
   "source": [
    "def isArmstrong(N):\n",
    "    \"\"\"\n",
    "    Goal - checking if the 3 digit number is equal to N\n",
    "\n",
    "    :type N: int\n",
    "    :rtype: bool\n",
    "\n",
    "    Assumption - input is valid\n",
    "    \"\"\"\n",
    "    # get the length of N, stored in a variable\n",
    "    # sum of each (loop) *** variable len_N\n",
    "    # total = 0, check if ==\n",
    "    # T/F?\n",
    "\n",
    "    len_N = len(str(N))\n",
    "    total = 0\n",
    "    for i in str(N):\n",
    "        total += int(i)**len_N\n",
    "    return total == N\n",
    "\n",
    "# N = 153\n",
    "# print(isArmstrong(153))\n",
    "\n",
    "N = 123\n",
    "print(isArmstrong(N))\n",
    "\n",
    "\n"
   ]
  },
  {
   "cell_type": "code",
   "execution_count": null,
   "metadata": {},
   "outputs": [],
   "source": []
  }
 ],
 "metadata": {
  "kernelspec": {
   "display_name": "Python 3",
   "language": "python",
   "name": "python3"
  },
  "language_info": {
   "codemirror_mode": {
    "name": "ipython",
    "version": 3
   },
   "file_extension": ".py",
   "mimetype": "text/x-python",
   "name": "python",
   "nbconvert_exporter": "python",
   "pygments_lexer": "ipython3",
   "version": "3.7.1"
  }
 },
 "nbformat": 4,
 "nbformat_minor": 2
}
