{
 "cells": [
  {
   "cell_type": "markdown",
   "metadata": {},
   "source": [
    "Count the number of items in a list, using recursion.\n",
    "\n"
   ]
  },
  {
   "cell_type": "code",
   "execution_count": 8,
   "metadata": {},
   "outputs": [],
   "source": [
    "def _count_recursively(lst):\n",
    "    \"\"\"Return number of items in a list, using recursion.\"\"\"\n",
    "    #base case\n",
    "    count = 0\n",
    "    if lst == []:\n",
    "     return 0\n",
    "    else:\n",
    "        count += 1\n",
    "    #take the first item in the list and call the function\n",
    "    return lst[0] + lst[1:]"
   ]
  },
  {
   "cell_type": "code",
   "execution_count": 11,
   "metadata": {},
   "outputs": [],
   "source": [
    "def count_recursively(lst):\n",
    "    \"\"\"Return number of items in a list, using recursion.\"\"\"\n",
    "    #base case\n",
    "    if not lst:\n",
    "     return 0\n",
    "    \n",
    "    #take the first item in the list and call the function\n",
    "    return 1 + count_recursively(lst[1:])"
   ]
  },
  {
   "cell_type": "code",
   "execution_count": 12,
   "metadata": {},
   "outputs": [
    {
     "data": {
      "text/plain": [
       "0"
      ]
     },
     "execution_count": 12,
     "metadata": {},
     "output_type": "execute_result"
    }
   ],
   "source": [
    "count_recursively([])"
   ]
  },
  {
   "cell_type": "code",
   "execution_count": 13,
   "metadata": {},
   "outputs": [
    {
     "data": {
      "text/plain": [
       "3"
      ]
     },
     "execution_count": 13,
     "metadata": {},
     "output_type": "execute_result"
    }
   ],
   "source": [
    "count_recursively([1, 2, 3])"
   ]
  },
  {
   "cell_type": "code",
   "execution_count": null,
   "metadata": {},
   "outputs": [],
   "source": []
  }
 ],
 "metadata": {
  "kernelspec": {
   "display_name": "Python 3",
   "language": "python",
   "name": "python3"
  },
  "language_info": {
   "codemirror_mode": {
    "name": "ipython",
    "version": 3
   },
   "file_extension": ".py",
   "mimetype": "text/x-python",
   "name": "python",
   "nbconvert_exporter": "python",
   "pygments_lexer": "ipython3",
   "version": "3.7.1"
  }
 },
 "nbformat": 4,
 "nbformat_minor": 2
}
